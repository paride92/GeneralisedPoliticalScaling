{
 "cells": [
  {
   "attachments": {},
   "cell_type": "markdown",
   "metadata": {},
   "source": [
    "# Preprocessing transcripts"
   ]
  },
  {
   "cell_type": "code",
   "execution_count": 1,
   "metadata": {},
   "outputs": [],
   "source": [
    "#%pip install pandarallel"
   ]
  },
  {
   "cell_type": "code",
   "execution_count": 2,
   "metadata": {},
   "outputs": [
    {
     "name": "stdout",
     "output_type": "stream",
     "text": [
      "INFO: Pandarallel will run on 2 workers.\n",
      "INFO: Pandarallel will use standard multiprocessing data transfer (pipe) to transfer data between the main process and workers.\n"
     ]
    }
   ],
   "source": [
    "# Imports\n",
    "import pickle\n",
    "import pandas as pd\n",
    "import numpy as np\n",
    "import re\n",
    "from pandarallel import pandarallel\n",
    "pandarallel.initialize(progress_bar=True)"
   ]
  },
  {
   "cell_type": "code",
   "execution_count": 3,
   "metadata": {},
   "outputs": [],
   "source": [
    "# Load transcripts from pickle\n",
    "raw_transcripts = (\n",
    "    pd.read_pickle('data/clean/subset_party_imputed_v3_2015_version.p')\n",
    "        .query('source == \"parliament\"')\n",
    "        .drop(columns = ['index'])\n",
    "    )  # TODO: change dataset after retrieval pipeline is cleaned up"
   ]
  },
  {
   "cell_type": "code",
   "execution_count": 4,
   "metadata": {},
   "outputs": [
    {
     "name": "stdout",
     "output_type": "stream",
     "text": [
      "(159723, 6)\n"
     ]
    },
    {
     "data": {
      "text/html": [
       "<div>\n",
       "<style scoped>\n",
       "    .dataframe tbody tr th:only-of-type {\n",
       "        vertical-align: middle;\n",
       "    }\n",
       "\n",
       "    .dataframe tbody tr th {\n",
       "        vertical-align: top;\n",
       "    }\n",
       "\n",
       "    .dataframe thead th {\n",
       "        text-align: right;\n",
       "    }\n",
       "</style>\n",
       "<table border=\"1\" class=\"dataframe\">\n",
       "  <thead>\n",
       "    <tr style=\"text-align: right;\">\n",
       "      <th></th>\n",
       "      <th>doc</th>\n",
       "      <th>source</th>\n",
       "      <th>start_time</th>\n",
       "      <th>full_name</th>\n",
       "      <th>level</th>\n",
       "      <th>party</th>\n",
       "    </tr>\n",
       "  </thead>\n",
       "  <tbody>\n",
       "    <tr>\n",
       "      <th>12</th>\n",
       "      <td>Tak. Danmarks kolonihistorie handler om militæ...</td>\n",
       "      <td>parliament</td>\n",
       "      <td>2019-10-03</td>\n",
       "      <td>Aki-Matilda Høegh-Dam</td>\n",
       "      <td>NaN</td>\n",
       "      <td>SIU</td>\n",
       "    </tr>\n",
       "    <tr>\n",
       "      <th>13</th>\n",
       "      <td>Jeg mener, at det er personen, der kan snakke ...</td>\n",
       "      <td>parliament</td>\n",
       "      <td>2019-10-03</td>\n",
       "      <td>Aki-Matilda Høegh-Dam</td>\n",
       "      <td>NaN</td>\n",
       "      <td>SIU</td>\n",
       "    </tr>\n",
       "    <tr>\n",
       "      <th>14</th>\n",
       "      <td>Det handler jo ikke om, hvad jeg synes. Det ha...</td>\n",
       "      <td>parliament</td>\n",
       "      <td>2019-10-03</td>\n",
       "      <td>Aki-Matilda Høegh-Dam</td>\n",
       "      <td>NaN</td>\n",
       "      <td>SIU</td>\n",
       "    </tr>\n",
       "    <tr>\n",
       "      <th>15</th>\n",
       "      <td>Jeg ved ikke, om det – når man snakker om at b...</td>\n",
       "      <td>parliament</td>\n",
       "      <td>2019-10-03</td>\n",
       "      <td>Aki-Matilda Høegh-Dam</td>\n",
       "      <td>NaN</td>\n",
       "      <td>SIU</td>\n",
       "    </tr>\n",
       "    <tr>\n",
       "      <th>16</th>\n",
       "      <td>Det er ikke noget, jeg bare mener; det er noge...</td>\n",
       "      <td>parliament</td>\n",
       "      <td>2019-10-03</td>\n",
       "      <td>Aki-Matilda Høegh-Dam</td>\n",
       "      <td>NaN</td>\n",
       "      <td>SIU</td>\n",
       "    </tr>\n",
       "  </tbody>\n",
       "</table>\n",
       "</div>"
      ],
      "text/plain": [
       "                                                  doc      source  start_time  \\\n",
       "12  Tak. Danmarks kolonihistorie handler om militæ...  parliament  2019-10-03   \n",
       "13  Jeg mener, at det er personen, der kan snakke ...  parliament  2019-10-03   \n",
       "14  Det handler jo ikke om, hvad jeg synes. Det ha...  parliament  2019-10-03   \n",
       "15  Jeg ved ikke, om det – når man snakker om at b...  parliament  2019-10-03   \n",
       "16  Det er ikke noget, jeg bare mener; det er noge...  parliament  2019-10-03   \n",
       "\n",
       "                full_name level party  \n",
       "12  Aki-Matilda Høegh-Dam   NaN   SIU  \n",
       "13  Aki-Matilda Høegh-Dam   NaN   SIU  \n",
       "14  Aki-Matilda Høegh-Dam   NaN   SIU  \n",
       "15  Aki-Matilda Høegh-Dam   NaN   SIU  \n",
       "16  Aki-Matilda Høegh-Dam   NaN   SIU  "
      ]
     },
     "execution_count": 4,
     "metadata": {},
     "output_type": "execute_result"
    }
   ],
   "source": [
    "print(raw_transcripts.shape)\n",
    "raw_transcripts.head()"
   ]
  },
  {
   "cell_type": "code",
   "execution_count": 5,
   "metadata": {},
   "outputs": [
    {
     "data": {
      "text/plain": [
       "42484     2015-07-02\n",
       "42483     2015-07-02\n",
       "42482     2015-07-02\n",
       "146643    2015-07-03\n",
       "235398    2015-07-03\n",
       "             ...    \n",
       "234429    2022-10-06\n",
       "234428    2022-10-06\n",
       "234427    2022-10-06\n",
       "234443    2022-10-06\n",
       "475590    2022-10-06\n",
       "Name: start_time, Length: 159723, dtype: object"
      ]
     },
     "execution_count": 5,
     "metadata": {},
     "output_type": "execute_result"
    }
   ],
   "source": [
    "raw_transcripts['start_time'].sort_values()"
   ]
  },
  {
   "cell_type": "code",
   "execution_count": 6,
   "metadata": {},
   "outputs": [
    {
     "data": {
      "text/plain": [
       "['Jeg synes, at statsministeren meget klart sagde fra over for et forslag, som lå helt uden for, hvad man kan acceptere fra dansk side, og jeg er også glad for, at når vi lægger tonediskussionen lidt til side, lyder det, som om vi stadig væk har Venstre på en budgetrestriktiv linje, og at vi kan blive enige om det, sådan at ministeren rejser til Bruxelles og de her vigtige forhandlinger med et stærkt mandat i ryggen.',\n",
       " 'Tak. Så det blev simpelt hen udløst af statsministerens spørgsmål om, hvor finansieringen skulle komme fra. Jeg synes ikke helt, det var et svar på mit spørgsmål om, hvorfor Venstre brød med en 30 års tradition. For er det grundlæggende ikke vigtigt, at vi giver regeringen et stærkt mandat i ryggen, når regeringen skal ud at forhandle på vegne af Danmark og danske interesser, hvilket jeg ved at Venstre også er interesseret i?',\n",
       " 'Jamen det er svaret. Altså, svaret er, at statsministeren har nægtet, finansministeren har nægtet, udenrigsministeren har nægtet at svare på, om et øget EU-budget kan finansieres, uden at det fører til skattestigninger. Så det var begrundelsen. Og når der nu bliver talt om at sende regeringen af sted med et stærkt mandat, vil jeg sige, at det jo ikke er noget stærkt mandat. Det er jo et totalt elastikmandat. Regeringen kan komme hjem med et hvilket som helst forhandlingsresultat og sige, at man har levet op til mandatet. Så et stærkt mandat er det ikke.',\n",
       " 'Tak for besvarelsen. Spørgsmålet er jo begrundet i den polemik, der har været om DIN Forsyning, som dækker Esbjerg og Varde Kommuner, som havde valgt den her løsning med, at det eneste alternativ til digital afstemning var fremmødevalg på forsyningsselskabets hovedkontor. Ved kommunalvalget sidste år havde Esbjerg Kommune 24 valgsteder, og Varde Kommune mente, at 23 valgsteder ligesom var det antal, der skulle til, for at man kunne nå ud til borgerne – 47 valgsteder i alt. Jeg er jo ligesom ministeren optaget af, at de her forbrugerrepræsentanter kommer ind i bestyrelserne med et stærkt mandat, og et mandat er alt andet lige stærkere, når man har en høj stemmeprocent og mange, der kan deltage i valget. Derfor er jeg også glad for, at ministeren gerne vil gå lidt tættere på de her forsyningsselskaber. Så jeg vil måske bare med et opfølgende spørgsmål spørge ministeren, hvad han mener med, at han vil opfordre til, at man udvider mulighederne. Er det et brev med gode ideer, man sender ud til forsyningsselskaberne, eller kan det være, at vi går lidt tættere på og definerer, hvad der egentlig skal til i forhold til at sikre, at alle kan deltage i valget til de her bestyrelser, som de jo alle sammen betaler til?',\n",
       " 'Tak for det, og tak for, hvad der vel har været en af de mest fredelige finanslovsdebatter i mands minde, og måske ender det også med at blive en af de korteste. Det tillader jeg mig at tage som et udtryk for, at det nok ikke er en så helt ringe finanslov, vi har lavet. Det er også klart, at det her er en god lejlighed til at lade julefreden sænke sig, hvis nogen skulle have lyst til det, selv om jeg ikke er så naiv, at jeg ikke tror, der vil være et par enkelte drillenisser undervejs, der sikkert vil forsøge at sige, at den her finanslov kunne have været meget bedre. Jeg tror også, for nu at starte med at være helt åbenhjertig, jeg vil sige, at den her finanslov ikke løser alt. Det er ikke en finanslov, hvor man kan sige, at nu er vi færdige med vores arbejde, men det er en finanslov, hvor vi for alvor er begyndt. For ca. 6 måneder siden valgte danskerne en ny retning for Danmark med et nyt politisk flertal, og de gav os en ny regering, som har haft et stærkt mandat i ryggen. Vi lovede hinanden, at vi ville gå forrest i kampen mod klimakrisen, at vi ville styrke vores velfærd, at vi ville satse på uddannelse. De løfter tager vi i den grad fat på at indfri i dag. Der er faktisk rigtig meget, vi kan gøre i fællesskab, når vi sætter os for at lave en ny retning for Danmark. Med den finanslovsaftale, som vi har foran os, sikrer vi, at vi kan udbygge vores velfærdssamfund i stedet for at skære ned. Vi sikrer tusind flere sygeplejersker, minimumsnormeringer i vuggestuer og børnehaver, et markant løft af vores folkeskole, en styrket indsats for de mest sårbare i vores samfund. Og vi går videre end det, for vi investerer også med de kommune- og regionsaftaler, vi har lavet, bredt i vores velfærd til gavn for vores børn, til gavn for vores ældre, til gavn for det sundhedsvæsen, som er så vigtigt for os alle sammen. Vi tager også fat på at indfri vores ambitioner, når det gælder klima- og miljøpolitik, fordi vi ønsker at sikre en grøn omstilling og en bæredygtig fremtid for vores børn og for vores børnebørn med penge til grøn forskning, en grøn fremtidsfond og mere urørt natur. Jeg vil gerne benytte lejligheden til her i dag at takke de partier, som regeringen har lavet sin finanslovsaftale med, for at have gjort det til en bedre aftale, end den var, da vi lagde vores forslag frem. Jeg mener, den er stærkere, både når det gælder velfærd, og når det gælder det grønne, end det, regeringen præsenterede. Og det er jo i virkeligheden dansk folkestyre, når det er bedst. Vi havde så også afsat en forhandlingsreserve, fordi vi godt var klar over, at der var nogle flere ting, vi gerne ville i fællesskab. Det gjorde sig gældende i forhold til vores børn, i forhold til vores ældre, i forhold til vores sundhed og i forhold til den grønne dagsorden. Men der er ingen tvivl om, at det samarbejde, vi har haft med Det Radikale Venstre, med SF, med Enhedslisten og med Alternativet er forudsætningen for, at vi nu kan sætte en ny retning for Danmark. Det glæder mig så også, at en række ordførere fra de partier, der ikke er en del af aftalen, faktisk har rost elementer i den. Jeg tror, det var fra den konservative ordførers side, at det blev sagt, at der faktisk var nogle gode ting i aftalen, og andre har fulgt op, men man har af forskellige årsager så ikke følt, at man kunne være helt med om bord. Men ligeså samlede vi har de partier, der står bag aftalen om, at vi sætter en ny retning her, har dagen i dag jo også illustreret, at der er ligeså stor forskel på, hvordan man ser dansk politik hos de partier, som ikke ønsker, at den her regering skal have ansvaret. Jeg har hørt, at Venstre, Det Konservative Folkeparti, Dansk Folkeparti og hr. Simon Emil Ammitzbøll-Bille vil stemme for finanslovsforslaget, mens Liberal Alliance og Nye Borgerlige vælger at stemme imod det. Det sidste skal jeg beklage. Jeg synes, det ville have været rart, hvis alle havde taget ansvar, så alle blå partier havde været sammen om, at her var der noget, som man trods alt, når dagen er slut og vi stemmer endeligt om tingene i morgen, hvor man kunne sige: Her står vi på mål for, at Danmark skal have en finanslov. Men jeg vil også gerne give nogle kommentarer til nogle af de indlæg, der har været. Venstres ordfører, hr. Troels Lund Poulsen, konstaterede, at det går godt i Danmark. Det er jeg helt enig i, og det vil jeg gerne sammen med Venstres ordfører glæde mig over. Derfor forstod jeg heller ikke helt det efterfølgende sortsyn om, at vi med den her finanslov gør Danmark fattigere. Jeg har hørt, at det er sådan noget, man trods alt kunne blive enige om blandt de blå partier i dag skulle være den etiket, man gerne vil sætte på den her finanslov. Der må jeg bare sige, at den her finanslov gør Danmark stærkere. Den her finanslov gør Danmark mere klar til at møde fremtiden. Den her finanslov gør Danmark bedre. For hvad er det, vi er blevet enige om? Ja, vi er blevet enige om med den nye retning, vi sætter, at det skal være slut med, at man undergraver den velfærd, som er så utrolig vigtig for langt, langt de fleste danskere. Vi sagde først med kommune- og regionsaftalerne til hinanden: Når der kommer flere børn, og når der kommer flere ældre – og det er rigtig godt og dejligt – så nytter det ikke noget, at man kun afsætter penge til det ene barn eller den ældre og lader den anden stå tilbage. Det er derfor, vi faktisk med vores aftaler med kommunerne og regionerne har valgt en helt anden vej, nemlig at sige, at pengene skal følge med. Det er rigtig, rigtig vigtigt, for det giver en mulighed for, at man nu kan begynde at bygge op ude i kommuner og regioner, hvor man i for mange år har skullet rive ned. Igen påstår jeg ikke, at vi dermed løser alle problemer i det danske samfund, men jeg siger meget klart, at her sætter vi en ny retning til gavn for Danmark og til gavn for velfærden. Vi gør det samme, når det gælder vores uddannelse. Vi investerer massivt i folkeskolen. Vi går ind og siger, at vores ungdomsuddannelser vil vi også gerne give et løft. Vi går ind og siger, at de besparelser, der var lagt op til bredt på vores af de uddannelser, også de videregående, skal stoppes. Vi siger også, at det uddannelsesloft, som rigtig mange har været bekymrede over og set som en hindring for, at de kunne få den uddannelse, der var den rigtige for dem, skulle fjernes. Derfor må jeg også i dag sige til Venstres ordfører, at det, der næsten undrer mig mest, er, at det klare løfte, der blev givet fra Venstre til danskerne i sidste valgkamp, nemlig at uddannelsesloftet ville man fjerne, hvis man fik ansvar, løber man fra i dag. Vi har endda lagt bolden på straffesparkspletten. Der er frit mål. Man skulle bare sige: »Ja, det vil vi gerne være med til«. Men da det kom til stykket, ville Venstre ikke alligevel. Jeg er bekymret for, at det ikke er sidste gang i den her valgperiode, at vi kommer til at se, at Venstre løber fra valgløfterne, for man kan nu engang kun bruge pengene én gang. Hvis man både vil bruge pengene på at give skattelettelser og på velfærd, løber man tør, og så må man prøve at sige: Nu må I vente på vores ændringsforslag og se, hvad vi helt præcis mener. Det synes jeg ikke er godt nok fra det største oppositionsparti. Til gengæld håber jeg, at vi i de kommende måneder og år vil få et rigtig godt samarbejde med Venstre på en række punkter, og det tror jeg også at vi kan få. Jeg synes sådan set, det var mere regulær og ærlig snak fra hr. Rasmus Jarlov fra De Konservative, der sagde: Jamen vi synes sådan set rigtig godt om meget af det, I foreslår, og vi synes, det er fornuftigt at styrke folkeskolen, og vi vil også gerne gøre det i forhold til andre dele af det, som den her regering har lagt frem, men da vi ikke er enige i finansieringen, og da vi godt ved – det sagde han ikke, men det tillader jeg mig at udlede af det, jeg hørte – at pengene kun kan bruges én gang, så er vi ikke parat til at stemme for de her ting, for det vil ikke være ærligt at gøre. Det synes jeg er ordentlig snak, selv om jeg havde håbet, at man havde nået en anden konklusion. Dansk Folkeparti havde i ordførertalen fra hr. René Christensen trods alt også rosende ord til regeringen. Man kvitterede for, at man havde fået en kop kaffe, og det kan jeg bekræfte. Det var i øvrigt hyggeligt at have hr. René Christensen på besøg; det håber jeg at jeg får mange andre lejligheder til, for der er godt brug for et bredt samarbejde i Folketinget, og det vil regeringen også meget gerne have med Dansk Folkeparti. Det gælder både i forhold til det her og mange andre vigtige emner. Men et af de steder, hvor jeg synes at hr. René Christensen gik galt i byen, var, hvor han sagde, at vi i den her regering ikke skulle have fokus nok på ældreområdet. Den her regering er dybt optaget af, at vi sikrer ordentlige vilkår for de ældre i Danmark, og vi er grundbekymrede over, hvad vi har set i de seneste år, hvor der i kommune efter kommune er blevet sparet og sparet på de ældre. Det er ikke, fordi de borgmestre og kommunalbestyrelsesmedlemmer, der sidder derude, synes, det er den sjoveste opgave i verden, men fordi den økonomi, der er blevet givet, har været så begrænset, at man reelt ikke har ladet pengene følge med, når der, heldigvis, kommer flere ældre. Derfor er det, der er virkeligheden omkring den her finanslov, at vi ud over det, der allerede var afsat til vores ældre, bl.a. har lagt 125 mio. kr. oveni, at vi ud over det også bredt og i fællesskab, også med partier i blå blok, har lavet en aftale om demens – det er også vigtigt – og at vi med den aftale, vi har lavet med kommunerne, samlet set giver et løft på 2,2 mia. kr., som jo betyder, at man har muligheden for at give nogle bedre vilkår for vores ældre. Pengene følger nu med, når der kommer flere børn og flere ældre, og det er vigtigt, og det er desværre også nyt, for det er ikke den virkelighed, der har været under den tidligere regering, som Dansk Folkeparti holdt hånden under. Så jeg glæder mig oprigtigt over Dansk Folkepartis engagement i forhold til de ældre, men det er simpelt hen ikke en korrekt fremstilling, når man prøver at få det til at se ud, som om den her regering bruger færre penge på de ældre, end der tidligere har været brugt. Det er tværtimod sagen, at vi bruger flere, og det er der også brug for. Når det gælder det grønne, er jeg glad for, at de fleste partier sådan set har budt ind og sagt, at det vil de gerne være med til. Jeg vil også gerne kvittere for, at man med den klimalov, der blev lavet af klima-, energi- og forsyningsministeren, har taget vigtige skridt, og vi skal endnu videre, når vi kommer til klimahandlingsplanerne til næste år. Men det er også vigtigt at sige, at det her ikke er en opgave, som vi i Folketinget eller regeringen kan løfte alene; det er en opgave, som vi i fællesskab kommer til at skulle løfte med dansk erhvervsliv, med pensionskasserne, med vores uddannelsesinstitutioner, med civilsamfundet. Hvis vi skal levere på den meget ambitiøse målsætning om reduktion på 70 pct. i 2030, kræver det, at alle trækker i den samme retning. Det er jo også en af grundene til, at det er så vigtigt, at vi her med hinanden er optaget af, at vi får erhvervslivet som partner i de kommende år, for ellers kan det ikke lykkes. Og jeg ser erhvervslivets rolle som værende at bidrage alle de steder, hvor man selvfølgelig er med til at udlede CO 2 , og at tage skridt til, at man kan gøre det bedre end i dag og bringe det ned, men også, at vi kan bruge den udfordring, vi her har givet os selv, som en løftestang til, at dansk erhvervsliv kan skabe arbejdspladser og vækst. Jeg er så meget jyde, at jeg har det udgangspunkt, at hvis man med de initiativer, vi tager her og i fællesskab med erhvervslivet, både kan bidrage til løsninger, der kan redde vores planet, og samtidig kan tjene penge og skabe arbejdspladser og vækst ude i danske virksomheder, så er det godt. Den her regering er rigtig, rigtig optaget af at skabe vækst og udvikling ude i de danske virksomheder. Det er hele forudsætningen for, at det danske samfund har den styrke, som det har. Det er fortællingen om dygtige virksomheder, dygtige ledelser, dygtige medarbejdere, der arbejder sammen hver eneste dag om at gøre tingene bedre og klogere og mere effektivt, men jo dermed også skaber muligheden for at sælge det, ikke alene i Danmark, men også uden for landets grænser. Det er vigtigt. Derfor er den her finanslov også en finanslov, der bidrager til, at vi kan styrke dansk erhvervsliv, for hvis der er noget, som vi har set som en fejl under den tidligere regering, er det jo, at man skar så meget ned på de uddannelser, som skal dygtiggøre de mennesker, der skal ind i vores virksomheder – og det gælder både i forhold til de unge selv, men også i forhold til dansk erhvervsliv. Og det er blevet kritiseret fra dansk erhvervslivs side, og nu gør vi noget ved det. Det grønne er en løftestang for at skabe vækst og job. Og vi har også valgt med den her finanslov at sige til hinanden, at der faktisk er områder, hvor der kan være brug for, at vi ser på at kunne tage også faglært arbejdskraft til Danmark, som kan sørge for at hjælpe danske virksomheder. Men samtidig med at vi gør det, skruer vi også gevaldigt op for den indsats, vi har, mod social dumping, så vi med den finanslov, der ligger her, har den stærkeste indsats, vi har set. Tingene følges ad. Der er balance. Der er tænkt over det, og sådan skal det også være. Jeg tror, det er den rette vej at gå. »Børn, børn, børn«, sagde fru Lisbeth Bech Poulsen, og jeg tror ikke, det alene er, fordi vi begge inden længe bidrager til, at det kan gå i opfyldelse. Jeg tror, det er, fordi det er noget, der virkelig optager ikke alene SF, men forhåbentlig hele Folketinget. Hvordan skaber vi de bedste rammer for vores børn? Derfor er noget af det, jeg virkelig er glad for og stolt over og gerne vil takke SF for deres bidrag til, at vi jo med den her finanslov får taget fat på og får forbedret normeringerne i vores daginstitutioner til gavn for vores mindste og sådan, at vi kan indføre minimumsnormeringer. Også her er det ikke noget, vi kan gøre med et fingerknips; det er ikke noget, der sker fra den ene dag til den næste. Men vi går i gang, og vi kommer i mål, og sådan skal det være. Et andet sted, hvor vi også virkelig skal i gang, er, når det gælder psykiatrien. Den bedste finanslov i mange år lød skudsmålet fra Enhedslistens ordfører i dag. Jeg tror, at en af grundene til, at Enhedslisten ser sådan på det, nok er det løft, vi fik givet til psykiatrien, for det har Enhedslisten om nogen været bannerfører for, selv om alt det, vi har lavet her, selvfølgelig er fælles gods. Men jeg tror også, at alle, der har været i kontakt med den psykiatri, som vi har i Danmark, hvad enten de selv har haft brug for hjælp eller har været pårørende, vil kunne sige, at der er mange, mange dygtige og engagerede både læger og sygeplejersker og andet sundhedspersonale, men vi har så meget brug for, at vi kan gøre en bedre indsats her. Det gælder i forhold til vores børn, det gælder i forhold til vores unge, og det gælder i forhold til alle de borgere, der er i kontakt med psykiatrien. Her går vi i gang med 600 mio. kr. allerede fra næste år. Igen: Kommer det til at løse alle problemer psykiatrien? Nej, men det er godt nok et løft, der har været brug for længe, fordi man i psykiatrien ligesom i det øvrige sundhedsvæsen løber alt, alt for stærkt. Det er også det, vi må tage alvorligt her. Så hørte jeg flere være inde på, at regeringen i sit oplæg til finanslov kunne have været mere ambitiøs på den grønne dagsorden. Jeg vil sige, at vi satte jo med det forståelsespapir, som vi lavede med Det Radikale Venstre, SF og Enhedslisten, en meget, meget stærk ambition, som vi nu bliver anerkendt for ude i verden, og som vi først og fremmest selv har en opgave med at gøre til virkelighed. Men jeg vil gerne også i dag takke Alternativet for, at de var med til som nogle af de allerførste at sætte ambitionen, og selv om de ikke var med i forståelsespapiret, så også for at presse på i de forhandlinger, vi har haft nu her, sådan at hvad enten det er Klimarådet eller grønne obligationer eller mange af de andre vigtige ting, som vi fik med på det grønne område, så kan Alternativet i hvert fald godt ranke ryggen og sige, at her har man været med til at levere. Jeg hørte også godt hr. Rasmus Nordqvist sige, at man er umættelig i forhold til den her dagsorden. Det kan jeg bekræfte. Men det er også rigtig, rigtig vigtigt, at ikke alene Alternativet, men alle partier i det her Folketing er utrættelige i forhold til at nå målsætningen. Og der er det virkelig vigtigt, at Alternativet og andre har vist vejen her, så tak for det. Jeg vil også gerne sige til Det Konservative Folkeparti, som jeg synes meget fair og ordentligt sagde tak for om ikke et langt samarbejde i den her sammenhæng, så i hvert fald et godt og åbenhjertigt samarbejde: Jeg tror, der er mange ting, vi vil kunne lave med hinanden i de kommende måneder og år. Jeg er også helt med på, at en af de ting, der er et finansieringselement i den aftale, vi her har lavet, nemlig bo- og gaveafgiften, ser vi forskelligt på. Vi mener fra regeringens side, at det er rimeligt, at de bredeste skuldre også bærer de største byrder, og at der er en balance i den måde, vi har arveafgifter på i det her land. Det betyder, at vi synes, det er fornuftigt, at vi ruller den lempelse tilbage, der var under en tidligere regering, som hr. Rasmus Jarlov var en del af. Det betyder ikke, at vi ikke gerne vil have en dialog med dansk erhvervsliv om det her. Der er også udpeget kloge mennesker, der skal komme med bud på, hvordan vi bedst muligt kan gøre det her, så det har den mindst mulige negative effekt på dansk erhvervsliv. Det håber jeg også man gå vil ind i en konstruktiv dialog om, og så vil jeg huske de af vore gode kollegaer, der set fra min side af salen sidder ovre på den anden side, på de gode ord, der kom fra både den tidligere skatteminister hr. Karsten Lauritzen, og fra andre sider, om, at det her ikke er noget, der kommer til at nedbryde dansk økonomi. Det tror jeg bestemt var rigtigt sagt dengang, og det tror jeg også gælder i dag. Så er der Liberal Alliance, der, som jeg forstod det, synes, at den her regering har båret sig meget ufornuftigt ad i finansloven. Man synes, at vi bruger for mange penge, og man synes, at vi bruger dem forkert. Det er jo trods alt befriende, at man kan se, at der er forskel i dansk politik, for det er fuldstændig korrekt – ikke de anklager, der kom fra hr. Ole Birk Olesen – at der er forskel på den nuværende regering og den tidligere regering, som hr. Ole Birk Olesen var en del af. Den her regering sætter velfærd først, og det, der får os til at stå op om morgenen og knokle dagen igennem og gå sent i seng om aftenen, er ikke at se på, hvor vi kan give den næste store skattelettelse, sådan at vi kan sætte en ny pokal op på hylden. Vi ser det som vores opgave at kæmpe hver evig eneste dag for noget, der måske ikke giver sølvpokaler på hylderne, men noget, der giver livskvalitet ude hos dem, der har det svært, og hos vores børn, hos vores ældre og i vores sundhedsvæsen og på vores uddannelser. Og der  er  sket et skift. Det er fuldstændig korrekt observeret: Vi vil en anden vej end hr. Ole Birk Olesen. Jeg tror faktisk, jeg i al stilfærdighed vil sige, at det har begge parter det fint med, og jeg er glad for, at vi er blevet betroet det ansvar. Lighed har jo også været en stor del af diskussionen i dag, og jeg vil bare sige, at for mig handler lighed ikke kun om Ginikoefficienter. For mig handler lighed om at lave et samfund, og det er det, Socialdemokratiet opstod for, og det er det, vi har kæmpet hele vores historie igennem for skulle blive tilfældet, nemlig et velfærdssamfund, hvor vi giver lige muligheder for børn og for resten af befolkningen, uanset om man kommer fra et hjem med mange penge eller fra et hjem med små kår. Det, vi gør med den her finanslov, er, at vi investerer i lighed i vores folkeskole, i vores daginstitutioner, i vores sundhedsvæsen – nogle af de steder, der er allermest vigtige for, om man oplever, at man har et liv i tryghed, hvor man kan udvikle sig, og hvor der også er en hånd, der kan hjælpe en, når man har brug for det. Så er det rigtigt, og jeg erkender det blankt fra denne talerstol, at vi sætter cigaretpriserne i vejret. Når man kigger på nogle af de måder, man gør det her op på, vil man se, at det vil gøre, at nogle vil have lidt mindre i pengepungen, hvis de ryger, end de ellers ville have haft. Det er rigtigt, og hvorfor gør vi så det? Ja, det gør vi, fordi vi kan se, at ikke mindst vores børn og unge i alt for stort omfang ryger, og det er, synes jeg, noget, som vi skal tage dybt, dybt alvorligt. Der er i dag lavet en aftale med gode initiativer, og regeringen byder i sagens natur det velkommen, at vi har en så dygtig sundheds- og ældreminister, og at der er et stort flertal bag. Men vi må også bare være ærlige over for hinanden og sige, at noget af det, der virkelig også har en betydning, er prisen, og derfor sætter vi den i vejret. Men vi ved også godt, at det her ikke er sort-hvidt. Der er også en side, der handler om, at hvis man sætter priserne alt for højt op, er der mennesker med små penge og også mennesker, der lever i misbrugssituationer, som vil blive særlig hårdt ramt. Derfor prøver vi også at lave det her med en høj stigning i første omgang, og så kommer der lidt senere endnu en stigning. Det er et forsøg på at finde balancer. Nye Borgerlige holdt vel en historisk kort ordførertale, der kunne opsummeres til, at regeringen tager fejl; man skulle have gjort noget andet, og at de derfor ikke stemmer for finansloven. Det var næsten en længere opsummering end talen i sig selv. Jeg er ikke overraskende ikke enig med hr. Lars Boje Mathiesen, men det er jo Nye Borgerliges ret. Jeg håber også, at vi kan få et godt samarbejde på rigtig mange områder. Jeg synes, man i mange sammenhænge faktisk har været dem, der kunne give ros til regeringen, når man syntes, at det var berettiget. Det tager vi gerne imod, og det vil vi gerne bygge videre på. Så vil jeg også gerne sige til hr. Simon Emil Ammitzbøll-Bille, at vi fra regeringens side også håber at kunne få et rigtig godt samarbejde der. Det er vigtigt for os alle. Selv om der nok er mange ting, vi ser forskelligt på, så håber jeg også, at vi kan finde nogle fælles landingsbaner. Endelig skal man også huske, at den her finanslov jo har betydning ikke alene for Danmark, men også for Grønland og Færøerne. Jeg vil gerne takke begge de grønlandske folketingsmedlemmer og også begge de færøske folketingsmedlemmer, men selvfølgelig i dag fru Aki-Matilda Høegh-Dam og hr. Edmund Joensen, for de bemærkninger, der er faldet, men for alle fires vedkommende for et rigtig godt samarbejde, hvor vi kan investere både i fællesskabet inden for rigsfællesskabet, i klima og miljø og også i at styrke det retsvæsen og den politiudøvelse, som har så stor betydning i Grønland, og også de sociale initiativer, der i den grad fortjener vores opmærksomhed i fællesskab. Jeg håber, fru Aki-Matilda Høegh-Dam snart kan se nordlyset og får en dejlig jul sammen med resten af Grønland. Jeg ved, der er mange deroppe, der glæder sig til julen. Så vil jeg sige til os alle sammen, at det godt kan være, at vi ikke kommer til at se nordlyset, men vi kan forhåbentlig se nogle andre lys i fællesskab, og det håber jeg debatten her kan bidrage til. Så med de ord vil jeg sige tak.',\n",
       " 'Jamen det er jo godt at høre, at ministeren vil lytte til debatten og vil gå konstruktivt ind i udvalgsarbejdet. Og så håber jeg rigtig meget, at vi så kan komme til en enighed. Det er jo lidt svært, djævelen befinder sig nogle gange i detaljen, men jeg håber, at vi kan få en situation, hvor vi kan ende med, at det er et samlet Folketing, som giver den danske regering et stærkt mandat til at kæmpe for åbenhed, for det er der virkelig, virkelig behov for, desværre, i den situation, vi befinder os i i dag.',\n",
       " 'Tak for det. Igen vil jeg også tage de positive briller på og høre det, som ordføreren siger er positivt. Jeg kunne godt høre, at det selvfølgelig kommer til at handle meget om økonomien. Vi har taget noget økonomi med – det kunne man også have ladet være med, men så havde alle ordførere nok stået heroppe og sagt: Hvordan skal man overhovedet finansiere det her, og hvordan skal man lave noget? Men det, jeg hører at ordføreren siger, er jo ret interessant, fordi ordføreren nu også er ordfører for regeringspartiet, for ministeren sagde jo også, at man er enig i intentionerne. Men det, der så er vigtigt i udvalgsarbejdet, er jo egentlig at finde ud af, hvordan vi får givet regeringen et stærkt mandat til at arbejde med det her. Vi står faktisk med op imod 4 mio. ton plast, der vælter ud i verdenshavene, og vi ved, hvor det kommer fra. Så er det rigtigt, at det kommer fra nogle lande, hvor der kan være nogle udfordringer, men hvis man bare tager Yangtzefloden i Kina, bor der altså en halv milliard mennesker langs Yangtzefloden, som ikke har kloakering og ikke har affaldshåndtering; de bruger floden til bl.a. at komme af med deres plastik. Og derfor må man jo sige, at det er et kinesisk problem, men det er det bare ikke – det er et globalt problem. Derfor vil jeg bare spørge ordføreren, om man i udvalgsarbejdet ikke kan hente et mandat fra sit parti til, at vi kan arbejde med, hvordan man måske kunne lave en bred aftale om, at det er det her, vi skal arbejde med. Så kan det godt være, at der er nogle udfordringer i forhold til finansieringen, men vi har jo også et møde nu i FN, og vi har verdensmålene. Der er jo masser af steder, hvor man – indtil man får løst udfordringen med affaldshåndtering – kan arbejde for, at vi ikke accepterer, at forureningen fra de her ti floder ender i verdenshavene.',\n",
       " 'Det ville altså være uretfærdigt at bruge måske 170 mio. kr. mere ud af 16 mia. kr. på at mindske plastik i verdenshavene, mener fru Marie Bjerre. Det mener vi bestemt ikke det er. Hvis man læser forslaget, står der faktisk: »Folketinget pålægger regeringen at tage initiativ til at målrette en større del af udviklingsbistanden til miljøtiltag, som markant mindsker udledningen af plastik til verdenshavene fra de ti floder med størst forekomst af plastikaffald.«  Vi har jo heller ikke lagt os fast på, at det er alle 170 mio. kr., der skal bruges på det. Det vil vi jo gerne diskutere. Det kan være, at vi afsætter 50 mio. kr. Det kan også være, at vi slet ikke afsætter nogen penge, men simpelt hen giver en regering et meget, meget stærkt mandat til, når vi i FN-systemet snakker udviklingsbistand, at arbejde for at gå til kilden, hvor vi ved plastikken kommer fra. Jeg tror, alle har set interviewet fra TV 2, hvor journalisten kunne gå hen over vandet, og det kan vi da ikke leve med.',\n",
       " 'Igen er jeg jo glad for, at ordføreren også på Enhedslistens vegne egentlig mener, at indholdet sådan set er godt nok, og derfor vil jeg også spørge ordføreren om noget mere. For man kan også gøre mere med et beslutningsforslag, når man arbejder med det i udvalget, og så kunne det jo være ret interessant, hvis vi kunne blive enige om at give regeringen et stærkt mandat, altså pålægge regeringen at arbejde for det her. Måske har man lagt mærke til, at meget af det baggrundsmateriale, som vi henviser til, faktisk er fra 2018 og 2019 – så det er jo ikke gammel viden, hvor man i mange år har vidst, at det lige var de her ti floder, som bidrager med op mod 90 pct. af plastik i verdenshavene. Og derfor kunne det være interessant, hvis vi i fællesskab i forbindelse med udvalgsarbejdet kunne arbejde frem mod at få givet regeringen et stærkt mandat i forhold til de fora, som regeringen kommer i, for at lægge et pres på de her lande og måske også lægge pres på dem i forhold til at komme med løsningsforslag. Vi har ikke selv løsningsforslag til, hvordan man samler det op, og det var derfor, vi også ville have sat nogle penge af til det.',\n",
       " 'Det vil jeg gerne kvittere for. Jeg håber også, at Det Konservative Folkeparti vil være aktiv i forbindelse med behandlingen i udvalget, således at vi måske kunne lave en bred aftale om at give den nuværende regering et stærkt mandat i forhold til at arbejde med de her udfordringer. Jeg vil gerne fortælle, hvorfor Dansk Folkeparti har kigget på eventuelt at skabe noget finansiering i forhold til udviklingsbistanden. Det er jo netop, fordi vi kan se, at konsekvenserne af den forurening, der sker, faktisk slår hårdest igennem i de lande, som vi kan se folk bl.a. flygter fra. Det er det afrikanske kontinent. Det er derfor, vi så har valgt at sige, at vi faktisk mener, at en miljøindsats netop på plastikområdet indirekte også er en hjælp til de her lande, som er modtagere af pengene i dag. Men jeg vil gerne takke for ordførertalen, som jeg synes var meget konstruktiv.',\n",
       " 'Tak for det. Jeg tror såmænd, at Alternativet og Dansk Folkeparti er enige om intentionerne: Vi skal have mindre plast i verdenshavene. Så kan man jo diskutere, hvor man skal gøre det. Skal man gå efter fiskenet? Skal man gå efter andet? Man skal jo sådan set gå efter det hele. Derfor er jeg måske lidt forundret over, at man ikke kan se noget fornuft i at gå efter de steder, hvor vi ved at hovedparten kommer fra, altså de her ti floder. Ordføreren sagde også, at det vigtigste med udviklingsbistanden er, at den går til fattigdomsbekæmpelse. En af de største udfordringer i forhold til fattigdom er jo fødevaremangel. Når man kan konstatere, at 3 milliarder mennesker får ca. 20 pct. af deres animalske protein fra fisk, og man kan se, at fiskebestandene bliver mindre, både på grund af overfiskeri, som ordføreren omtaler, men også fordi verdenshavene bliver forurenet, så undrer det mig lidt, at man ikke er mere positiv over for forslaget. Men det, jeg vil spørge om, er: Er ordføreren indstillet på i forbindelse med udvalgsarbejdet at arbejde frem imod, at man kan finde hinanden og lave et bredt flertal, som sørger for at få givet regeringen et stærkt mandat til også at arbejde for – når vi nu ved, hvor kilderne er – at man internationalt i en kort periode, indtil vi får styr på det på land, får opsamlet det plast, som kommer fra de her ti floder?',\n",
       " 'Det har jeg sådan set godt forstået, og det er der også flere partier der har sagt i forhold til finansieringen. Men er ordføreren ikke enig i, at når vi nu ved, at hovedparten af det plastik, der ender i verdenshavene, kommer fra ti floder, så skal vi have givet den til enhver tid siddende danske regering et stærkt mandat fra Folketinget, som siger, at hver gang det er muligt – om det er verdensmålene, vi taler om, om det er i FN, vi er – hvor det end er henne i verden, vi sender vores ministre ud, så skal de have et mandat med, hvor de tager hånd om at lægge et pres på de her lande, specielt Kina, hvor en halv milliard mennesker leder forurening direkte ud i bl.a. Yangtzefloden. Det mandat skal vi give regeringen med, og så må man jo finde ud af, hvordan man så arbejder med det økonomisk, hvis vi ikke kan blive enige om det. Men er ordføreren ikke enig i, at det er en kæmpestor udfordring, at de her ti floder leverer en så stor del af mængden af plastik, som vi finder i verdenshavene?',\n",
       " 'Tak for det. Det er ikke så tit, at Socialdemokratiet, Nye Borgerlige og Alternativet er i samme båd. Det er man her, og man vil ikke bruge ulandsbistand til at gøre noget ved det. Det har Dansk Folkeparti forstået. Det har alle ordførere, der har været på talerstolen, sagt. Så det, jeg bare vil spørge om, er, om ordføreren i forbindelse med udvalgsarbejdet vil være indstillet på at indgå i en dialog om, hvordan vi på en anden måde kan give regeringen et stærkt mandat, netop for, som ordføreren siger, at få lagt et pres på de her lande og få stoppet den her udledning af plastik, som netop kommer, fordi man ikke har en ordentlig affaldshåndtering, kloakering osv. Og det er jo muligheden ved et beslutningsforslag; at ende med en beretning, hvor vi lægger det pres på en til enhver tid siddende regering. Er ordføreren indstillet på at indgå i det arbejde?',\n",
       " 'Det sidste bliver jeg da sådan set glad for at høre, for det, jeg så forstår, er, at det, man mener i Liberal Alliance, også er, at det selvfølgelig er et problem, at der kommer så meget plast i verdenshavene. Det er vi sådan set enige om. Så kan vi være uenige om, hvordan man skal finansiere det, og derfor vil jeg bare spørge ordføreren, når vi nu skal behandle det her i udvalget, om Liberal Alliance vil gå aktivt ind i det og finde ud af, hvordan vi også kan give regeringen et stærkt mandat. Det behøver jo faktisk ikke at koste noget. Men det handler om, at man, hver eneste gang man har mulighed for det, bl.a. når man har samtaler med Kina, også får lagt pres på, for at Kina bliver nødt til at få styr på den forureningskilde, som der bl.a. kommer fra Yangtzefloden, hvor op imod en halv milliard mennesker bruger naturen som losseplads. Er Liberal Alliance enig i, at det er en udfordring for alle, og at det også er en udfordring i forhold til flygtningestrømme?',\n",
       " 'Tak for det, formand. Jeg kan kun bakke op om det, som Venstres ordfører sagde, nemlig at vi tager L 164 tilbage i udvalget mellem anden- og tredjebehandlingen, og det er faktisk rigtig sørgeligt, at vi bliver nødt til det. Det, der er mest sørgeligt, er jo det, som den socialdemokratiske ordfører sagde, nemlig at når der endelig kommer noget grønt, vil man ikke stemme for, men jeg vil sige, at når man endelig vil lave noget grønt, vil man ikke invitere de andre partier indenfor. Der har ikke været inviteret et eneste borgerligt parti indenfor for at lave den grønne aftale, man kunne have lavet om § 3-områder. Der er faktisk § 3-områder, som bør tages ud af drift. Vi har også stillet et ændringsforslag, hvor vi bl.a. siger, at der er områder, der skal pilles ud. Vi mener faktisk, at den her lovgivning kunne være ganske udmærket, men regeringen vælger at sige, at man til de grønne forslag har fået et så stærkt mandat, at man bare vil tromle resten af Folketinget, at man ikke engang vil tale med resten af Folketinget, når man skal lave naturpolitik. Det er simpelt hen ikke i orden. Det er ikke i orden, at man tager naturen som gidsel i det her. Det, der kan komme til at ske – og det er sket før – er, at der nu kan sidde en rød regering og bruge sin magt til at gennemføre det, og så kan der komme en blå regering og bruge sin magt til at pille det ud igen, og hvor meget natur har vi så fået? Intet. Men hvis man nu lavede en bred aftale, hvis man nu ville tale med hinanden om, hvordan vi laver nogle grønne løsninger, kunne det faktisk godt være, at både landmænd og naturen kunne komme ud som vindere i sådan en sag. Jeg synes, det er ærgerligt, at vi har en minister, et Socialdemokrati, en rød blok, som ikke vil lave naturpolitik med andre partier end sig selv. Og hvorfor vil man ikke det? Det er, fordi man vil have den her kamp. Der skal være de gode og de onde, og den eneste, der taber, er naturen. Jeg synes, det er sørgeligt, at vi skal stå her ved andenbehandlingen og tale om § 3-natur, som virkelig er noget natur, der skal beskyttes, og så skal det tilbage til udvalget. Jeg håber virkelig, at ministeren tager det alvorligt og overvejer en gang til, om man ikke skulle lave en bred aftale, så de her naturområder også kunne være beskyttet i fremtiden. Det er en sørgelig dag, men vi støtter selvfølgelig, at forslaget bliver taget tilbage.',\n",
       " 'Tak for det, formand. Ja, så står vi her med beslutningsforslag nr. B 4 om, at vi permanent skal suspendere budgetloven. Generelt er det jo sådan, at hvis man indgår en aftale, skal man også overholde den, for ellers har vi ikke et aftalesystem i Danmark. Det synes vi sådan set er vigtigt. Jeg synes, det er et godt system, vi har i Danmark, hvor den til hver en tid siddende finansminister har et stærkt mandat fra Folketinget til at kunne forhandle med kommuner og regioner, og kommuner og regioner kommer ind med et stærkt mandat fra regionerne og kommunerne, og så kan man lave en aftale. Vi må så sige, at vi desværre på et tidspunkt så, at de aftaler faktisk ikke blev overholdt så godt. Det viste sig, at der var meget store overskridelser i forhold til de budgetter, der var lagt. Vi synes, budgetloven var meget firkantet, da man lavede den, og det synes vi stadig væk lidt. Vi mener helt klart, at fortiden har fortalt os, at der er et behov for at have et system til at kunne sanktionere også, hvis ikke kommunerne og regionerne overholder den aftale, der er indgået med den til hver en tid siddende regering. Og det er jo det, budgetloven gør. Så tror jeg også, man skal være opmærksom på – og det er ikke for at pege fingre ad nogen, for sådan har det altid været – at når man laver finanslov og andre aftaler, lægger man 3½ mia. kr. ud, mener jeg det er, og så kan man puste op, hvor mange milliarder man putter ud til kommuner og regioner, og det har blå regeringer også gjort. Så man kan sige, at når likviditeten vokser derude, er det jo ikke bare velfærdskroner, der ikke er kommet ud til velfærd, for noget af det er også likviditetstilskud, måske også til nogle kommuner, der ikke har haft så stort behov for at få et likviditetstilskud, hvorfor pengene så ligger ude i kommunernes kasser. Det er en billig måde at lave politik på for regeringen, for det koster ikke noget. Om de 3½ mia. kr. ligger i statskassen, eller om de ligger i kommunekassen, betyder ikke noget, men så kan man puste sine budgetter op, i forhold til når man skal tale med omverdenen. Så det vil selvfølgelig være en udfordring, hvis man pludselig slipper over 50 mia. kr. løs derude – særlig nu. Det vil give enorme flaskehalse og store udfordringer for det private. Et eller andet sted synes jeg egentlig, at beslutningsforslaget sådan set rammer rigtigt ned i noget, altså hvordan vi styrer kommunerne. En kommune har måske besluttet sig for at bygge en skole, måske til 250 mio. kr. – det kan en skole godt koste i dag – men så sker der noget, det skubber sig, og pludselig har det skubbet sig i 2 år, og hvordan sikrer man sig så, at de penge sådan set stadig væk er til rådighed inden for den budgetperiode, som man arbejder med? Så i forbindelse med forslaget, som det ligger, vil jeg sige, at jeg ikke synes, man skal suspendere det her permanent. Nu skal man jo passe på, for der er 98 kommuner, og hvordan har man den dialog? Hvis en kommune er i gang med et stort velfærdsbyggeri, det kunne være en skole, ældrebolig eller andet, så kan det flytte sig, og skulle man så ikke have nogle muligheder for at skubbe det foran sig på en måde, uden at det påvirker ens anlægsbudget, eksempelvis til året efter? Det kunne være tilfældet for en kommune, der så skubber det frem til året efter, men så kan der være en anden kommune, der ikke kan gøre noget, men som måske har det samme behov for at bygge eller drifte noget andet. Så jeg synes egentlig, at beslutningsforslaget går ind i en debat, som er rigtig, men at suspendere det fuldstændig tror jeg faktisk heller ikke er en god idé. Hvis man spørger KL i et lukket rum, tror jeg faktisk heller ikke, at det er det ønske, de har, hvis jeg skal være helt ærlig, altså at økonomien bare bliver fuldstændig fri, og at man ikke på en eller anden måde også kan overholde de aftaler, som man har indgået med en regering, for der vil være nogle kommuner, der bare vil sige, at nu er de sat fri, nu kører de på frihjul, og så ødelægger man faktisk det fællesskab, som der er. Vi har en god måde at aftale kommunernes økonomi på. Så kan man være politisk uenig i prioriteringerne, det er jeg fuldstændig enig i, men systemet og den ramme, som vi gør det indenfor, er vi faktisk godt tilfreds med.',\n",
       " 'Tak for det, formand. Også tak for forslaget. Det er jo et sympatisk forslag, og det tager ét produkt op. Det kunne være alle mulige andre produkter også, men tøj er jo sådan et produkt, der bliver umoderne, og hvis ikke det bliver solgt, ryger det til forbrænding. Det her handler egentlig om cirkulær økonomi. Jeg synes jo egentlig, at man skulle tage diskussionen på en helt anden måde, når vi snakker den her grønne omstilling og cirkulære økonomi, for man kunne også sidde her i en finanslovsforhandling eller noget andet, og så skal man bruge nogle penge, og så siger man: Man kan godt låne penge, det er faktisk ikke så dyrt i øjeblikket, fordi renten er lav. Og hvorfor er den det? Det er den jo, fordi centralbankerne bare printer penge hele tiden og sælger obligationer. Bare der er vækst i samfundet. Bare der er vækst i samfundet, kan vi bruge alle de penge, vi vil, for vi skal ikke blive betale dem tilbage. Det er det, der skaber vækst. Det skaber faktisk vækst at producere en hel masse, vi ikke bruger, men smider ud. Det skaber noget vækst. Det gør, at vi kan bruge nogle penge på noget andet. Det er den diskussion, vi bliver nødt til at tage. Men jeg er helt enig i forslaget her. Det er en kæmpe udfordring for os, at vi bruger masser af energi, vi bruger masser af ressourcer, særlig hvis man tager sådan noget som bomuldstøj, er det noget af det, der virkelig koster ressourcer, og så viser det sig, at det aldrig bliver brugt. Det er jo ingen cirkulær økonomi, det er cirkulær nul, fordi produktet aldrig nogen sinde bliver brugt, og så går det til forbrænding. Jeg er sådan set meget enig med nogle af de foregående ordfører i, at det her med at gå enegang i Danmark får vi nok ikke noget fornuftigt ud af. Vi får nok ikke ret meget klima ud af det, fordi markedet flytter sig bare et andet sted hen og man kan købe sine ting over nettet, hvis det bliver dyrere at købe tøj i Danmark. Men tankesættet bag det her beslutningsforslag er jeg meget enig i, og man burde egentlig gøre det bredere til at omfatte også andre produkter og få tænkt den der cirkulære økonomi ind i det, altså, hvordan vi tænker forbrug, ikke kun i Danmark, men for den sags skyld i hele verden. Og så bliver der altså en lille smule mindre vækst, og så kan det faktisk godt være, at man kommer til at skulle afdrage på gæld, som man også som nationalstat stifter. Så jeg håber egentlig meget, at vi sådan kan blive på forslaget her, for jeg har hørt de andre ordførere, og så tænker jeg næsten, at der kunne blive et flertal for det, og at man faktisk godt kunne skrive noget fornuftigt i en beretning om, hvordan vi vil arbejde med det her i Danmark, og dermed give den til enhver tid siddende minister et meget, meget stærkt mandat til at arbejde med, hvordan vi sikrer, at vi faktisk reelt får mere cirkulær økonomi. For vi kan godt lave cirkulær økonomi på det, vi har brugt, men hvis mængden af det, der ikke bliver brugt, næsten er lige så stor, så har vi fat i den forkerte ende af de udfordringer, som vi står over for. Så jeg håber, at det er et forslag, som vi først skal bruge tid på i udvalget, hvor jeg tilfældigvis også selv er formand, og hvor vi kan prøve at arbejde med, hvordan vi kunne lave noget, og måske også få et flertal, så vi kunne give den til enhver tid siddende minister et stærkt mandat til at arbejde var det her. For med den position, vi har, mener jeg helt klart også, at vi skal gå EU-vejen og se på, hvordan EU-landene kan gøre det. Og jeg vil bare sige, at vi jo før i det her Folketing har fået gode idéer, som vi også har fået igennem i EU-systemet, så hvorfor kunne vi ikke også få det i forhold til cirkulær økonomi. Så tak for forslaget. Vi stemmer ikke ja til det, som det ligger her, men jeg tror bestemt, vi kan få noget positivt ud af det, også politisk.',\n",
       " \"Tak for det. Danmark har i en række år bidraget til fred og stabilitet i verdens brændpunkter. Det er sket med bred opbakning fra Folketinget. Det engagement ønsker regeringen at fortsætte og udvide med relevante og efterspurgte bidrag. Det handler om at bekæmpe terror og om at undgå et øget migrationspres, og det handler om at understøtte maritim sikkerhed til gavn for den kommercielle skibstrafik. Det sker dels med en større pakke til NATO's mission i Irak, der bl.a. indeholder en chef for missionen og et antal militære bidrag, dels med en indsats i Hormuzstrædet, der omfatter et skibsbidrag og et stabsofficerbidrag til den europæisk ledede maritime overvågningsmission. Vi skal bidrage til de to indsatser af flere årsager. I forhold til Irak handler det først og fremmest om at bakke op om den fortsatte indsats mod terrororganisationen ISIL. ISIL udgør fortsat en trussel, selv om det geografiske kalifat nu er nedkæmpet. ISIL søger at fortsætte sit virke med sin uhyrlige ideologi og ikke mindst som inspirator for ustabilitet og terrorangreb, også uden for Mellemøsten. Vi vil støtte kampen mod ISIL ved at rådgive og træne de irakiske sikkerhedsstyrker, så de i fremtiden kan varetage Iraks egen sikkerhed. I forhold til indsatsen i Hormuzstrædet handler det om at bidrage til fri og sikker sejlads gennem en styrket maritim overvågning i området. Som verdens femtestørste søfartsnation er det noget, Danmark har en klar interesse i. Dermed vil Danmark bidrage substantielt til at øge sikkerheden i den bredere region. Der er behov for begge typer bidrag. Sikkerhedssituationen i Irak og i den bredere region er bekymrende. Vi har i den seneste tid set overgreb på civilbefolkningen, angreb på koalitionens lejre og personale og terrorangreb. I Hormuzstrædet kan spændingsniveauet hurtigt ændre sig med øget risiko for skibstrafikken til følge. Som altid når vi udsender soldater, er soldaternes sikkerhed i fokus. Det er ikke ufarlige missioner eller indsættelsesområder, vi sender danske soldater ud til. Vi skal selvsagt være meget bevidste om netop det. Truslen var også høj, da Folketinget sendte soldater til Al Asad-luftbasen. Vores soldater er uddannede og klar til de udfordringer, som opgaverne vil kræve af dem. Med indsatsen i Irak understreger vi, at Danmark fortsat er et kernemedlem i NATO. NATO er et fællesskab, og i et fællesskab skal man også bidrage. De konkrete bidrag til Irak og Hormuzstrædet skal ses i sammenhæng med det store danske engagement i regionen i form af støtte til udviklings- og stabiliseringsindsatser og humanitær bistand. Og i den sammenhæng vil jeg gerne fremhæve, at der på Forsvarsministeriets område og gennem det eksisterende freds- og stabiliseringsprogram for Irak og Syrien ydes bidrag til eksempelvis minerydning og rådgivning på sikkerhedsområdet. Jeg håber, at der her i Folketinget vil være bred opbakning til bidragene, og det gør jeg, fordi det har stor betydning for de soldater, som vi sender ud, at de har et stærkt mandat. Indsatserne er både i Danmark, Europa og regionens interesse. Danmark tager ansvar, ikke kun herhjemme, men også for sikkerhedsudfordringerne i Europas nærområder. Tak for ordet.\"]"
      ]
     },
     "execution_count": 6,
     "metadata": {},
     "output_type": "execute_result"
    }
   ],
   "source": [
    "query_string = 'stærkt mandat'\n",
    "\n",
    "[doc for doc in raw_transcripts['doc'] if query_string in doc][:30]"
   ]
  },
  {
   "cell_type": "code",
   "execution_count": 7,
   "metadata": {},
   "outputs": [],
   "source": [
    "def remove_phrases(doc, harshness = 'low'):\n",
    "    \"\"\"\n",
    "    Remove phrases from a lowercased document.\n",
    "    \"\"\"\n",
    "    \n",
    "    if harshness == 'high':\n",
    "        # Remove names – requires uppercase and is thus done separately!\n",
    "        name_pattern = r'(?:[Hh]r\\. |[Ff]ru |[Ff]røken )[A-ZÆØÅ][a-zæøå]+(?:-[A-ZÆØÅ][a-zæøå]+)?(?:\\s[A-ZÆØÅ][a-zæøå]+)*(?:-[A-ZÆØÅ][a-zæøå]+)?(?:\\s[A-ZÆØÅ][a-zæøå]+)*(?:-[A-ZÆØÅ][a-zæøå]+)? '\n",
    "        doc = re.sub(name_pattern, '', doc)\n",
    "\n",
    "        # Remove party names\n",
    "        party_pattern = r'Socialdemokrat[ietsrnes]*|Venstre[s]*|Dansk Folkeparti[s]*|Enhedslisten[s]*|SF[s]*|Konservative[s]*|Radikale Venstre[s]*|De Radikale[s]*|Radikale[s]*|Nye Borgerlige[s]*|Liberal Alliance[s]*|Alternativet[s]*|Frie Grønne[s]*'\n",
    "        doc = re.sub(party_pattern, '', doc)\n",
    "\n",
    "    doc = doc.lower()\n",
    "\n",
    "    # Remove procedural thank yous of different kinds\n",
    "    politeness_pattern = r'^[\\w\\s,]*tak[\\w\\s,]*. |^tak'\n",
    "    doc = re.sub(politeness_pattern, '', doc)\n",
    "\n",
    "    # remove superfluous whitespace\n",
    "    doc = re.sub(r'\\s+', ' ', doc)\n",
    "    \n",
    "    return doc\n"
   ]
  },
  {
   "cell_type": "code",
   "execution_count": 10,
   "metadata": {},
   "outputs": [],
   "source": [
    "test_doc = 'Tak, fru formand. Spørgsmålet fra SFs formand er ret enkelt. Er fru Pernille Vermund enig i at indføre brugerbetaling? Det er vel De Radikales politik?'"
   ]
  },
  {
   "cell_type": "code",
   "execution_count": 11,
   "metadata": {},
   "outputs": [
    {
     "data": {
      "text/plain": [
       "'spørgsmålet fra formand er ret enkelt. er enig i at indføre brugerbetaling? det er vel politik?'"
      ]
     },
     "execution_count": 11,
     "metadata": {},
     "output_type": "execute_result"
    }
   ],
   "source": [
    "remove_phrases(test_doc, harshness='high')"
   ]
  },
  {
   "cell_type": "code",
   "execution_count": 58,
   "metadata": {},
   "outputs": [
    {
     "name": "stderr",
     "output_type": "stream",
     "text": [
      "[nltk_data] Downloading package punkt to\n",
      "[nltk_data]     /Users/mathiasbruun/nltk_data...\n",
      "[nltk_data]   Package punkt is already up-to-date!\n",
      "[nltk_data] Downloading package wordnet to\n",
      "[nltk_data]     /Users/mathiasbruun/nltk_data...\n",
      "[nltk_data]   Package wordnet is already up-to-date!\n",
      "[nltk_data] Downloading package omw-1.4 to\n",
      "[nltk_data]     /Users/mathiasbruun/nltk_data...\n",
      "[nltk_data]   Package omw-1.4 is already up-to-date!\n",
      "[nltk_data] Downloading package stopwords to\n",
      "[nltk_data]     /Users/mathiasbruun/nltk_data...\n",
      "[nltk_data]   Package stopwords is already up-to-date!\n",
      "[nltk_data] Downloading package averaged_perceptron_tagger to\n",
      "[nltk_data]     /Users/mathiasbruun/nltk_data...\n",
      "[nltk_data]   Package averaged_perceptron_tagger is already up-to-\n",
      "[nltk_data]       date!\n"
     ]
    }
   ],
   "source": [
    "import re\n",
    "import string\n",
    "import nltk\n",
    "for dependency in ['punkt', 'wordnet', 'omw-1.4', 'stopwords', 'averaged_perceptron_tagger']:\n",
    "    nltk.download(dependency)\n",
    "\n",
    "def preproc_docs(text, harshness = 'low'):\n",
    "    #Lowercasing words\n",
    "    text = text.lower()\n",
    "    \n",
    "    #Removing HTML tag\n",
    "    text = re.sub(r'&amp', '', text)\n",
    "\n",
    "    #Replace \"&\" with \"and\"\n",
    "    text = re.sub(r'&','and', text)\n",
    "    \n",
    "    #Removing punctuation\n",
    "    text = text.translate(str.maketrans('', '', string.punctuation.replace('-',''))) #Taking hyphens out of punctuation to remove\n",
    "    text = re.sub(r' - ','', text) #removing dash lines bounded by whitespace (and therefore not part of a word)\n",
    "    text = re.sub(r'…', '', text)\n",
    "    text = re.sub(r'[â€˜â€™â€œâ€â€”]','',text) #removing punctuation that is not captured by string.punctuation\n",
    "\n",
    "    #Removing numbers\n",
    "    text = re.sub(r'[0-9.]','', text)\n",
    "\n",
    "    # Removing idiosynchratic characters in our data\n",
    "    text = re.sub(r'-\\n|\\n-|\\na-|\\nb-|â€“|Â«|--|’', '', text)\n",
    "    text = re.sub(r'- ', ' ', text)\n",
    "\n",
    "    #Removing separators and superfluous whitespace\n",
    "    text = text.strip()\n",
    "    text = re.sub(r' +',' ',text)\n",
    "\n",
    "    return text"
   ]
  },
  {
   "cell_type": "code",
   "execution_count": 65,
   "metadata": {},
   "outputs": [],
   "source": [
    "# function to get number of words in a string\n",
    "def get_word_count(text):\n",
    "    return len(text.split())\n",
    "\n",
    "def preproc_pipeline(raw_transcripts, harshness = 'low'):\n",
    "\n",
    "    # Minimal preproc: lowercase, remove punctuation, remove numbers, remove separators, remove superfluous whitespace\n",
    "    if harshness == 'low':\n",
    "        raw_transcripts['doc'] = raw_transcripts['doc'].parallel_apply(preproc_docs)\n",
    "\n",
    "    # Moderate preproc: minimal preproc + remove thank yous/procedural fluff + remove very short docs\n",
    "    if harshness == 'moderate':\n",
    "        raw_transcripts['doc'] = raw_transcripts['doc'].parallel_apply(lambda x: remove_phrases(x, harshness='low'))\n",
    "        raw_transcripts['doc'] = raw_transcripts['doc'].parallel_apply(lambda x: preproc_docs(x))\n",
    "\n",
    "        raw_transcripts['word_count'] = raw_transcripts['doc'].parallel_apply(lambda x: get_word_count(x))\n",
    "        raw_transcripts = raw_transcripts.loc[raw_transcripts.word_count > 10].reset_index(drop=True)\n",
    "\n",
    "    # Harsh preproc: moderate preproc + remove names, remove party names\n",
    "    if harshness == 'high':\n",
    "        raw_transcripts['doc'] = raw_transcripts['doc'].parallel_apply(lambda x: remove_phrases(x, harshness='high'))\n",
    "        raw_transcripts['doc'] = raw_transcripts['doc'].parallel_apply(lambda x: preproc_docs(x))\n",
    "\n",
    "        raw_transcripts['word_count'] = raw_transcripts['doc'].parallel_apply(lambda x: get_word_count(x))\n",
    "        raw_transcripts = raw_transcripts.loc[raw_transcripts.word_count > 10].reset_index(drop=True)\n",
    "\n",
    "    return raw_transcripts"
   ]
  },
  {
   "cell_type": "code",
   "execution_count": 66,
   "metadata": {},
   "outputs": [
    {
     "data": {
      "application/vnd.jupyter.widget-view+json": {
       "model_id": "e6bd96f8ebe04e7c899f337406b762d0",
       "version_major": 2,
       "version_minor": 0
      },
      "text/plain": [
       "VBox(children=(HBox(children=(IntProgress(value=0, description='0.00%', max=79862), Label(value='0 / 79862')))…"
      ]
     },
     "metadata": {},
     "output_type": "display_data"
    },
    {
     "data": {
      "application/vnd.jupyter.widget-view+json": {
       "model_id": "6221115dedd643caa0a9058a00f547c9",
       "version_major": 2,
       "version_minor": 0
      },
      "text/plain": [
       "VBox(children=(HBox(children=(IntProgress(value=0, description='0.00%', max=79862), Label(value='0 / 79862')))…"
      ]
     },
     "metadata": {},
     "output_type": "display_data"
    },
    {
     "data": {
      "application/vnd.jupyter.widget-view+json": {
       "model_id": "90456142458a4b4497dec84dcf6d2013",
       "version_major": 2,
       "version_minor": 0
      },
      "text/plain": [
       "VBox(children=(HBox(children=(IntProgress(value=0, description='0.00%', max=79862), Label(value='0 / 79862')))…"
      ]
     },
     "metadata": {},
     "output_type": "display_data"
    },
    {
     "data": {
      "application/vnd.jupyter.widget-view+json": {
       "model_id": "2dfc8af6061144cd86221697b5330850",
       "version_major": 2,
       "version_minor": 0
      },
      "text/plain": [
       "VBox(children=(HBox(children=(IntProgress(value=0, description='0.00%', max=79862), Label(value='0 / 79862')))…"
      ]
     },
     "metadata": {},
     "output_type": "display_data"
    },
    {
     "data": {
      "application/vnd.jupyter.widget-view+json": {
       "model_id": "2eb86a5afd964f80ae2d166565204a9b",
       "version_major": 2,
       "version_minor": 0
      },
      "text/plain": [
       "VBox(children=(HBox(children=(IntProgress(value=0, description='0.00%', max=79862), Label(value='0 / 79862')))…"
      ]
     },
     "metadata": {},
     "output_type": "display_data"
    },
    {
     "data": {
      "application/vnd.jupyter.widget-view+json": {
       "model_id": "8ff5850d24064acd929ea1e22eaec4c5",
       "version_major": 2,
       "version_minor": 0
      },
      "text/plain": [
       "VBox(children=(HBox(children=(IntProgress(value=0, description='0.00%', max=79862), Label(value='0 / 79862')))…"
      ]
     },
     "metadata": {},
     "output_type": "display_data"
    },
    {
     "data": {
      "application/vnd.jupyter.widget-view+json": {
       "model_id": "0a6e7888506245e58ea7be3249bf3e97",
       "version_major": 2,
       "version_minor": 0
      },
      "text/plain": [
       "VBox(children=(HBox(children=(IntProgress(value=0, description='0.00%', max=79862), Label(value='0 / 79862')))…"
      ]
     },
     "metadata": {},
     "output_type": "display_data"
    }
   ],
   "source": [
    "# Minimal preproc\n",
    "transcripts_low = preproc_pipeline(raw_transcripts, harshness = 'low')\n",
    "\n",
    "# Moderate preproc\n",
    "transcripts_moderate = preproc_pipeline(raw_transcripts, harshness = 'moderate')\n",
    "\n",
    "# Harsh preproc\n",
    "transcripts_high = preproc_pipeline(raw_transcripts, harshness = 'high')"
   ]
  },
  {
   "cell_type": "code",
   "execution_count": 83,
   "metadata": {},
   "outputs": [
    {
     "data": {
      "text/plain": [
       "132913"
      ]
     },
     "execution_count": 83,
     "metadata": {},
     "output_type": "execute_result"
    }
   ],
   "source": [
    "transcripts_high.doc.head(50)\n",
    "\n",
    "len(transcripts_moderate)"
   ]
  },
  {
   "cell_type": "code",
   "execution_count": 73,
   "metadata": {},
   "outputs": [],
   "source": [
    "# increase pandas print length \n",
    "pd.set_option('display.max_colwidth', 100)"
   ]
  },
  {
   "cell_type": "code",
   "execution_count": 84,
   "metadata": {},
   "outputs": [],
   "source": [
    "transcripts_low.to_pickle('data/clean/preprocessed_docs_2015_low.p')\n",
    "transcripts_moderate.to_pickle('data/clean/preprocessed_docs_2015_moderate.p')\n",
    "transcripts_high.to_pickle('data/clean/preprocessed_docs_2015_high.p')"
   ]
  },
  {
   "cell_type": "code",
   "execution_count": 95,
   "metadata": {},
   "outputs": [
    {
     "data": {
      "text/plain": [
       "['pølsesnak',\n",
       " '-timersreglen hvor er de billige boliger som disse mennesker skal bo i når de ikke længere har råd til at bo der hvor de bor nu alle spørgsmål bliver besvaret med endeløs pølsesnak om at det skal kunne betale sig at arbejde og at hvis det kan det kommer der også flere i arbejde men det tror dansk folkeparti og deres kollegaer jo ikke engang selv på mennesker bliver fattigere efter regeringens egne tal men man forventer kun at kommer i arbejde – måske det viser jo bare at det ikke er det det drejer sig om den virkelige dagsorden er en anden det drejer sig om at skaffe råderum til skattelettelser det behøver vi ikke at diskutere det fremgår af forligsteksten at hr kristian thulesen dahl og går rundt og siger noget andet er der jo ikke så meget at gøre ved det må de selv rydde op i men dagsordenen er jo også at trykke mindstelønnen alle økonomer uanset politisk observans er enige om at der er en sammenhæng mellem de laveste sociale ydelser og mindstelønnen når de sociale ydelser bliver trykket nedad følger lønnen med ned det er en økonomisk lovmæssighed i et markedssamfund det siger sig selv alle ved at utrygheden blandt lønmodtagerne vokser i takt med at hullerne i det sociale sikkerhedsnet bliver større så har arbejdsgiverne let spil lønmodtagerne tør ikke stille krav og lønnen følger med ned det er jo så en dejlig svikmølle som de borgerlige partier får sat i gang der for når det så er lykkedes over tid at få trykket lønnen ned igen er forskellen blevet for lille hvorefter vi igen skal høre på råbet om at det skal kunne betale sig at arbejde så man kan få sat ydelserne endnu længere ned så meget respekt for de lavtlønnede er der i det lovforslag på trods af at dem der har fremsat det ikke taler om andet end respekt for dem der går på arbejde hver dag de kan ikke forklare hvordan de lavtlønnede dog skulle blive rigere af at deres arbejdsløse kollegaer bliver fattigere især ikke når den lavtlønnede selv i en uheldig situation bliver fyret på grund af virksomhedslukning eller rationaliseringer og bliver ramt af nøjagtig de samme regler jeg tror egentlig at beskæftigelsesministeren har sagt det meget godt det er respekt for arbejdsmarkedets parter han glemmer bare lige at det kun er den ene part der synes det er at udvise respekt at gennemføre sådan et lovforslag nemlig dansk arbejdsgiverforening lo vil meget have sig frabedt den form for respekt fordi de ved det er en dødsspiral for lønmodtagerne så det er det det kan koges ned til alt det her med respekt det er respekt for dansk arbejdsgiverforening og for de mennesker i det her land der i forvejen har det godt og som kommer til at nyde godt af de skattelettelser som blå blok sandsynligvis bliver enige om at aftale på et tidspunkt men debatten slutter ikke her den fortsætter i folketinget den fortsætter ude i samfundet og den vil tage til i styrke efterhånden som konsekvenserne viser sig enhedslisten vil sørge for at dansk folkeparti bliver gjort politisk ansvarlige de kunne have forhindret dette skammelige overgreb på nogle af de mest udsatte borgere hvis de ville vi har stillet ændringsforslag der kunne sikre at syge og mennesker med handicap ikke bliver ramt af de her hårde regler det ville dansk folkeparti ikke støtte så vi vil gøre dansk folkeparti ansvarlig for hvert eneste eksempel på syge og handicappede mennesker der får ødelagt deres økonomi og deres liv på grund af det her lovforslag vi vil holde dansk folkeparti ansvarlig for hver eneste stigning i antallet af udsættelser og antallet af hjemløse og antallet af fattige til gengæld vil jeg gerne sige en stor tak til socialdemokraterne til de radikale til alternativet og til socialistisk folkeparti for den fælles kamp vi har ført mod det her lovforslag jeg er helt enig med socialdemokraternes formand mette frederiksen når hun siger at dansk folkeparti svigter de svageste derfor er jeg så også rigtig ked af at socialdemokraterne og de radikale ikke vil følges med enhedslisten alternativet og sf når vi i vores betænkningsbidrag lover at fjerne denne skammelige lov så snart lejligheden byder sig jeg forstår det simpelt hen ikke man må vel stille det spørgsmål – og nogen vil nok gøre det – om vi ikke hvis ikke vi både lover at fjerne den her lov og rent faktisk også gør det bliver ramt af den samme kritik som vi retter imod dansk folkeparti nemlig at vi så svigter de svageste jeg håber virkelig at socialdemokraterne og de radikale ombestemmer sig hurtigst muligt vi er nødt til at tænde et lys i mørket vi er nødt til at give et håb til de mange mennesker der bliver ramt af den her lovgivning og som ikke har nogen mulighed for at forsvare sig imod den og et håb hos de mange lønmodtagere der har et arbejde men som kan se at trygheden smuldrer vi er nødt til at prøve at skabe en tro på at en anden politik er mulig og jeg synes det må være rigtigt at vi i en samlet rød blok – det er måske lidt en overdrivelse hvad farven angår men alligevel – lover de mennesker at vi retter op på det ved først givne lejlighed tak for ordet']"
      ]
     },
     "execution_count": 95,
     "metadata": {},
     "output_type": "execute_result"
    }
   ],
   "source": [
    "[t for t in transcripts_low.doc if 'pølsesnak' in t][:10]"
   ]
  },
  {
   "cell_type": "code",
   "execution_count": null,
   "metadata": {},
   "outputs": [],
   "source": []
  }
 ],
 "metadata": {
  "kernelspec": {
   "display_name": "Python 3",
   "language": "python",
   "name": "python3"
  },
  "language_info": {
   "codemirror_mode": {
    "name": "ipython",
    "version": 3
   },
   "file_extension": ".py",
   "mimetype": "text/x-python",
   "name": "python",
   "nbconvert_exporter": "python",
   "pygments_lexer": "ipython3",
   "version": "3.7.12"
  },
  "orig_nbformat": 4
 },
 "nbformat": 4,
 "nbformat_minor": 2
}
