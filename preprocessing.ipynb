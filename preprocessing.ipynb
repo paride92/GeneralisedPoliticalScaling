{
 "cells": [
  {
   "attachments": {},
   "cell_type": "markdown",
   "metadata": {},
   "source": [
    "# Preprocessing transcripts"
   ]
  },
  {
   "cell_type": "code",
   "execution_count": 84,
   "metadata": {},
   "outputs": [],
   "source": [
    "#%pip install pandarallel"
   ]
  },
  {
   "cell_type": "code",
   "execution_count": 17,
   "metadata": {},
   "outputs": [
    {
     "name": "stdout",
     "output_type": "stream",
     "text": [
      "INFO: Pandarallel will run on 2 workers.\n",
      "INFO: Pandarallel will use standard multiprocessing data transfer (pipe) to transfer data between the main process and workers.\n"
     ]
    }
   ],
   "source": [
    "# Imports\n",
    "import pickle\n",
    "import pandas as pd\n",
    "import numpy as np\n",
    "import re\n",
    "from pandarallel import pandarallel\n",
    "pandarallel.initialize(progress_bar=True)"
   ]
  },
  {
   "cell_type": "code",
   "execution_count": 18,
   "metadata": {},
   "outputs": [],
   "source": [
    "# Load transcripts from pickle\n",
    "raw_transcripts = (\n",
    "    pd.read_pickle('data/clean/subset_party_imputed_v3_2015_version.p')\n",
    "        .query('source == \"parliament\"')\n",
    "        .drop(columns = ['index'])\n",
    "    )  # TODO: change dataset after retrieval pipeline is cleaned up"
   ]
  },
  {
   "cell_type": "code",
   "execution_count": 19,
   "metadata": {},
   "outputs": [
    {
     "name": "stdout",
     "output_type": "stream",
     "text": [
      "(159723, 6)\n"
     ]
    },
    {
     "data": {
      "text/html": [
       "<div>\n",
       "<style scoped>\n",
       "    .dataframe tbody tr th:only-of-type {\n",
       "        vertical-align: middle;\n",
       "    }\n",
       "\n",
       "    .dataframe tbody tr th {\n",
       "        vertical-align: top;\n",
       "    }\n",
       "\n",
       "    .dataframe thead th {\n",
       "        text-align: right;\n",
       "    }\n",
       "</style>\n",
       "<table border=\"1\" class=\"dataframe\">\n",
       "  <thead>\n",
       "    <tr style=\"text-align: right;\">\n",
       "      <th></th>\n",
       "      <th>doc</th>\n",
       "      <th>source</th>\n",
       "      <th>start_time</th>\n",
       "      <th>full_name</th>\n",
       "      <th>level</th>\n",
       "      <th>party</th>\n",
       "    </tr>\n",
       "  </thead>\n",
       "  <tbody>\n",
       "    <tr>\n",
       "      <th>12</th>\n",
       "      <td>Tak. Danmarks kolonihistorie handler om militæ...</td>\n",
       "      <td>parliament</td>\n",
       "      <td>2019-10-03</td>\n",
       "      <td>Aki-Matilda Høegh-Dam</td>\n",
       "      <td>NaN</td>\n",
       "      <td>SIU</td>\n",
       "    </tr>\n",
       "    <tr>\n",
       "      <th>13</th>\n",
       "      <td>Jeg mener, at det er personen, der kan snakke ...</td>\n",
       "      <td>parliament</td>\n",
       "      <td>2019-10-03</td>\n",
       "      <td>Aki-Matilda Høegh-Dam</td>\n",
       "      <td>NaN</td>\n",
       "      <td>SIU</td>\n",
       "    </tr>\n",
       "    <tr>\n",
       "      <th>14</th>\n",
       "      <td>Det handler jo ikke om, hvad jeg synes. Det ha...</td>\n",
       "      <td>parliament</td>\n",
       "      <td>2019-10-03</td>\n",
       "      <td>Aki-Matilda Høegh-Dam</td>\n",
       "      <td>NaN</td>\n",
       "      <td>SIU</td>\n",
       "    </tr>\n",
       "    <tr>\n",
       "      <th>15</th>\n",
       "      <td>Jeg ved ikke, om det – når man snakker om at b...</td>\n",
       "      <td>parliament</td>\n",
       "      <td>2019-10-03</td>\n",
       "      <td>Aki-Matilda Høegh-Dam</td>\n",
       "      <td>NaN</td>\n",
       "      <td>SIU</td>\n",
       "    </tr>\n",
       "    <tr>\n",
       "      <th>16</th>\n",
       "      <td>Det er ikke noget, jeg bare mener; det er noge...</td>\n",
       "      <td>parliament</td>\n",
       "      <td>2019-10-03</td>\n",
       "      <td>Aki-Matilda Høegh-Dam</td>\n",
       "      <td>NaN</td>\n",
       "      <td>SIU</td>\n",
       "    </tr>\n",
       "  </tbody>\n",
       "</table>\n",
       "</div>"
      ],
      "text/plain": [
       "                                                  doc      source  start_time  \\\n",
       "12  Tak. Danmarks kolonihistorie handler om militæ...  parliament  2019-10-03   \n",
       "13  Jeg mener, at det er personen, der kan snakke ...  parliament  2019-10-03   \n",
       "14  Det handler jo ikke om, hvad jeg synes. Det ha...  parliament  2019-10-03   \n",
       "15  Jeg ved ikke, om det – når man snakker om at b...  parliament  2019-10-03   \n",
       "16  Det er ikke noget, jeg bare mener; det er noge...  parliament  2019-10-03   \n",
       "\n",
       "                full_name level party  \n",
       "12  Aki-Matilda Høegh-Dam   NaN   SIU  \n",
       "13  Aki-Matilda Høegh-Dam   NaN   SIU  \n",
       "14  Aki-Matilda Høegh-Dam   NaN   SIU  \n",
       "15  Aki-Matilda Høegh-Dam   NaN   SIU  \n",
       "16  Aki-Matilda Høegh-Dam   NaN   SIU  "
      ]
     },
     "execution_count": 19,
     "metadata": {},
     "output_type": "execute_result"
    }
   ],
   "source": [
    "print(raw_transcripts.shape)\n",
    "raw_transcripts.head()"
   ]
  },
  {
   "cell_type": "code",
   "execution_count": 20,
   "metadata": {},
   "outputs": [
    {
     "data": {
      "text/plain": [
       "42484     2015-07-02\n",
       "42483     2015-07-02\n",
       "42482     2015-07-02\n",
       "146643    2015-07-03\n",
       "235398    2015-07-03\n",
       "             ...    \n",
       "234429    2022-10-06\n",
       "234428    2022-10-06\n",
       "234427    2022-10-06\n",
       "234443    2022-10-06\n",
       "475590    2022-10-06\n",
       "Name: start_time, Length: 159723, dtype: object"
      ]
     },
     "execution_count": 20,
     "metadata": {},
     "output_type": "execute_result"
    }
   ],
   "source": [
    "raw_transcripts['start_time'].sort_values()"
   ]
  },
  {
   "cell_type": "code",
   "execution_count": 21,
   "metadata": {},
   "outputs": [
    {
     "data": {
      "text/plain": [
       "3151"
      ]
     },
     "execution_count": 21,
     "metadata": {},
     "output_type": "execute_result"
    }
   ],
   "source": [
    "query_string = 'Konservative Folkeparti'\n",
    "\n",
    "len([doc for doc in raw_transcripts['doc'] if query_string in doc])#[:30]"
   ]
  },
  {
   "cell_type": "code",
   "execution_count": 22,
   "metadata": {},
   "outputs": [],
   "source": [
    "def remove_phrases(doc, harshness = 'low'):\n",
    "    \"\"\"\n",
    "    Remove phrases from a lowercased document.\n",
    "    \"\"\"\n",
    "    \n",
    "    if harshness == 'high':\n",
    "        # Remove names – requires uppercase and is thus done separately!\n",
    "        name_pattern = r'(?:[Hh]r\\. |[Ff]ru |[Ff]røken )[A-ZÆØÅ][a-zæøå]+(?:-[A-ZÆØÅ][a-zæøå]+)?(?:\\s[A-ZÆØÅ][a-zæøå]+)*(?:-[A-ZÆØÅ][a-zæøå]+)?(?:\\s[A-ZÆØÅ][a-zæøå]+)*(?:-[A-ZÆØÅ][a-zæøå]+)? '\n",
    "        doc = re.sub(name_pattern, '', doc)\n",
    "\n",
    "        # Remove party names\n",
    "        party_pattern = r'Socialdemokrat[ietsrnes]*|Venstre[s]*|Dansk Folkeparti[s]*|Enhedslisten[s]*|SF[s]*|Socialistiske|Konservative Folkeparti[s]*|Konservative[s]*|Radikale Venstre[s]*|De Radikale[s]*|Radikale[s]*|Nye Borgerlige[s]*|Liberal Alliance[s]*|Alternativet[s]*|Frie Grønne[s]*'\n",
    "        doc = re.sub(party_pattern, '', doc)\n",
    "\n",
    "    doc = doc.lower()\n",
    "\n",
    "    # Remove procedural thank yous of different kinds\n",
    "    politeness_pattern = r'^[\\w\\s,]*tak[\\w\\s,]*. |^tak|tak for ordet'\n",
    "    doc = re.sub(politeness_pattern, '', doc)\n",
    "\n",
    "    # remove superfluous whitespace\n",
    "    doc = re.sub(r'\\s+', ' ', doc)\n",
    "    \n",
    "    return doc\n"
   ]
  },
  {
   "cell_type": "code",
   "execution_count": 23,
   "metadata": {},
   "outputs": [],
   "source": [
    "test_doc = 'Tak, fru formand. Spørgsmålet fra SFs formand er ret enkelt. Liberal Alliance er her også. Er fru Pernille Vermund enig i at indføre brugerbetaling? Det er vel De Radikales politik?'\n",
    "test_doc = 'SF, de Radikale, Konservatives ordfører. Liberal Alliance, Liberal Alliance. Liberal Alliance. Tak for ordet.'"
   ]
  },
  {
   "cell_type": "code",
   "execution_count": 24,
   "metadata": {},
   "outputs": [
    {
     "data": {
      "text/html": [
       "<div>\n",
       "<style scoped>\n",
       "    .dataframe tbody tr th:only-of-type {\n",
       "        vertical-align: middle;\n",
       "    }\n",
       "\n",
       "    .dataframe tbody tr th {\n",
       "        vertical-align: top;\n",
       "    }\n",
       "\n",
       "    .dataframe thead th {\n",
       "        text-align: right;\n",
       "    }\n",
       "</style>\n",
       "<table border=\"1\" class=\"dataframe\">\n",
       "  <thead>\n",
       "    <tr style=\"text-align: right;\">\n",
       "      <th></th>\n",
       "      <th>doc</th>\n",
       "      <th>source</th>\n",
       "      <th>start_time</th>\n",
       "      <th>full_name</th>\n",
       "      <th>level</th>\n",
       "      <th>party</th>\n",
       "    </tr>\n",
       "  </thead>\n",
       "  <tbody>\n",
       "    <tr>\n",
       "      <th>12</th>\n",
       "      <td>Tak. Danmarks kolonihistorie handler om militæ...</td>\n",
       "      <td>parliament</td>\n",
       "      <td>2019-10-03</td>\n",
       "      <td>Aki-Matilda Høegh-Dam</td>\n",
       "      <td>NaN</td>\n",
       "      <td>SIU</td>\n",
       "    </tr>\n",
       "    <tr>\n",
       "      <th>13</th>\n",
       "      <td>Jeg mener, at det er personen, der kan snakke ...</td>\n",
       "      <td>parliament</td>\n",
       "      <td>2019-10-03</td>\n",
       "      <td>Aki-Matilda Høegh-Dam</td>\n",
       "      <td>NaN</td>\n",
       "      <td>SIU</td>\n",
       "    </tr>\n",
       "    <tr>\n",
       "      <th>14</th>\n",
       "      <td>Det handler jo ikke om, hvad jeg synes. Det ha...</td>\n",
       "      <td>parliament</td>\n",
       "      <td>2019-10-03</td>\n",
       "      <td>Aki-Matilda Høegh-Dam</td>\n",
       "      <td>NaN</td>\n",
       "      <td>SIU</td>\n",
       "    </tr>\n",
       "    <tr>\n",
       "      <th>15</th>\n",
       "      <td>Jeg ved ikke, om det – når man snakker om at b...</td>\n",
       "      <td>parliament</td>\n",
       "      <td>2019-10-03</td>\n",
       "      <td>Aki-Matilda Høegh-Dam</td>\n",
       "      <td>NaN</td>\n",
       "      <td>SIU</td>\n",
       "    </tr>\n",
       "    <tr>\n",
       "      <th>16</th>\n",
       "      <td>Det er ikke noget, jeg bare mener; det er noge...</td>\n",
       "      <td>parliament</td>\n",
       "      <td>2019-10-03</td>\n",
       "      <td>Aki-Matilda Høegh-Dam</td>\n",
       "      <td>NaN</td>\n",
       "      <td>SIU</td>\n",
       "    </tr>\n",
       "    <tr>\n",
       "      <th>...</th>\n",
       "      <td>...</td>\n",
       "      <td>...</td>\n",
       "      <td>...</td>\n",
       "      <td>...</td>\n",
       "      <td>...</td>\n",
       "      <td>...</td>\n",
       "    </tr>\n",
       "    <tr>\n",
       "      <th>475586</th>\n",
       "      <td>Det burde jo så være kulturministeren, jeg sti...</td>\n",
       "      <td>parliament</td>\n",
       "      <td>2022-06-09</td>\n",
       "      <td>Zenia Stampe</td>\n",
       "      <td>NaN</td>\n",
       "      <td>RV</td>\n",
       "    </tr>\n",
       "    <tr>\n",
       "      <th>475587</th>\n",
       "      <td>Jeg er meget glad for, at Det Konservative Fol...</td>\n",
       "      <td>parliament</td>\n",
       "      <td>2022-06-09</td>\n",
       "      <td>Zenia Stampe</td>\n",
       "      <td>NaN</td>\n",
       "      <td>RV</td>\n",
       "    </tr>\n",
       "    <tr>\n",
       "      <th>475588</th>\n",
       "      <td>Nej, man kan ikke en til en sende en refunderi...</td>\n",
       "      <td>parliament</td>\n",
       "      <td>2022-06-09</td>\n",
       "      <td>Zenia Stampe</td>\n",
       "      <td>NaN</td>\n",
       "      <td>RV</td>\n",
       "    </tr>\n",
       "    <tr>\n",
       "      <th>475589</th>\n",
       "      <td>Jeg vil gerne starte med at kvittere for det g...</td>\n",
       "      <td>parliament</td>\n",
       "      <td>2022-10-06</td>\n",
       "      <td>Zenia Stampe</td>\n",
       "      <td>NaN</td>\n",
       "      <td>RV</td>\n",
       "    </tr>\n",
       "    <tr>\n",
       "      <th>475590</th>\n",
       "      <td>Ja, det er det nye omprioriteringsbidrag, som ...</td>\n",
       "      <td>parliament</td>\n",
       "      <td>2022-10-06</td>\n",
       "      <td>Zenia Stampe</td>\n",
       "      <td>NaN</td>\n",
       "      <td>RV</td>\n",
       "    </tr>\n",
       "  </tbody>\n",
       "</table>\n",
       "<p>159723 rows × 6 columns</p>\n",
       "</div>"
      ],
      "text/plain": [
       "                                                      doc      source  \\\n",
       "12      Tak. Danmarks kolonihistorie handler om militæ...  parliament   \n",
       "13      Jeg mener, at det er personen, der kan snakke ...  parliament   \n",
       "14      Det handler jo ikke om, hvad jeg synes. Det ha...  parliament   \n",
       "15      Jeg ved ikke, om det – når man snakker om at b...  parliament   \n",
       "16      Det er ikke noget, jeg bare mener; det er noge...  parliament   \n",
       "...                                                   ...         ...   \n",
       "475586  Det burde jo så være kulturministeren, jeg sti...  parliament   \n",
       "475587  Jeg er meget glad for, at Det Konservative Fol...  parliament   \n",
       "475588  Nej, man kan ikke en til en sende en refunderi...  parliament   \n",
       "475589  Jeg vil gerne starte med at kvittere for det g...  parliament   \n",
       "475590  Ja, det er det nye omprioriteringsbidrag, som ...  parliament   \n",
       "\n",
       "        start_time              full_name level party  \n",
       "12      2019-10-03  Aki-Matilda Høegh-Dam   NaN   SIU  \n",
       "13      2019-10-03  Aki-Matilda Høegh-Dam   NaN   SIU  \n",
       "14      2019-10-03  Aki-Matilda Høegh-Dam   NaN   SIU  \n",
       "15      2019-10-03  Aki-Matilda Høegh-Dam   NaN   SIU  \n",
       "16      2019-10-03  Aki-Matilda Høegh-Dam   NaN   SIU  \n",
       "...            ...                    ...   ...   ...  \n",
       "475586  2022-06-09           Zenia Stampe   NaN    RV  \n",
       "475587  2022-06-09           Zenia Stampe   NaN    RV  \n",
       "475588  2022-06-09           Zenia Stampe   NaN    RV  \n",
       "475589  2022-10-06           Zenia Stampe   NaN    RV  \n",
       "475590  2022-10-06           Zenia Stampe   NaN    RV  \n",
       "\n",
       "[159723 rows x 6 columns]"
      ]
     },
     "execution_count": 24,
     "metadata": {},
     "output_type": "execute_result"
    }
   ],
   "source": [
    "raw_transcripts"
   ]
  },
  {
   "cell_type": "code",
   "execution_count": 25,
   "metadata": {},
   "outputs": [
    {
     "data": {
      "application/vnd.jupyter.widget-view+json": {
       "model_id": "40ac8303dace4b82ab694f436d434457",
       "version_major": 2,
       "version_minor": 0
      },
      "text/plain": [
       "VBox(children=(HBox(children=(IntProgress(value=0, description='0.00%', max=79862), Label(value='0 / 79862')))…"
      ]
     },
     "metadata": {},
     "output_type": "display_data"
    }
   ],
   "source": [
    "# use remove_phrases on all documents in raw_transcripts\n",
    "test = raw_transcripts['doc'].parallel_apply(lambda x: remove_phrases(x, harshness='high'))"
   ]
  },
  {
   "cell_type": "code",
   "execution_count": 26,
   "metadata": {},
   "outputs": [
    {
     "data": {
      "text/plain": [
       "0"
      ]
     },
     "execution_count": 26,
     "metadata": {},
     "output_type": "execute_result"
    }
   ],
   "source": [
    "len([d for d in test if 'radikale venstre' in d])"
   ]
  },
  {
   "cell_type": "code",
   "execution_count": 27,
   "metadata": {},
   "outputs": [
    {
     "data": {
      "text/plain": [
       "', de , ordfører. , . . .'"
      ]
     },
     "execution_count": 27,
     "metadata": {},
     "output_type": "execute_result"
    }
   ],
   "source": [
    "remove_phrases(test_doc, harshness='high')"
   ]
  },
  {
   "cell_type": "code",
   "execution_count": 28,
   "metadata": {},
   "outputs": [
    {
     "name": "stderr",
     "output_type": "stream",
     "text": [
      "[nltk_data] Downloading package punkt to\n",
      "[nltk_data]     /Users/mathiasbruun/nltk_data...\n",
      "[nltk_data]   Package punkt is already up-to-date!\n",
      "[nltk_data] Downloading package wordnet to\n",
      "[nltk_data]     /Users/mathiasbruun/nltk_data...\n",
      "[nltk_data]   Package wordnet is already up-to-date!\n",
      "[nltk_data] Downloading package omw-1.4 to\n",
      "[nltk_data]     /Users/mathiasbruun/nltk_data...\n",
      "[nltk_data]   Package omw-1.4 is already up-to-date!\n",
      "[nltk_data] Downloading package stopwords to\n",
      "[nltk_data]     /Users/mathiasbruun/nltk_data...\n",
      "[nltk_data]   Package stopwords is already up-to-date!\n",
      "[nltk_data] Downloading package averaged_perceptron_tagger to\n",
      "[nltk_data]     /Users/mathiasbruun/nltk_data...\n",
      "[nltk_data]   Package averaged_perceptron_tagger is already up-to-\n",
      "[nltk_data]       date!\n"
     ]
    }
   ],
   "source": [
    "import re\n",
    "import string\n",
    "import nltk\n",
    "for dependency in ['punkt', 'wordnet', 'omw-1.4', 'stopwords', 'averaged_perceptron_tagger']:\n",
    "    nltk.download(dependency)\n",
    "\n",
    "def preproc_docs(text, harshness = 'low'):\n",
    "    #Lowercasing words\n",
    "    text = text.lower()\n",
    "    \n",
    "    #Removing HTML tag\n",
    "    text = re.sub(r'&amp', '', text)\n",
    "\n",
    "    #Replace \"&\" with \"and\"\n",
    "    text = re.sub(r'&','and', text)\n",
    "    \n",
    "    #Removing punctuation\n",
    "    text = text.translate(str.maketrans('', '', string.punctuation.replace('-',''))) #Taking hyphens out of punctuation to remove\n",
    "    text = re.sub(r' - ','', text) #removing dash lines bounded by whitespace (and therefore not part of a word)\n",
    "    text = re.sub(r'…', '', text)\n",
    "    text = re.sub(r'[â€˜â€™â€œâ€â€”]','',text) #removing punctuation that is not captured by string.punctuation\n",
    "\n",
    "    #Removing numbers\n",
    "    text = re.sub(r'[0-9.]','', text)\n",
    "\n",
    "    # Removing idiosynchratic characters in our data\n",
    "    text = re.sub(r'-\\n|\\n-|\\na-|\\nb-|â€“|Â«|--|’', '', text)\n",
    "    text = re.sub(r'- ', ' ', text)\n",
    "\n",
    "    #Removing separators and superfluous whitespace\n",
    "    text = text.strip()\n",
    "    text = re.sub(r' +',' ',text)\n",
    "\n",
    "    return text"
   ]
  },
  {
   "cell_type": "code",
   "execution_count": 29,
   "metadata": {},
   "outputs": [],
   "source": [
    "# function to get number of words in a string\n",
    "def get_word_count(text):\n",
    "    return len(text.split())\n",
    "\n",
    "def preproc_pipeline(raw_transcripts, harshness = 'low'):\n",
    "    transcripts = raw_transcripts.copy()\n",
    "\n",
    "    # Minimal preproc: lowercase, remove punctuation, remove numbers, remove separators, remove superfluous whitespace\n",
    "    if harshness == 'low':\n",
    "        transcripts['doc'] = transcripts['doc'].parallel_apply(preproc_docs)\n",
    "\n",
    "    # Moderate preproc: minimal preproc + remove thank yous/procedural fluff + remove very short docs\n",
    "    if harshness == 'moderate':\n",
    "        transcripts['doc'] = transcripts['doc'].parallel_apply(lambda x: remove_phrases(x, harshness='low'))\n",
    "        transcripts['doc'] = transcripts['doc'].parallel_apply(lambda x: preproc_docs(x))\n",
    "\n",
    "        transcripts['word_count'] = transcripts['doc'].parallel_apply(lambda x: get_word_count(x))\n",
    "        transcripts = transcripts.loc[transcripts.word_count > 10].reset_index(drop=True)\n",
    "\n",
    "    # Harsh preproc: moderate preproc + remove names, remove party names\n",
    "    if harshness == 'high':\n",
    "        transcripts['doc'] = transcripts['doc'].parallel_apply(lambda x: remove_phrases(x, harshness='high'))\n",
    "        transcripts['doc'] = transcripts['doc'].parallel_apply(lambda x: preproc_docs(x))\n",
    "\n",
    "        transcripts['word_count'] = transcripts['doc'].parallel_apply(lambda x: get_word_count(x))\n",
    "        transcripts = transcripts.loc[transcripts.word_count > 10].reset_index(drop=True)\n",
    "\n",
    "    return transcripts"
   ]
  },
  {
   "cell_type": "code",
   "execution_count": 30,
   "metadata": {},
   "outputs": [
    {
     "data": {
      "application/vnd.jupyter.widget-view+json": {
       "model_id": "e5619a9726544798a35ab5876cf0e906",
       "version_major": 2,
       "version_minor": 0
      },
      "text/plain": [
       "VBox(children=(HBox(children=(IntProgress(value=0, description='0.00%', max=79862), Label(value='0 / 79862')))…"
      ]
     },
     "metadata": {},
     "output_type": "display_data"
    },
    {
     "data": {
      "application/vnd.jupyter.widget-view+json": {
       "model_id": "9bf5dcd41d70498cb513c8d43d35996b",
       "version_major": 2,
       "version_minor": 0
      },
      "text/plain": [
       "VBox(children=(HBox(children=(IntProgress(value=0, description='0.00%', max=79862), Label(value='0 / 79862')))…"
      ]
     },
     "metadata": {},
     "output_type": "display_data"
    },
    {
     "data": {
      "application/vnd.jupyter.widget-view+json": {
       "model_id": "8ff8e2678c4a445fbe42ae23581ee742",
       "version_major": 2,
       "version_minor": 0
      },
      "text/plain": [
       "VBox(children=(HBox(children=(IntProgress(value=0, description='0.00%', max=79862), Label(value='0 / 79862')))…"
      ]
     },
     "metadata": {},
     "output_type": "display_data"
    }
   ],
   "source": [
    "# # Minimal preproc\n",
    "# transcripts_low = preproc_pipeline(raw_transcripts, harshness = 'low')\n",
    "\n",
    "# # Moderate preproc\n",
    "# transcripts_moderate = preproc_pipeline(raw_transcripts, harshness = 'moderate')\n",
    "\n",
    "# Harsh preproc\n",
    "transcripts_high = preproc_pipeline(raw_transcripts, harshness = 'high')"
   ]
  },
  {
   "cell_type": "code",
   "execution_count": 32,
   "metadata": {},
   "outputs": [
    {
     "name": "stdout",
     "output_type": "stream",
     "text": [
      "158386\n"
     ]
    }
   ],
   "source": [
    "print(len(transcripts_low))\n",
    "print(len(transcripts_moderate))\n",
    "print(len(transcripts_high))"
   ]
  },
  {
   "cell_type": "code",
   "execution_count": 119,
   "metadata": {},
   "outputs": [],
   "source": [
    "# increase pandas print length \n",
    "pd.set_option('display.max_colwidth', 100)"
   ]
  },
  {
   "cell_type": "code",
   "execution_count": 34,
   "metadata": {},
   "outputs": [],
   "source": [
    "# transcripts_low.to_pickle('data/clean/preprocessed_docs_2015_low.p')\n",
    "# transcripts_moderate.to_pickle('data/clean/preprocessed_docs_2015_moderate.p')\n",
    "# transcripts_high.to_pickle('data/clean/preprocessed_docs_2015_high.p')"
   ]
  },
  {
   "cell_type": "code",
   "execution_count": 36,
   "metadata": {},
   "outputs": [
    {
     "data": {
      "text/plain": [
       "count    158386.000000\n",
       "mean        197.487695\n",
       "std         224.246109\n",
       "min          11.000000\n",
       "25%          95.000000\n",
       "50%         136.000000\n",
       "75%         199.000000\n",
       "max        6288.000000\n",
       "Name: word_count, dtype: float64"
      ]
     },
     "execution_count": 36,
     "metadata": {},
     "output_type": "execute_result"
    }
   ],
   "source": [
    "test = pd.read_pickle('data/clean/preprocessed_docs_2015_high_KF.p')\n",
    "\n",
    "test.word_count.describe()"
   ]
  },
  {
   "cell_type": "code",
   "execution_count": null,
   "metadata": {},
   "outputs": [],
   "source": []
  }
 ],
 "metadata": {
  "kernelspec": {
   "display_name": "Python 3",
   "language": "python",
   "name": "python3"
  },
  "language_info": {
   "codemirror_mode": {
    "name": "ipython",
    "version": 3
   },
   "file_extension": ".py",
   "mimetype": "text/x-python",
   "name": "python",
   "nbconvert_exporter": "python",
   "pygments_lexer": "ipython3",
   "version": "3.7.12"
  },
  "orig_nbformat": 4
 },
 "nbformat": 4,
 "nbformat_minor": 2
}
