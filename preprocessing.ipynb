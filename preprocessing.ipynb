{
 "cells": [
  {
   "attachments": {},
   "cell_type": "markdown",
   "metadata": {},
   "source": [
    "# Preprocessing transcripts"
   ]
  },
  {
   "cell_type": "code",
   "execution_count": 12,
   "metadata": {},
   "outputs": [
    {
     "name": "stdout",
     "output_type": "stream",
     "text": [
      "Collecting pandarallel\n",
      "  Downloading pandarallel-1.6.4.tar.gz (12 kB)\n",
      "Requirement already satisfied: dill>=0.3.1 in /Users/mathiasbruun/me/anaconda3/lib/python3.7/site-packages (from pandarallel) (0.3.4)\n",
      "Requirement already satisfied: pandas>=1 in /Users/mathiasbruun/me/anaconda3/lib/python3.7/site-packages (from pandarallel) (1.3.3)\n",
      "Requirement already satisfied: psutil in /Users/mathiasbruun/me/anaconda3/lib/python3.7/site-packages (from pandarallel) (5.8.0)\n",
      "Requirement already satisfied: numpy>=1.17.3 in /Users/mathiasbruun/me/anaconda3/lib/python3.7/site-packages (from pandas>=1->pandarallel) (1.21.2)\n",
      "Requirement already satisfied: python-dateutil>=2.7.3 in /Users/mathiasbruun/me/anaconda3/lib/python3.7/site-packages (from pandas>=1->pandarallel) (2.8.2)\n",
      "Requirement already satisfied: pytz>=2017.3 in /Users/mathiasbruun/me/anaconda3/lib/python3.7/site-packages (from pandas>=1->pandarallel) (2021.1)\n",
      "Requirement already satisfied: six>=1.5 in /Users/mathiasbruun/me/anaconda3/lib/python3.7/site-packages (from python-dateutil>=2.7.3->pandas>=1->pandarallel) (1.16.0)\n",
      "Building wheels for collected packages: pandarallel\n",
      "  Building wheel for pandarallel (setup.py) ... \u001b[?25ldone\n",
      "\u001b[?25h  Created wheel for pandarallel: filename=pandarallel-1.6.4-py3-none-any.whl size=16664 sha256=1e0ee5d55a750e84b930610d6e1c482dd802e0a7a9c8b661256127fb63d727c8\n",
      "  Stored in directory: /Users/mathiasbruun/Library/Caches/pip/wheels/60/08/06/19d2f21a2b05448da940fca0f0179e361fd90cec264fb379b6\n",
      "Successfully built pandarallel\n",
      "Installing collected packages: pandarallel\n",
      "Successfully installed pandarallel-1.6.4\n",
      "Note: you may need to restart the kernel to use updated packages.\n"
     ]
    }
   ],
   "source": [
    "%pip install pandarallel"
   ]
  },
  {
   "cell_type": "code",
   "execution_count": 13,
   "metadata": {},
   "outputs": [
    {
     "name": "stdout",
     "output_type": "stream",
     "text": [
      "INFO: Pandarallel will run on 2 workers.\n",
      "INFO: Pandarallel will use standard multiprocessing data transfer (pipe) to transfer data between the main process and workers.\n"
     ]
    }
   ],
   "source": [
    "# Imports\n",
    "import pickle\n",
    "import pandas as pd\n",
    "import numpy as np\n",
    "import re\n",
    "from pandarallel import pandarallel\n",
    "pandarallel.initialize(progress_bar=True)"
   ]
  },
  {
   "cell_type": "code",
   "execution_count": 32,
   "metadata": {},
   "outputs": [],
   "source": [
    "# Load transcripts from pickle\n",
    "raw_transcripts = (\n",
    "    pd.read_pickle('data/clean/subset_party_imputed_v2.p')\n",
    "        .query('source == \"parliament\"')\n",
    "        .drop(columns = ['index'])\n",
    "    )  # TODO: change dataset after retrieval pipeline is cleaned up"
   ]
  },
  {
   "cell_type": "code",
   "execution_count": 33,
   "metadata": {},
   "outputs": [
    {
     "name": "stdout",
     "output_type": "stream",
     "text": [
      "(92515, 6)\n"
     ]
    },
    {
     "data": {
      "text/html": [
       "<div>\n",
       "<style scoped>\n",
       "    .dataframe tbody tr th:only-of-type {\n",
       "        vertical-align: middle;\n",
       "    }\n",
       "\n",
       "    .dataframe tbody tr th {\n",
       "        vertical-align: top;\n",
       "    }\n",
       "\n",
       "    .dataframe thead th {\n",
       "        text-align: right;\n",
       "    }\n",
       "</style>\n",
       "<table border=\"1\" class=\"dataframe\">\n",
       "  <thead>\n",
       "    <tr style=\"text-align: right;\">\n",
       "      <th></th>\n",
       "      <th>doc</th>\n",
       "      <th>source</th>\n",
       "      <th>start_time</th>\n",
       "      <th>full_name</th>\n",
       "      <th>level</th>\n",
       "      <th>party</th>\n",
       "    </tr>\n",
       "  </thead>\n",
       "  <tbody>\n",
       "    <tr>\n",
       "      <th>9</th>\n",
       "      <td>Tak. Danmarks kolonihistorie handler om militæ...</td>\n",
       "      <td>parliament</td>\n",
       "      <td>2019-10-03</td>\n",
       "      <td>Aki-Matilda Høegh-Dam</td>\n",
       "      <td>politician</td>\n",
       "      <td>SIU</td>\n",
       "    </tr>\n",
       "    <tr>\n",
       "      <th>10</th>\n",
       "      <td>Jeg mener, at det er personen, der kan snakke ...</td>\n",
       "      <td>parliament</td>\n",
       "      <td>2019-10-03</td>\n",
       "      <td>Aki-Matilda Høegh-Dam</td>\n",
       "      <td>politician</td>\n",
       "      <td>SIU</td>\n",
       "    </tr>\n",
       "    <tr>\n",
       "      <th>11</th>\n",
       "      <td>Det handler jo ikke om, hvad jeg synes. Det ha...</td>\n",
       "      <td>parliament</td>\n",
       "      <td>2019-10-03</td>\n",
       "      <td>Aki-Matilda Høegh-Dam</td>\n",
       "      <td>politician</td>\n",
       "      <td>SIU</td>\n",
       "    </tr>\n",
       "    <tr>\n",
       "      <th>12</th>\n",
       "      <td>Jeg ved ikke, om det – når man snakker om at b...</td>\n",
       "      <td>parliament</td>\n",
       "      <td>2019-10-03</td>\n",
       "      <td>Aki-Matilda Høegh-Dam</td>\n",
       "      <td>politician</td>\n",
       "      <td>SIU</td>\n",
       "    </tr>\n",
       "    <tr>\n",
       "      <th>13</th>\n",
       "      <td>Det er ikke noget, jeg bare mener; det er noge...</td>\n",
       "      <td>parliament</td>\n",
       "      <td>2019-10-03</td>\n",
       "      <td>Aki-Matilda Høegh-Dam</td>\n",
       "      <td>politician</td>\n",
       "      <td>SIU</td>\n",
       "    </tr>\n",
       "  </tbody>\n",
       "</table>\n",
       "</div>"
      ],
      "text/plain": [
       "                                                  doc      source  start_time  \\\n",
       "9   Tak. Danmarks kolonihistorie handler om militæ...  parliament  2019-10-03   \n",
       "10  Jeg mener, at det er personen, der kan snakke ...  parliament  2019-10-03   \n",
       "11  Det handler jo ikke om, hvad jeg synes. Det ha...  parliament  2019-10-03   \n",
       "12  Jeg ved ikke, om det – når man snakker om at b...  parliament  2019-10-03   \n",
       "13  Det er ikke noget, jeg bare mener; det er noge...  parliament  2019-10-03   \n",
       "\n",
       "                full_name       level party  \n",
       "9   Aki-Matilda Høegh-Dam  politician   SIU  \n",
       "10  Aki-Matilda Høegh-Dam  politician   SIU  \n",
       "11  Aki-Matilda Høegh-Dam  politician   SIU  \n",
       "12  Aki-Matilda Høegh-Dam  politician   SIU  \n",
       "13  Aki-Matilda Høegh-Dam  politician   SIU  "
      ]
     },
     "execution_count": 33,
     "metadata": {},
     "output_type": "execute_result"
    }
   ],
   "source": [
    "print(raw_transcripts.shape)\n",
    "raw_transcripts.head()"
   ]
  },
  {
   "cell_type": "code",
   "execution_count": 104,
   "metadata": {},
   "outputs": [
    {
     "data": {
      "text/plain": [
       "['jeg synes at statsministeren meget klart sagde fra over for et forslag som lå helt uden for hvad man kan acceptere fra dansk side og jeg er også glad for at når vi lægger tonediskussionen lidt til side lyder det som om vi stadig væk har venstre på en budgetrestriktiv linje og at vi kan blive enige om det sådan at ministeren rejser til bruxelles og de her vigtige forhandlinger med et stærkt mandat i ryggen',\n",
       " 'tak så det blev simpelt hen udløst af statsministerens spørgsmål om hvor finansieringen skulle komme fra jeg synes ikke helt det var et svar på mit spørgsmål om hvorfor venstre brød med en års tradition for er det grundlæggende ikke vigtigt at vi giver regeringen et stærkt mandat i ryggen når regeringen skal ud at forhandle på vegne af danmark og danske interesser hvilket jeg ved at venstre også er interesseret i',\n",
       " 'jamen det er svaret altså svaret er at statsministeren har nægtet finansministeren har nægtet udenrigsministeren har nægtet at svare på om et øget eu-budget kan finansieres uden at det fører til skattestigninger så det var begrundelsen og når der nu bliver talt om at sende regeringen af sted med et stærkt mandat vil jeg sige at det jo ikke er noget stærkt mandat det er jo et totalt elastikmandat regeringen kan komme hjem med et hvilket som helst forhandlingsresultat og sige at man har levet op til mandatet så et stærkt mandat er det ikke',\n",
       " 'tak for det og tak for hvad der vel har været en af de mest fredelige finanslovsdebatter i mands minde og måske ender det også med at blive en af de korteste det tillader jeg mig at tage som et udtryk for at det nok ikke er en så helt ringe finanslov vi har lavet det er også klart at det her er en god lejlighed til at lade julefreden sænke sig hvis nogen skulle have lyst til det selv om jeg ikke er så naiv at jeg ikke tror der vil være et par enkelte drillenisser undervejs der sikkert vil forsøge at sige at den her finanslov kunne have været meget bedre jeg tror også for nu at starte med at være helt åbenhjertig jeg vil sige at den her finanslov ikke løser alt det er ikke en finanslov hvor man kan sige at nu er vi færdige med vores arbejde men det er en finanslov hvor vi for alvor er begyndt for ca måneder siden valgte danskerne en ny retning for danmark med et nyt politisk flertal og de gav os en ny regering som har haft et stærkt mandat i ryggen vi lovede hinanden at vi ville gå forrest i kampen mod klimakrisen at vi ville styrke vores velfærd at vi ville satse på uddannelse de løfter tager vi i den grad fat på at indfri i dag der er faktisk rigtig meget vi kan gøre i fællesskab når vi sætter os for at lave en ny retning for danmark med den finanslovsaftale som vi har foran os sikrer vi at vi kan udbygge vores velfærdssamfund i stedet for at skære ned vi sikrer tusind flere sygeplejersker minimumsnormeringer i vuggestuer og børnehaver et markant løft af vores folkeskole en styrket indsats for de mest sårbare i vores samfund og vi går videre end det for vi investerer også med de kommune og regionsaftaler vi har lavet bredt i vores velfærd til gavn for vores børn til gavn for vores ældre til gavn for det sundhedsvæsen som er så vigtigt for os alle sammen vi tager også fat på at indfri vores ambitioner når det gælder klima og miljøpolitik fordi vi ønsker at sikre en grøn omstilling og en bæredygtig fremtid for vores børn og for vores børnebørn med penge til grøn forskning en grøn fremtidsfond og mere urørt natur jeg vil gerne benytte lejligheden til her i dag at takke de partier som regeringen har lavet sin finanslovsaftale med for at have gjort det til en bedre aftale end den var da vi lagde vores forslag frem jeg mener den er stærkere både når det gælder velfærd og når det gælder det grønne end det regeringen præsenterede og det er jo i virkeligheden dansk folkestyre når det er bedst vi havde så også afsat en forhandlingsreserve fordi vi godt var klar over at der var nogle flere ting vi gerne ville i fællesskab det gjorde sig gældende i forhold til vores børn i forhold til vores ældre i forhold til vores sundhed og i forhold til den grønne dagsorden men der er ingen tvivl om at det samarbejde vi har haft med det radikale venstre med sf med enhedslisten og med alternativet er forudsætningen for at vi nu kan sætte en ny retning for danmark det glæder mig så også at en række ordførere fra de partier der ikke er en del af aftalen faktisk har rost elementer i den jeg tror det var fra den konservative ordførers side at det blev sagt at der faktisk var nogle gode ting i aftalen og andre har fulgt op men man har af forskellige årsager så ikke følt at man kunne være helt med om bord men ligeså samlede vi har de partier der står bag aftalen om at vi sætter en ny retning her har dagen i dag jo også illustreret at der er ligeså stor forskel på hvordan man ser dansk politik hos de partier som ikke ønsker at den her regering skal have ansvaret jeg har hørt at venstre det konservative folkeparti dansk folkeparti og hr simon emil ammitzbøll-bille vil stemme for finanslovsforslaget mens liberal alliance og nye borgerlige vælger at stemme imod det det sidste skal jeg beklage jeg synes det ville have været rart hvis alle havde taget ansvar så alle blå partier havde været sammen om at her var der noget som man trods alt når dagen er slut og vi stemmer endeligt om tingene i morgen hvor man kunne sige her står vi på mål for at danmark skal have en finanslov men jeg vil også gerne give nogle kommentarer til nogle af de indlæg der har været venstres ordfører hr troels lund poulsen konstaterede at det går godt i danmark det er jeg helt enig i og det vil jeg gerne sammen med venstres ordfører glæde mig over derfor forstod jeg heller ikke helt det efterfølgende sortsyn om at vi med den her finanslov gør danmark fattigere jeg har hørt at det er sådan noget man trods alt kunne blive enige om blandt de blå partier i dag skulle være den etiket man gerne vil sætte på den her finanslov der må jeg bare sige at den her finanslov gør danmark stærkere den her finanslov gør danmark mere klar til at møde fremtiden den her finanslov gør danmark bedre for hvad er det vi er blevet enige om ja vi er blevet enige om med den nye retning vi sætter at det skal være slut med at man undergraver den velfærd som er så utrolig vigtig for langt langt de fleste danskere vi sagde først med kommune og regionsaftalerne til hinanden når der kommer flere børn og når der kommer flere ældre – og det er rigtig godt og dejligt – så nytter det ikke noget at man kun afsætter penge til det ene barn eller den ældre og lader den anden stå tilbage det er derfor vi faktisk med vores aftaler med kommunerne og regionerne har valgt en helt anden vej nemlig at sige at pengene skal følge med det er rigtig rigtig vigtigt for det giver en mulighed for at man nu kan begynde at bygge op ude i kommuner og regioner hvor man i for mange år har skullet rive ned igen påstår jeg ikke at vi dermed løser alle problemer i det danske samfund men jeg siger meget klart at her sætter vi en ny retning til gavn for danmark og til gavn for velfærden vi gør det samme når det gælder vores uddannelse vi investerer massivt i folkeskolen vi går ind og siger at vores ungdomsuddannelser vil vi også gerne give et løft vi går ind og siger at de besparelser der var lagt op til bredt på vores af de uddannelser også de videregående skal stoppes vi siger også at det uddannelsesloft som rigtig mange har været bekymrede over og set som en hindring for at de kunne få den uddannelse der var den rigtige for dem skulle fjernes derfor må jeg også i dag sige til venstres ordfører at det der næsten undrer mig mest er at det klare løfte der blev givet fra venstre til danskerne i sidste valgkamp nemlig at uddannelsesloftet ville man fjerne hvis man fik ansvar løber man fra i dag vi har endda lagt bolden på straffesparkspletten der er frit mål man skulle bare sige »ja det vil vi gerne være med til« men da det kom til stykket ville venstre ikke alligevel jeg er bekymret for at det ikke er sidste gang i den her valgperiode at vi kommer til at se at venstre løber fra valgløfterne for man kan nu engang kun bruge pengene én gang hvis man både vil bruge pengene på at give skattelettelser og på velfærd løber man tør og så må man prøve at sige nu må i vente på vores ændringsforslag og se hvad vi helt præcis mener det synes jeg ikke er godt nok fra det største oppositionsparti til gengæld håber jeg at vi i de kommende måneder og år vil få et rigtig godt samarbejde med venstre på en række punkter og det tror jeg også at vi kan få jeg synes sådan set det var mere regulær og ærlig snak fra hr rasmus jarlov fra de konservative der sagde jamen vi synes sådan set rigtig godt om meget af det i foreslår og vi synes det er fornuftigt at styrke folkeskolen og vi vil også gerne gøre det i forhold til andre dele af det som den her regering har lagt frem men da vi ikke er enige i finansieringen og da vi godt ved – det sagde han ikke men det tillader jeg mig at udlede af det jeg hørte – at pengene kun kan bruges én gang så er vi ikke parat til at stemme for de her ting for det vil ikke være ærligt at gøre det synes jeg er ordentlig snak selv om jeg havde håbet at man havde nået en anden konklusion dansk folkeparti havde i ordførertalen fra hr rené christensen trods alt også rosende ord til regeringen man kvitterede for at man havde fået en kop kaffe og det kan jeg bekræfte det var i øvrigt hyggeligt at have hr rené christensen på besøg det håber jeg at jeg får mange andre lejligheder til for der er godt brug for et bredt samarbejde i folketinget og det vil regeringen også meget gerne have med dansk folkeparti det gælder både i forhold til det her og mange andre vigtige emner men et af de steder hvor jeg synes at hr rené christensen gik galt i byen var hvor han sagde at vi i den her regering ikke skulle have fokus nok på ældreområdet den her regering er dybt optaget af at vi sikrer ordentlige vilkår for de ældre i danmark og vi er grundbekymrede over hvad vi har set i de seneste år hvor der i kommune efter kommune er blevet sparet og sparet på de ældre det er ikke fordi de borgmestre og kommunalbestyrelsesmedlemmer der sidder derude synes det er den sjoveste opgave i verden men fordi den økonomi der er blevet givet har været så begrænset at man reelt ikke har ladet pengene følge med når der heldigvis kommer flere ældre derfor er det der er virkeligheden omkring den her finanslov at vi ud over det der allerede var afsat til vores ældre bla har lagt mio kr oveni at vi ud over det også bredt og i fællesskab også med partier i blå blok har lavet en aftale om demens – det er også vigtigt – og at vi med den aftale vi har lavet med kommunerne samlet set giver et løft på mia kr som jo betyder at man har muligheden for at give nogle bedre vilkår for vores ældre pengene følger nu med når der kommer flere børn og flere ældre og det er vigtigt og det er desværre også nyt for det er ikke den virkelighed der har været under den tidligere regering som dansk folkeparti holdt hånden under så jeg glæder mig oprigtigt over dansk folkepartis engagement i forhold til de ældre men det er simpelt hen ikke en korrekt fremstilling når man prøver at få det til at se ud som om den her regering bruger færre penge på de ældre end der tidligere har været brugt det er tværtimod sagen at vi bruger flere og det er der også brug for når det gælder det grønne er jeg glad for at de fleste partier sådan set har budt ind og sagt at det vil de gerne være med til jeg vil også gerne kvittere for at man med den klimalov der blev lavet af klima energi og forsyningsministeren har taget vigtige skridt og vi skal endnu videre når vi kommer til klimahandlingsplanerne til næste år men det er også vigtigt at sige at det her ikke er en opgave som vi i folketinget eller regeringen kan løfte alene det er en opgave som vi i fællesskab kommer til at skulle løfte med dansk erhvervsliv med pensionskasserne med vores uddannelsesinstitutioner med civilsamfundet hvis vi skal levere på den meget ambitiøse målsætning om reduktion på pct i kræver det at alle trækker i den samme retning det er jo også en af grundene til at det er så vigtigt at vi her med hinanden er optaget af at vi får erhvervslivet som partner i de kommende år for ellers kan det ikke lykkes og jeg ser erhvervslivets rolle som værende at bidrage alle de steder hvor man selvfølgelig er med til at udlede co og at tage skridt til at man kan gøre det bedre end i dag og bringe det ned men også at vi kan bruge den udfordring vi her har givet os selv som en løftestang til at dansk erhvervsliv kan skabe arbejdspladser og vækst jeg er så meget jyde at jeg har det udgangspunkt at hvis man med de initiativer vi tager her og i fællesskab med erhvervslivet både kan bidrage til løsninger der kan redde vores planet og samtidig kan tjene penge og skabe arbejdspladser og vækst ude i danske virksomheder så er det godt den her regering er rigtig rigtig optaget af at skabe vækst og udvikling ude i de danske virksomheder det er hele forudsætningen for at det danske samfund har den styrke som det har det er fortællingen om dygtige virksomheder dygtige ledelser dygtige medarbejdere der arbejder sammen hver eneste dag om at gøre tingene bedre og klogere og mere effektivt men jo dermed også skaber muligheden for at sælge det ikke alene i danmark men også uden for landets grænser det er vigtigt derfor er den her finanslov også en finanslov der bidrager til at vi kan styrke dansk erhvervsliv for hvis der er noget som vi har set som en fejl under den tidligere regering er det jo at man skar så meget ned på de uddannelser som skal dygtiggøre de mennesker der skal ind i vores virksomheder – og det gælder både i forhold til de unge selv men også i forhold til dansk erhvervsliv og det er blevet kritiseret fra dansk erhvervslivs side og nu gør vi noget ved det det grønne er en løftestang for at skabe vækst og job og vi har også valgt med den her finanslov at sige til hinanden at der faktisk er områder hvor der kan være brug for at vi ser på at kunne tage også faglært arbejdskraft til danmark som kan sørge for at hjælpe danske virksomheder men samtidig med at vi gør det skruer vi også gevaldigt op for den indsats vi har mod social dumping så vi med den finanslov der ligger her har den stærkeste indsats vi har set tingene følges ad der er balance der er tænkt over det og sådan skal det også være jeg tror det er den rette vej at gå »børn børn børn« sagde fru lisbeth bech poulsen og jeg tror ikke det alene er fordi vi begge inden længe bidrager til at det kan gå i opfyldelse jeg tror det er fordi det er noget der virkelig optager ikke alene sf men forhåbentlig hele folketinget hvordan skaber vi de bedste rammer for vores børn derfor er noget af det jeg virkelig er glad for og stolt over og gerne vil takke sf for deres bidrag til at vi jo med den her finanslov får taget fat på og får forbedret normeringerne i vores daginstitutioner til gavn for vores mindste og sådan at vi kan indføre minimumsnormeringer også her er det ikke noget vi kan gøre med et fingerknips det er ikke noget der sker fra den ene dag til den næste men vi går i gang og vi kommer i mål og sådan skal det være et andet sted hvor vi også virkelig skal i gang er når det gælder psykiatrien den bedste finanslov i mange år lød skudsmålet fra enhedslistens ordfører i dag jeg tror at en af grundene til at enhedslisten ser sådan på det nok er det løft vi fik givet til psykiatrien for det har enhedslisten om nogen været bannerfører for selv om alt det vi har lavet her selvfølgelig er fælles gods men jeg tror også at alle der har været i kontakt med den psykiatri som vi har i danmark hvad enten de selv har haft brug for hjælp eller har været pårørende vil kunne sige at der er mange mange dygtige og engagerede både læger og sygeplejersker og andet sundhedspersonale men vi har så meget brug for at vi kan gøre en bedre indsats her det gælder i forhold til vores børn det gælder i forhold til vores unge og det gælder i forhold til alle de borgere der er i kontakt med psykiatrien her går vi i gang med mio kr allerede fra næste år igen kommer det til at løse alle problemer psykiatrien nej men det er godt nok et løft der har været brug for længe fordi man i psykiatrien ligesom i det øvrige sundhedsvæsen løber alt alt for stærkt det er også det vi må tage alvorligt her så hørte jeg flere være inde på at regeringen i sit oplæg til finanslov kunne have været mere ambitiøs på den grønne dagsorden jeg vil sige at vi satte jo med det forståelsespapir som vi lavede med det radikale venstre sf og enhedslisten en meget meget stærk ambition som vi nu bliver anerkendt for ude i verden og som vi først og fremmest selv har en opgave med at gøre til virkelighed men jeg vil gerne også i dag takke alternativet for at de var med til som nogle af de allerførste at sætte ambitionen og selv om de ikke var med i forståelsespapiret så også for at presse på i de forhandlinger vi har haft nu her sådan at hvad enten det er klimarådet eller grønne obligationer eller mange af de andre vigtige ting som vi fik med på det grønne område så kan alternativet i hvert fald godt ranke ryggen og sige at her har man været med til at levere jeg hørte også godt hr rasmus nordqvist sige at man er umættelig i forhold til den her dagsorden det kan jeg bekræfte men det er også rigtig rigtig vigtigt at ikke alene alternativet men alle partier i det her folketing er utrættelige i forhold til at nå målsætningen og der er det virkelig vigtigt at alternativet og andre har vist vejen her så tak for det jeg vil også gerne sige til det konservative folkeparti som jeg synes meget fair og ordentligt sagde tak for om ikke et langt samarbejde i den her sammenhæng så i hvert fald et godt og åbenhjertigt samarbejde jeg tror der er mange ting vi vil kunne lave med hinanden i de kommende måneder og år jeg er også helt med på at en af de ting der er et finansieringselement i den aftale vi her har lavet nemlig bo og gaveafgiften ser vi forskelligt på vi mener fra regeringens side at det er rimeligt at de bredeste skuldre også bærer de største byrder og at der er en balance i den måde vi har arveafgifter på i det her land det betyder at vi synes det er fornuftigt at vi ruller den lempelse tilbage der var under en tidligere regering som hr rasmus jarlov var en del af det betyder ikke at vi ikke gerne vil have en dialog med dansk erhvervsliv om det her der er også udpeget kloge mennesker der skal komme med bud på hvordan vi bedst muligt kan gøre det her så det har den mindst mulige negative effekt på dansk erhvervsliv det håber jeg også man gå vil ind i en konstruktiv dialog om og så vil jeg huske de af vore gode kollegaer der set fra min side af salen sidder ovre på den anden side på de gode ord der kom fra både den tidligere skatteminister hr karsten lauritzen og fra andre sider om at det her ikke er noget der kommer til at nedbryde dansk økonomi det tror jeg bestemt var rigtigt sagt dengang og det tror jeg også gælder i dag så er der liberal alliance der som jeg forstod det synes at den her regering har båret sig meget ufornuftigt ad i finansloven man synes at vi bruger for mange penge og man synes at vi bruger dem forkert det er jo trods alt befriende at man kan se at der er forskel i dansk politik for det er fuldstændig korrekt – ikke de anklager der kom fra hr ole birk olesen – at der er forskel på den nuværende regering og den tidligere regering som hr ole birk olesen var en del af den her regering sætter velfærd først og det der får os til at stå op om morgenen og knokle dagen igennem og gå sent i seng om aftenen er ikke at se på hvor vi kan give den næste store skattelettelse sådan at vi kan sætte en ny pokal op på hylden vi ser det som vores opgave at kæmpe hver evig eneste dag for noget der måske ikke giver sølvpokaler på hylderne men noget der giver livskvalitet ude hos dem der har det svært og hos vores børn hos vores ældre og i vores sundhedsvæsen og på vores uddannelser og der er sket et skift det er fuldstændig korrekt observeret vi vil en anden vej end hr ole birk olesen jeg tror faktisk jeg i al stilfærdighed vil sige at det har begge parter det fint med og jeg er glad for at vi er blevet betroet det ansvar lighed har jo også været en stor del af diskussionen i dag og jeg vil bare sige at for mig handler lighed ikke kun om ginikoefficienter for mig handler lighed om at lave et samfund og det er det socialdemokratiet opstod for og det er det vi har kæmpet hele vores historie igennem for skulle blive tilfældet nemlig et velfærdssamfund hvor vi giver lige muligheder for børn og for resten af befolkningen uanset om man kommer fra et hjem med mange penge eller fra et hjem med små kår det vi gør med den her finanslov er at vi investerer i lighed i vores folkeskole i vores daginstitutioner i vores sundhedsvæsen – nogle af de steder der er allermest vigtige for om man oplever at man har et liv i tryghed hvor man kan udvikle sig og hvor der også er en hånd der kan hjælpe en når man har brug for det så er det rigtigt og jeg erkender det blankt fra denne talerstol at vi sætter cigaretpriserne i vejret når man kigger på nogle af de måder man gør det her op på vil man se at det vil gøre at nogle vil have lidt mindre i pengepungen hvis de ryger end de ellers ville have haft det er rigtigt og hvorfor gør vi så det ja det gør vi fordi vi kan se at ikke mindst vores børn og unge i alt for stort omfang ryger og det er synes jeg noget som vi skal tage dybt dybt alvorligt der er i dag lavet en aftale med gode initiativer og regeringen byder i sagens natur det velkommen at vi har en så dygtig sundheds og ældreminister og at der er et stort flertal bag men vi må også bare være ærlige over for hinanden og sige at noget af det der virkelig også har en betydning er prisen og derfor sætter vi den i vejret men vi ved også godt at det her ikke er sort-hvidt der er også en side der handler om at hvis man sætter priserne alt for højt op er der mennesker med små penge og også mennesker der lever i misbrugssituationer som vil blive særlig hårdt ramt derfor prøver vi også at lave det her med en høj stigning i første omgang og så kommer der lidt senere endnu en stigning det er et forsøg på at finde balancer nye borgerlige holdt vel en historisk kort ordførertale der kunne opsummeres til at regeringen tager fejl man skulle have gjort noget andet og at de derfor ikke stemmer for finansloven det var næsten en længere opsummering end talen i sig selv jeg er ikke overraskende ikke enig med hr lars boje mathiesen men det er jo nye borgerliges ret jeg håber også at vi kan få et godt samarbejde på rigtig mange områder jeg synes man i mange sammenhænge faktisk har været dem der kunne give ros til regeringen når man syntes at det var berettiget det tager vi gerne imod og det vil vi gerne bygge videre på så vil jeg også gerne sige til hr simon emil ammitzbøll-bille at vi fra regeringens side også håber at kunne få et rigtig godt samarbejde der det er vigtigt for os alle selv om der nok er mange ting vi ser forskelligt på så håber jeg også at vi kan finde nogle fælles landingsbaner endelig skal man også huske at den her finanslov jo har betydning ikke alene for danmark men også for grønland og færøerne jeg vil gerne takke begge de grønlandske folketingsmedlemmer og også begge de færøske folketingsmedlemmer men selvfølgelig i dag fru aki-matilda høegh-dam og hr edmund joensen for de bemærkninger der er faldet men for alle fires vedkommende for et rigtig godt samarbejde hvor vi kan investere både i fællesskabet inden for rigsfællesskabet i klima og miljø og også i at styrke det retsvæsen og den politiudøvelse som har så stor betydning i grønland og også de sociale initiativer der i den grad fortjener vores opmærksomhed i fællesskab jeg håber fru aki-matilda høegh-dam snart kan se nordlyset og får en dejlig jul sammen med resten af grønland jeg ved der er mange deroppe der glæder sig til julen så vil jeg sige til os alle sammen at det godt kan være at vi ikke kommer til at se nordlyset men vi kan forhåbentlig se nogle andre lys i fællesskab og det håber jeg debatten her kan bidrage til så med de ord vil jeg sige tak',\n",
       " 'jamen det er jo godt at høre at ministeren vil lytte til debatten og vil gå konstruktivt ind i udvalgsarbejdet og så håber jeg rigtig meget at vi så kan komme til en enighed det er jo lidt svært djævelen befinder sig nogle gange i detaljen men jeg håber at vi kan få en situation hvor vi kan ende med at det er et samlet folketing som giver den danske regering et stærkt mandat til at kæmpe for åbenhed for det er der virkelig virkelig behov for desværre i den situation vi befinder os i i dag',\n",
       " 'tak for det igen vil jeg også tage de positive briller på og høre det som ordføreren siger er positivt jeg kunne godt høre at det selvfølgelig kommer til at handle meget om økonomien vi har taget noget økonomi med – det kunne man også have ladet være med men så havde alle ordførere nok stået heroppe og sagt hvordan skal man overhovedet finansiere det her og hvordan skal man lave noget men det jeg hører at ordføreren siger er jo ret interessant fordi ordføreren nu også er ordfører for regeringspartiet for ministeren sagde jo også at man er enig i intentionerne men det der så er vigtigt i udvalgsarbejdet er jo egentlig at finde ud af hvordan vi får givet regeringen et stærkt mandat til at arbejde med det her vi står faktisk med op imod mio ton plast der vælter ud i verdenshavene og vi ved hvor det kommer fra så er det rigtigt at det kommer fra nogle lande hvor der kan være nogle udfordringer men hvis man bare tager yangtzefloden i kina bor der altså en halv milliard mennesker langs yangtzefloden som ikke har kloakering og ikke har affaldshåndtering de bruger floden til bla at komme af med deres plastik og derfor må man jo sige at det er et kinesisk problem men det er det bare ikke – det er et globalt problem derfor vil jeg bare spørge ordføreren om man i udvalgsarbejdet ikke kan hente et mandat fra sit parti til at vi kan arbejde med hvordan man måske kunne lave en bred aftale om at det er det her vi skal arbejde med så kan det godt være at der er nogle udfordringer i forhold til finansieringen men vi har jo også et møde nu i fn og vi har verdensmålene der er jo masser af steder hvor man – indtil man får løst udfordringen med affaldshåndtering – kan arbejde for at vi ikke accepterer at forureningen fra de her ti floder ender i verdenshavene',\n",
       " 'det ville altså være uretfærdigt at bruge måske mio kr mere ud af mia kr på at mindske plastik i verdenshavene mener fru marie bjerre det mener vi bestemt ikke det er hvis man læser forslaget står der faktisk »folketinget pålægger regeringen at tage initiativ til at målrette en større del af udviklingsbistanden til miljøtiltag som markant mindsker udledningen af plastik til verdenshavene fra de ti floder med størst forekomst af plastikaffald« vi har jo heller ikke lagt os fast på at det er alle mio kr der skal bruges på det det vil vi jo gerne diskutere det kan være at vi afsætter mio kr det kan også være at vi slet ikke afsætter nogen penge men simpelt hen giver en regering et meget meget stærkt mandat til når vi i fn-systemet snakker udviklingsbistand at arbejde for at gå til kilden hvor vi ved plastikken kommer fra jeg tror alle har set interviewet fra tv hvor journalisten kunne gå hen over vandet og det kan vi da ikke leve med',\n",
       " 'igen er jeg jo glad for at ordføreren også på enhedslistens vegne egentlig mener at indholdet sådan set er godt nok og derfor vil jeg også spørge ordføreren om noget mere for man kan også gøre mere med et beslutningsforslag når man arbejder med det i udvalget og så kunne det jo være ret interessant hvis vi kunne blive enige om at give regeringen et stærkt mandat altså pålægge regeringen at arbejde for det her måske har man lagt mærke til at meget af det baggrundsmateriale som vi henviser til faktisk er fra og – så det er jo ikke gammel viden hvor man i mange år har vidst at det lige var de her ti floder som bidrager med op mod pct af plastik i verdenshavene og derfor kunne det være interessant hvis vi i fællesskab i forbindelse med udvalgsarbejdet kunne arbejde frem mod at få givet regeringen et stærkt mandat i forhold til de fora som regeringen kommer i for at lægge et pres på de her lande og måske også lægge pres på dem i forhold til at komme med løsningsforslag vi har ikke selv løsningsforslag til hvordan man samler det op og det var derfor vi også ville have sat nogle penge af til det',\n",
       " 'det vil jeg gerne kvittere for jeg håber også at det konservative folkeparti vil være aktiv i forbindelse med behandlingen i udvalget således at vi måske kunne lave en bred aftale om at give den nuværende regering et stærkt mandat i forhold til at arbejde med de her udfordringer jeg vil gerne fortælle hvorfor dansk folkeparti har kigget på eventuelt at skabe noget finansiering i forhold til udviklingsbistanden det er jo netop fordi vi kan se at konsekvenserne af den forurening der sker faktisk slår hårdest igennem i de lande som vi kan se folk bla flygter fra det er det afrikanske kontinent det er derfor vi så har valgt at sige at vi faktisk mener at en miljøindsats netop på plastikområdet indirekte også er en hjælp til de her lande som er modtagere af pengene i dag men jeg vil gerne takke for ordførertalen som jeg synes var meget konstruktiv',\n",
       " 'tak for det jeg tror såmænd at alternativet og dansk folkeparti er enige om intentionerne vi skal have mindre plast i verdenshavene så kan man jo diskutere hvor man skal gøre det skal man gå efter fiskenet skal man gå efter andet man skal jo sådan set gå efter det hele derfor er jeg måske lidt forundret over at man ikke kan se noget fornuft i at gå efter de steder hvor vi ved at hovedparten kommer fra altså de her ti floder ordføreren sagde også at det vigtigste med udviklingsbistanden er at den går til fattigdomsbekæmpelse en af de største udfordringer i forhold til fattigdom er jo fødevaremangel når man kan konstatere at milliarder mennesker får ca pct af deres animalske protein fra fisk og man kan se at fiskebestandene bliver mindre både på grund af overfiskeri som ordføreren omtaler men også fordi verdenshavene bliver forurenet så undrer det mig lidt at man ikke er mere positiv over for forslaget men det jeg vil spørge om er er ordføreren indstillet på i forbindelse med udvalgsarbejdet at arbejde frem imod at man kan finde hinanden og lave et bredt flertal som sørger for at få givet regeringen et stærkt mandat til også at arbejde for – når vi nu ved hvor kilderne er – at man internationalt i en kort periode indtil vi får styr på det på land får opsamlet det plast som kommer fra de her ti floder',\n",
       " 'det har jeg sådan set godt forstået og det er der også flere partier der har sagt i forhold til finansieringen men er ordføreren ikke enig i at når vi nu ved at hovedparten af det plastik der ender i verdenshavene kommer fra ti floder så skal vi have givet den til enhver tid siddende danske regering et stærkt mandat fra folketinget som siger at hver gang det er muligt – om det er verdensmålene vi taler om om det er i fn vi er – hvor det end er henne i verden vi sender vores ministre ud så skal de have et mandat med hvor de tager hånd om at lægge et pres på de her lande specielt kina hvor en halv milliard mennesker leder forurening direkte ud i bla yangtzefloden det mandat skal vi give regeringen med og så må man jo finde ud af hvordan man så arbejder med det økonomisk hvis vi ikke kan blive enige om det men er ordføreren ikke enig i at det er en kæmpestor udfordring at de her ti floder leverer en så stor del af mængden af plastik som vi finder i verdenshavene',\n",
       " 'tak for det det er ikke så tit at socialdemokratiet nye borgerlige og alternativet er i samme båd det er man her og man vil ikke bruge ulandsbistand til at gøre noget ved det det har dansk folkeparti forstået det har alle ordførere der har været på talerstolen sagt så det jeg bare vil spørge om er om ordføreren i forbindelse med udvalgsarbejdet vil være indstillet på at indgå i en dialog om hvordan vi på en anden måde kan give regeringen et stærkt mandat netop for som ordføreren siger at få lagt et pres på de her lande og få stoppet den her udledning af plastik som netop kommer fordi man ikke har en ordentlig affaldshåndtering kloakering osv og det er jo muligheden ved et beslutningsforslag at ende med en beretning hvor vi lægger det pres på en til enhver tid siddende regering er ordføreren indstillet på at indgå i det arbejde',\n",
       " 'det sidste bliver jeg da sådan set glad for at høre for det jeg så forstår er at det man mener i liberal alliance også er at det selvfølgelig er et problem at der kommer så meget plast i verdenshavene det er vi sådan set enige om så kan vi være uenige om hvordan man skal finansiere det og derfor vil jeg bare spørge ordføreren når vi nu skal behandle det her i udvalget om liberal alliance vil gå aktivt ind i det og finde ud af hvordan vi også kan give regeringen et stærkt mandat det behøver jo faktisk ikke at koste noget men det handler om at man hver eneste gang man har mulighed for det bla når man har samtaler med kina også får lagt pres på for at kina bliver nødt til at få styr på den forureningskilde som der bla kommer fra yangtzefloden hvor op imod en halv milliard mennesker bruger naturen som losseplads er liberal alliance enig i at det er en udfordring for alle og at det også er en udfordring i forhold til flygtningestrømme',\n",
       " 'tak for det formand jeg kan kun bakke op om det som venstres ordfører sagde nemlig at vi tager l tilbage i udvalget mellem anden og tredjebehandlingen og det er faktisk rigtig sørgeligt at vi bliver nødt til det det der er mest sørgeligt er jo det som den socialdemokratiske ordfører sagde nemlig at når der endelig kommer noget grønt vil man ikke stemme for men jeg vil sige at når man endelig vil lave noget grønt vil man ikke invitere de andre partier indenfor der har ikke været inviteret et eneste borgerligt parti indenfor for at lave den grønne aftale man kunne have lavet om § -områder der er faktisk § -områder som bør tages ud af drift vi har også stillet et ændringsforslag hvor vi bla siger at der er områder der skal pilles ud vi mener faktisk at den her lovgivning kunne være ganske udmærket men regeringen vælger at sige at man til de grønne forslag har fået et så stærkt mandat at man bare vil tromle resten af folketinget at man ikke engang vil tale med resten af folketinget når man skal lave naturpolitik det er simpelt hen ikke i orden det er ikke i orden at man tager naturen som gidsel i det her det der kan komme til at ske – og det er sket før – er at der nu kan sidde en rød regering og bruge sin magt til at gennemføre det og så kan der komme en blå regering og bruge sin magt til at pille det ud igen og hvor meget natur har vi så fået intet men hvis man nu lavede en bred aftale hvis man nu ville tale med hinanden om hvordan vi laver nogle grønne løsninger kunne det faktisk godt være at både landmænd og naturen kunne komme ud som vindere i sådan en sag jeg synes det er ærgerligt at vi har en minister et socialdemokrati en rød blok som ikke vil lave naturpolitik med andre partier end sig selv og hvorfor vil man ikke det det er fordi man vil have den her kamp der skal være de gode og de onde og den eneste der taber er naturen jeg synes det er sørgeligt at vi skal stå her ved andenbehandlingen og tale om § -natur som virkelig er noget natur der skal beskyttes og så skal det tilbage til udvalget jeg håber virkelig at ministeren tager det alvorligt og overvejer en gang til om man ikke skulle lave en bred aftale så de her naturområder også kunne være beskyttet i fremtiden det er en sørgelig dag men vi støtter selvfølgelig at forslaget bliver taget tilbage',\n",
       " 'tak for det formand ja så står vi her med beslutningsforslag nr b om at vi permanent skal suspendere budgetloven generelt er det jo sådan at hvis man indgår en aftale skal man også overholde den for ellers har vi ikke et aftalesystem i danmark det synes vi sådan set er vigtigt jeg synes det er et godt system vi har i danmark hvor den til hver en tid siddende finansminister har et stærkt mandat fra folketinget til at kunne forhandle med kommuner og regioner og kommuner og regioner kommer ind med et stærkt mandat fra regionerne og kommunerne og så kan man lave en aftale vi må så sige at vi desværre på et tidspunkt så at de aftaler faktisk ikke blev overholdt så godt det viste sig at der var meget store overskridelser i forhold til de budgetter der var lagt vi synes budgetloven var meget firkantet da man lavede den og det synes vi stadig væk lidt vi mener helt klart at fortiden har fortalt os at der er et behov for at have et system til at kunne sanktionere også hvis ikke kommunerne og regionerne overholder den aftale der er indgået med den til hver en tid siddende regering og det er jo det budgetloven gør så tror jeg også man skal være opmærksom på – og det er ikke for at pege fingre ad nogen for sådan har det altid været – at når man laver finanslov og andre aftaler lægger man ½ mia kr ud mener jeg det er og så kan man puste op hvor mange milliarder man putter ud til kommuner og regioner og det har blå regeringer også gjort så man kan sige at når likviditeten vokser derude er det jo ikke bare velfærdskroner der ikke er kommet ud til velfærd for noget af det er også likviditetstilskud måske også til nogle kommuner der ikke har haft så stort behov for at få et likviditetstilskud hvorfor pengene så ligger ude i kommunernes kasser det er en billig måde at lave politik på for regeringen for det koster ikke noget om de ½ mia kr ligger i statskassen eller om de ligger i kommunekassen betyder ikke noget men så kan man puste sine budgetter op i forhold til når man skal tale med omverdenen så det vil selvfølgelig være en udfordring hvis man pludselig slipper over mia kr løs derude – særlig nu det vil give enorme flaskehalse og store udfordringer for det private et eller andet sted synes jeg egentlig at beslutningsforslaget sådan set rammer rigtigt ned i noget altså hvordan vi styrer kommunerne en kommune har måske besluttet sig for at bygge en skole måske til mio kr – det kan en skole godt koste i dag – men så sker der noget det skubber sig og pludselig har det skubbet sig i år og hvordan sikrer man sig så at de penge sådan set stadig væk er til rådighed inden for den budgetperiode som man arbejder med så i forbindelse med forslaget som det ligger vil jeg sige at jeg ikke synes man skal suspendere det her permanent nu skal man jo passe på for der er kommuner og hvordan har man den dialog hvis en kommune er i gang med et stort velfærdsbyggeri det kunne være en skole ældrebolig eller andet så kan det flytte sig og skulle man så ikke have nogle muligheder for at skubbe det foran sig på en måde uden at det påvirker ens anlægsbudget eksempelvis til året efter det kunne være tilfældet for en kommune der så skubber det frem til året efter men så kan der være en anden kommune der ikke kan gøre noget men som måske har det samme behov for at bygge eller drifte noget andet så jeg synes egentlig at beslutningsforslaget går ind i en debat som er rigtig men at suspendere det fuldstændig tror jeg faktisk heller ikke er en god idé hvis man spørger kl i et lukket rum tror jeg faktisk heller ikke at det er det ønske de har hvis jeg skal være helt ærlig altså at økonomien bare bliver fuldstændig fri og at man ikke på en eller anden måde også kan overholde de aftaler som man har indgået med en regering for der vil være nogle kommuner der bare vil sige at nu er de sat fri nu kører de på frihjul og så ødelægger man faktisk det fællesskab som der er vi har en god måde at aftale kommunernes økonomi på så kan man være politisk uenig i prioriteringerne det er jeg fuldstændig enig i men systemet og den ramme som vi gør det indenfor er vi faktisk godt tilfreds med',\n",
       " 'tak for det formand også tak for forslaget det er jo et sympatisk forslag og det tager ét produkt op det kunne være alle mulige andre produkter også men tøj er jo sådan et produkt der bliver umoderne og hvis ikke det bliver solgt ryger det til forbrænding det her handler egentlig om cirkulær økonomi jeg synes jo egentlig at man skulle tage diskussionen på en helt anden måde når vi snakker den her grønne omstilling og cirkulære økonomi for man kunne også sidde her i en finanslovsforhandling eller noget andet og så skal man bruge nogle penge og så siger man man kan godt låne penge det er faktisk ikke så dyrt i øjeblikket fordi renten er lav og hvorfor er den det det er den jo fordi centralbankerne bare printer penge hele tiden og sælger obligationer bare der er vækst i samfundet bare der er vækst i samfundet kan vi bruge alle de penge vi vil for vi skal ikke blive betale dem tilbage det er det der skaber vækst det skaber faktisk vækst at producere en hel masse vi ikke bruger men smider ud det skaber noget vækst det gør at vi kan bruge nogle penge på noget andet det er den diskussion vi bliver nødt til at tage men jeg er helt enig i forslaget her det er en kæmpe udfordring for os at vi bruger masser af energi vi bruger masser af ressourcer særlig hvis man tager sådan noget som bomuldstøj er det noget af det der virkelig koster ressourcer og så viser det sig at det aldrig bliver brugt det er jo ingen cirkulær økonomi det er cirkulær nul fordi produktet aldrig nogen sinde bliver brugt og så går det til forbrænding jeg er sådan set meget enig med nogle af de foregående ordfører i at det her med at gå enegang i danmark får vi nok ikke noget fornuftigt ud af vi får nok ikke ret meget klima ud af det fordi markedet flytter sig bare et andet sted hen og man kan købe sine ting over nettet hvis det bliver dyrere at købe tøj i danmark men tankesættet bag det her beslutningsforslag er jeg meget enig i og man burde egentlig gøre det bredere til at omfatte også andre produkter og få tænkt den der cirkulære økonomi ind i det altså hvordan vi tænker forbrug ikke kun i danmark men for den sags skyld i hele verden og så bliver der altså en lille smule mindre vækst og så kan det faktisk godt være at man kommer til at skulle afdrage på gæld som man også som nationalstat stifter så jeg håber egentlig meget at vi sådan kan blive på forslaget her for jeg har hørt de andre ordførere og så tænker jeg næsten at der kunne blive et flertal for det og at man faktisk godt kunne skrive noget fornuftigt i en beretning om hvordan vi vil arbejde med det her i danmark og dermed give den til enhver tid siddende minister et meget meget stærkt mandat til at arbejde med hvordan vi sikrer at vi faktisk reelt får mere cirkulær økonomi for vi kan godt lave cirkulær økonomi på det vi har brugt men hvis mængden af det der ikke bliver brugt næsten er lige så stor så har vi fat i den forkerte ende af de udfordringer som vi står over for så jeg håber at det er et forslag som vi først skal bruge tid på i udvalget hvor jeg tilfældigvis også selv er formand og hvor vi kan prøve at arbejde med hvordan vi kunne lave noget og måske også få et flertal så vi kunne give den til enhver tid siddende minister et stærkt mandat til at arbejde var det her for med den position vi har mener jeg helt klart også at vi skal gå eu-vejen og se på hvordan eu-landene kan gøre det og jeg vil bare sige at vi jo før i det her folketing har fået gode idéer som vi også har fået igennem i eu-systemet så hvorfor kunne vi ikke også få det i forhold til cirkulær økonomi så tak for forslaget vi stemmer ikke ja til det som det ligger her men jeg tror bestemt vi kan få noget positivt ud af det også politisk',\n",
       " 'tak for det danmark har i en række år bidraget til fred og stabilitet i verdens brændpunkter det er sket med bred opbakning fra folketinget det engagement ønsker regeringen at fortsætte og udvide med relevante og efterspurgte bidrag det handler om at bekæmpe terror og om at undgå et øget migrationspres og det handler om at understøtte maritim sikkerhed til gavn for den kommercielle skibstrafik det sker dels med en større pakke til natos mission i irak der bla indeholder en chef for missionen og et antal militære bidrag dels med en indsats i hormuzstrædet der omfatter et skibsbidrag og et stabsofficerbidrag til den europæisk ledede maritime overvågningsmission vi skal bidrage til de to indsatser af flere årsager i forhold til irak handler det først og fremmest om at bakke op om den fortsatte indsats mod terrororganisationen isil isil udgør fortsat en trussel selv om det geografiske kalifat nu er nedkæmpet isil søger at fortsætte sit virke med sin uhyrlige ideologi og ikke mindst som inspirator for ustabilitet og terrorangreb også uden for mellemøsten vi vil støtte kampen mod isil ved at rådgive og træne de irakiske sikkerhedsstyrker så de i fremtiden kan varetage iraks egen sikkerhed i forhold til indsatsen i hormuzstrædet handler det om at bidrage til fri og sikker sejlads gennem en styrket maritim overvågning i området som verdens femtestørste søfartsnation er det noget danmark har en klar interesse i dermed vil danmark bidrage substantielt til at øge sikkerheden i den bredere region der er behov for begge typer bidrag sikkerhedssituationen i irak og i den bredere region er bekymrende vi har i den seneste tid set overgreb på civilbefolkningen angreb på koalitionens lejre og personale og terrorangreb i hormuzstrædet kan spændingsniveauet hurtigt ændre sig med øget risiko for skibstrafikken til følge som altid når vi udsender soldater er soldaternes sikkerhed i fokus det er ikke ufarlige missioner eller indsættelsesområder vi sender danske soldater ud til vi skal selvsagt være meget bevidste om netop det truslen var også høj da folketinget sendte soldater til al asad-luftbasen vores soldater er uddannede og klar til de udfordringer som opgaverne vil kræve af dem med indsatsen i irak understreger vi at danmark fortsat er et kernemedlem i nato nato er et fællesskab og i et fællesskab skal man også bidrage de konkrete bidrag til irak og hormuzstrædet skal ses i sammenhæng med det store danske engagement i regionen i form af støtte til udviklings og stabiliseringsindsatser og humanitær bistand og i den sammenhæng vil jeg gerne fremhæve at der på forsvarsministeriets område og gennem det eksisterende freds og stabiliseringsprogram for irak og syrien ydes bidrag til eksempelvis minerydning og rådgivning på sikkerhedsområdet jeg håber at der her i folketinget vil være bred opbakning til bidragene og det gør jeg fordi det har stor betydning for de soldater som vi sender ud at de har et stærkt mandat indsatserne er både i danmark europa og regionens interesse danmark tager ansvar ikke kun herhjemme men også for sikkerhedsudfordringerne i europas nærområder tak for ordet']"
      ]
     },
     "execution_count": 104,
     "metadata": {},
     "output_type": "execute_result"
    }
   ],
   "source": [
    "query_string = 'stærkt mandat'\n",
    "\n",
    "[doc for doc in raw_transcripts['doc'] if query_string in doc][:30]"
   ]
  },
  {
   "cell_type": "code",
   "execution_count": 35,
   "metadata": {},
   "outputs": [],
   "source": [
    "def remove_phrases(doc):\n",
    "    \"\"\"\n",
    "    Remove phrases from a lowercased document.\n",
    "    \"\"\"\n",
    "    \n",
    "    # Remove names – requires uppercase and is thus done separately!\n",
    "    name_pattern = r'(?:[Hh]r\\. |[Ff]ru |[Ff]røken )[A-ZÆØÅ][a-zæøå]+(?:-[A-ZÆØÅ][a-zæøå]+)?(?:\\s[A-ZÆØÅ][a-zæøå]+)*(?:-[A-ZÆØÅ][a-zæøå]+)?(?:\\s[A-ZÆØÅ][a-zæøå]+)*(?:-[A-ZÆØÅ][a-zæøå]+)? '\n",
    "    doc = re.sub(name_pattern, '', doc)\n",
    "\n",
    "    # Consider removing party names and xxxministeren\n",
    "\n",
    "    doc = doc.lower()\n",
    "\n",
    "    # Remove procedural thank yous of different kinds\n",
    "    politeness_pattern = r'^[\\w\\s,]*tak[\\w\\s,]*. '\n",
    "    doc = re.sub(politeness_pattern, '', doc)\n",
    "    \n",
    "    return doc\n"
   ]
  },
  {
   "cell_type": "code",
   "execution_count": 36,
   "metadata": {},
   "outputs": [],
   "source": [
    "test_doc = 'Tak. Fru Pernille Vermund brugte en del tid på at sværte fru Marie Krarup til, selv om fru Marie Krarup var så venlig at tilslutte sig beslutningsforslaget. Fru Pernille Vermunds anke var, at Dansk Folkeparti ikke havde gjort'"
   ]
  },
  {
   "cell_type": "code",
   "execution_count": 37,
   "metadata": {},
   "outputs": [
    {
     "data": {
      "text/plain": [
       "'brugte en del tid på at sværte til, selv om var så venlig at tilslutte sig beslutningsforslaget. anke var, at dansk folkeparti ikke havde gjort'"
      ]
     },
     "execution_count": 37,
     "metadata": {},
     "output_type": "execute_result"
    }
   ],
   "source": [
    "remove_phrases(test_doc)"
   ]
  },
  {
   "cell_type": "code",
   "execution_count": 38,
   "metadata": {},
   "outputs": [
    {
     "name": "stderr",
     "output_type": "stream",
     "text": [
      "[nltk_data] Downloading package punkt to\n",
      "[nltk_data]     /Users/mathiasbruun/nltk_data...\n",
      "[nltk_data]   Package punkt is already up-to-date!\n",
      "[nltk_data] Downloading package wordnet to\n",
      "[nltk_data]     /Users/mathiasbruun/nltk_data...\n",
      "[nltk_data]   Package wordnet is already up-to-date!\n",
      "[nltk_data] Downloading package omw-1.4 to\n",
      "[nltk_data]     /Users/mathiasbruun/nltk_data...\n",
      "[nltk_data]   Package omw-1.4 is already up-to-date!\n",
      "[nltk_data] Downloading package stopwords to\n",
      "[nltk_data]     /Users/mathiasbruun/nltk_data...\n",
      "[nltk_data]   Package stopwords is already up-to-date!\n",
      "[nltk_data] Downloading package averaged_perceptron_tagger to\n",
      "[nltk_data]     /Users/mathiasbruun/nltk_data...\n",
      "[nltk_data]   Package averaged_perceptron_tagger is already up-to-\n",
      "[nltk_data]       date!\n"
     ]
    }
   ],
   "source": [
    "import re\n",
    "import string\n",
    "import nltk\n",
    "for dependency in ['punkt', 'wordnet', 'omw-1.4', 'stopwords', 'averaged_perceptron_tagger']:\n",
    "    nltk.download(dependency)\n",
    "\n",
    "def preproc_docs(text):\n",
    "    #Lowercasing words\n",
    "    text = text.lower()\n",
    "    \n",
    "    #Removing HTML tag\n",
    "    text = re.sub(r'&amp', '', text)\n",
    "\n",
    "    #Replace \"&\" with \"and\"\n",
    "    text = re.sub(r'&','and', text)\n",
    "    \n",
    "    #Removing punctuation\n",
    "    text = text.translate(str.maketrans('', '', string.punctuation.replace('-',''))) #Taking hyphens out of punctuation to remove\n",
    "    text = re.sub(r' - ','', text) #removing dash lines bounded by whitespace (and therefore not part of a word)\n",
    "    text = re.sub(r'…', '', text)\n",
    "    text = re.sub(r'[â€˜â€™â€œâ€â€”]','',text) #removing punctuation that is not captured by string.punctuation\n",
    "\n",
    "    #Removing numbers\n",
    "    text = re.sub(r'[0-9.]','', text)\n",
    "\n",
    "    # Removing idiosynchratic characters in our data\n",
    "    text = re.sub(r'-\\n|\\n-|\\na-|\\nb-|â€“|Â«|--|’', '', text)\n",
    "    text = re.sub(r'- ', ' ', text)\n",
    "\n",
    "    #Removing separators and superfluous whitespace\n",
    "    text = text.strip()\n",
    "    text = re.sub(r' +',' ',text)\n",
    "\n",
    "    return text"
   ]
  },
  {
   "cell_type": "code",
   "execution_count": 39,
   "metadata": {},
   "outputs": [
    {
     "data": {
      "application/vnd.jupyter.widget-view+json": {
       "model_id": "8c5afcd8ba524119b056034576f1ef51",
       "version_major": 2,
       "version_minor": 0
      },
      "text/plain": [
       "VBox(children=(HBox(children=(IntProgress(value=0, description='0.00%', max=46258), Label(value='0 / 46258')))…"
      ]
     },
     "metadata": {},
     "output_type": "display_data"
    }
   ],
   "source": [
    "#raw_transcripts.doc = raw_transcripts.doc.parallel_apply(lambda x: remove_phrases(x))\n",
    "raw_transcripts.doc = raw_transcripts.doc.parallel_apply(lambda x: preproc_docs(x))"
   ]
  },
  {
   "cell_type": "code",
   "execution_count": 40,
   "metadata": {},
   "outputs": [
    {
     "data": {
      "text/plain": [
       "9         tak danmarks kolonihistorie handler om militær...\n",
       "10        jeg mener at det er personen der kan snakke på...\n",
       "11        det handler jo ikke om hvad jeg synes det hand...\n",
       "12        jeg ved ikke om det – når man snakker om at bl...\n",
       "13        det er ikke noget jeg bare mener det er noget ...\n",
       "                                ...                        \n",
       "349589    det burde jo så være kulturministeren jeg stil...\n",
       "349590    jeg er meget glad for at det konservative folk...\n",
       "349591    nej man kan ikke en til en sende en refunderin...\n",
       "349592    jeg vil gerne starte med at kvittere for det g...\n",
       "349593    ja det er det nye omprioriteringsbidrag som og...\n",
       "Name: doc, Length: 92515, dtype: object"
      ]
     },
     "execution_count": 40,
     "metadata": {},
     "output_type": "execute_result"
    }
   ],
   "source": [
    "raw_transcripts.doc"
   ]
  },
  {
   "cell_type": "code",
   "execution_count": 41,
   "metadata": {},
   "outputs": [],
   "source": [
    "raw_transcripts.to_pickle('data/clean/preprocessed_docs.p')"
   ]
  }
 ],
 "metadata": {
  "kernelspec": {
   "display_name": "Python 3",
   "language": "python",
   "name": "python3"
  },
  "language_info": {
   "codemirror_mode": {
    "name": "ipython",
    "version": 3
   },
   "file_extension": ".py",
   "mimetype": "text/x-python",
   "name": "python",
   "nbconvert_exporter": "python",
   "pygments_lexer": "ipython3",
   "version": "3.7.12"
  },
  "orig_nbformat": 4
 },
 "nbformat": 4,
 "nbformat_minor": 2
}
