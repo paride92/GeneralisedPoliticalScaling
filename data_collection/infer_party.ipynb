{
 "cells": [
  {
   "cell_type": "code",
   "execution_count": 1,
   "id": "53b88113-727c-4380-aa9e-07c4fa8c827f",
   "metadata": {},
   "outputs": [],
   "source": [
    "import pandas as pd\n",
    "from fuzzywuzzy import fuzz\n",
    "from fuzzywuzzy import process\n",
    "import pickle\n",
    "from tqdm.notebook import tqdm\n",
    "tqdm.pandas()"
   ]
  },
  {
   "cell_type": "code",
   "execution_count": 2,
   "id": "edd3ef96",
   "metadata": {},
   "outputs": [],
   "source": [
    "test_df = pd.read_pickle('data/clean/combined/df_combined.p')"
   ]
  },
  {
   "cell_type": "code",
   "execution_count": 10,
   "id": "bb6f885c-445b-4ed3-98b4-d3e90a7741ea",
   "metadata": {},
   "outputs": [],
   "source": [
    "tweet_path = 'data/clean/twitter/full_tweet_df_v2.p'\n",
    "meta_path = 'data/clean/meta/political_ads_w_metadata_v2.p'\n",
    "parl_path = 'data/clean/parliament/transcripts_imputed_v2.p'"
   ]
  },
  {
   "cell_type": "code",
   "execution_count": 11,
   "id": "7243d86c-3763-438d-a674-13b06ce9731b",
   "metadata": {},
   "outputs": [],
   "source": [
    "with open(tweet_path, 'rb') as a, open(meta_path, 'rb') as b, open(parl_path, 'rb') as c:\n",
    "    tweet_df = pickle.load(a)\n",
    "    meta_df = pickle.load(b)\n",
    "    parl_df = pickle.load(c)"
   ]
  },
  {
   "cell_type": "code",
   "execution_count": 19,
   "id": "8ce64ad2",
   "metadata": {},
   "outputs": [],
   "source": [
    "mps = pd.read_excel(\"/Users/mathiasbruun/Desktop/Uni/Master's Thesis/DCPA/mp_tally.xlsx\", header = None)"
   ]
  },
  {
   "cell_type": "code",
   "execution_count": 15,
   "id": "e14a9372-f696-4477-801c-23ddd4ae2024",
   "metadata": {},
   "outputs": [],
   "source": [
    "mps = pd.read_csv('data/raw/parliament/MP_names_15_19.csv')"
   ]
  },
  {
   "cell_type": "code",
   "execution_count": 341,
   "id": "ce4e5029-8cf7-4ee3-91de-080168e65eda",
   "metadata": {},
   "outputs": [],
   "source": [
    "colmap_tw = {\n",
    "        'full_text': 'doc',\n",
    "        'name': 'full_name',\n",
    "        'id_str': 'doc_id',\n",
    "        'created_at': 'start_time',\n",
    "        'description': 'tw_bio',\n",
    "        'screen_name': 'tw_handle',\n",
    "        'followers_count': 'tw_followers'\n",
    "    }\n",
    "\n",
    "colmap_meta = {\n",
    "        'ad_creative_bodies': 'doc',\n",
    "        'id': 'doc_id',\n",
    "        'bylines': 'meta_sponsor',\n",
    "        'ad_delivery_start_time': 'start_time',\n",
    "        'ad_delivery_stop_time': 'end_time',\n",
    "        'page_name': 'full_name',\n",
    "        'name': 'wiki_name',\n",
    "        'ad_snapshot_url': 'meta_url',\n",
    "        'demographic_distribution': 'meta_demography',\n",
    "        'delivery_by_region': 'meta_region',\n",
    "        'estimated_audience_size': 'meta_audience',\n",
    "        'publisher_platforms': 'meta_platforms',\n",
    "        'spend': 'meta_spend',\n",
    "        'currency': 'meta_currency',\n",
    "        'impressions': 'meta_impressions',\n",
    "        'ad_creative_link_titles': 'meta_titles',\n",
    "        'ad_creative_link_captions': 'meta_captions',\n",
    "        'ad_creative_link_descriptions': 'meta_descriptions',\n",
    "        'birth_year': 'wiki_birth_year',\n",
    "        'group_name': 'party',\n",
    "        'electoral_region': 'wiki_electoral_region',\n",
    "        'election_data_year': 'wiki_election_year',\n",
    "        'education': 'wiki_edu',\n",
    "        'personal_votes': 'wiki_votes'\n",
    "    }\n",
    "\n",
    "colmap_parl = {\n",
    "        'text': 'doc',\n",
    "        'group_name': 'party',\n",
    "        'role': 'parl_role'\n",
    "    }"
   ]
  },
  {
   "cell_type": "code",
   "execution_count": 342,
   "id": "c1dd13d6-7168-446a-8e1b-c875c0e86b5e",
   "metadata": {},
   "outputs": [
    {
     "data": {
      "text/html": [
       "<div>\n",
       "<style scoped>\n",
       "    .dataframe tbody tr th:only-of-type {\n",
       "        vertical-align: middle;\n",
       "    }\n",
       "\n",
       "    .dataframe tbody tr th {\n",
       "        vertical-align: top;\n",
       "    }\n",
       "\n",
       "    .dataframe thead th {\n",
       "        text-align: right;\n",
       "    }\n",
       "</style>\n",
       "<table border=\"1\" class=\"dataframe\">\n",
       "  <thead>\n",
       "    <tr style=\"text-align: right;\">\n",
       "      <th></th>\n",
       "      <th>tw_handle</th>\n",
       "      <th>full_name</th>\n",
       "      <th>tw_bio</th>\n",
       "      <th>tw_followers</th>\n",
       "      <th>doc_id</th>\n",
       "      <th>start_time</th>\n",
       "      <th>doc</th>\n",
       "      <th>source</th>\n",
       "    </tr>\n",
       "  </thead>\n",
       "  <tbody>\n",
       "    <tr>\n",
       "      <th>0</th>\n",
       "      <td>AndersKuhnau</td>\n",
       "      <td>Anders Kühnau</td>\n",
       "      <td>Regionsrådsformand i Region Midtjylland. Forma...</td>\n",
       "      <td>1864</td>\n",
       "      <td>1570289445332459523</td>\n",
       "      <td>2022-09-15 05:52:32+00:00</td>\n",
       "      <td>@HrTousgaard @JTzsche @regionerne @Sygeplejera...</td>\n",
       "      <td>twitter</td>\n",
       "    </tr>\n",
       "    <tr>\n",
       "      <th>1</th>\n",
       "      <td>AndersKuhnau</td>\n",
       "      <td>Anders Kühnau</td>\n",
       "      <td>Regionsrådsformand i Region Midtjylland. Forma...</td>\n",
       "      <td>1864</td>\n",
       "      <td>1570069366816792576</td>\n",
       "      <td>2022-09-14 15:18:02+00:00</td>\n",
       "      <td>@JTzsche @regionerne @Sygeplejeraadet Du ved f...</td>\n",
       "      <td>twitter</td>\n",
       "    </tr>\n",
       "  </tbody>\n",
       "</table>\n",
       "</div>"
      ],
      "text/plain": [
       "      tw_handle      full_name  \\\n",
       "0  AndersKuhnau  Anders Kühnau   \n",
       "1  AndersKuhnau  Anders Kühnau   \n",
       "\n",
       "                                              tw_bio  tw_followers  \\\n",
       "0  Regionsrådsformand i Region Midtjylland. Forma...          1864   \n",
       "1  Regionsrådsformand i Region Midtjylland. Forma...          1864   \n",
       "\n",
       "                doc_id                start_time  \\\n",
       "0  1570289445332459523 2022-09-15 05:52:32+00:00   \n",
       "1  1570069366816792576 2022-09-14 15:18:02+00:00   \n",
       "\n",
       "                                                 doc   source  \n",
       "0  @HrTousgaard @JTzsche @regionerne @Sygeplejera...  twitter  \n",
       "1  @JTzsche @regionerne @Sygeplejeraadet Du ved f...  twitter  "
      ]
     },
     "execution_count": 342,
     "metadata": {},
     "output_type": "execute_result"
    }
   ],
   "source": [
    "tweet_df['source'] = 'twitter'\n",
    "tweet_df = tweet_df.rename(\n",
    "    columns = colmap_tw\n",
    ")\n",
    "tweet_df.head(2)"
   ]
  },
  {
   "cell_type": "code",
   "execution_count": 343,
   "id": "7a5baf4b-9901-49fe-ad54-ba5ac98e5b9d",
   "metadata": {},
   "outputs": [
    {
     "data": {
      "text/html": [
       "<div>\n",
       "<style scoped>\n",
       "    .dataframe tbody tr th:only-of-type {\n",
       "        vertical-align: middle;\n",
       "    }\n",
       "\n",
       "    .dataframe tbody tr th {\n",
       "        vertical-align: top;\n",
       "    }\n",
       "\n",
       "    .dataframe thead th {\n",
       "        text-align: right;\n",
       "    }\n",
       "</style>\n",
       "<table border=\"1\" class=\"dataframe\">\n",
       "  <thead>\n",
       "    <tr style=\"text-align: right;\">\n",
       "      <th></th>\n",
       "      <th>page_id</th>\n",
       "      <th>full_name</th>\n",
       "      <th>meta_sponsor</th>\n",
       "      <th>doc</th>\n",
       "      <th>start_time</th>\n",
       "      <th>meta_url</th>\n",
       "      <th>meta_demography</th>\n",
       "      <th>meta_region</th>\n",
       "      <th>meta_audience</th>\n",
       "      <th>meta_platforms</th>\n",
       "      <th>...</th>\n",
       "      <th>meta_descriptions</th>\n",
       "      <th>level</th>\n",
       "      <th>wiki_name</th>\n",
       "      <th>wiki_birth_year</th>\n",
       "      <th>party</th>\n",
       "      <th>wiki_electoral_region</th>\n",
       "      <th>wiki_election_year</th>\n",
       "      <th>wiki_edu</th>\n",
       "      <th>wiki_votes</th>\n",
       "      <th>source</th>\n",
       "    </tr>\n",
       "  </thead>\n",
       "  <tbody>\n",
       "    <tr>\n",
       "      <th>0</th>\n",
       "      <td>132364993978468</td>\n",
       "      <td>Andreas Steenberg</td>\n",
       "      <td>Andreas Steenberg</td>\n",
       "      <td>[Hvor dum og uretfærdig kan vores udlændingelo...</td>\n",
       "      <td>2022-10-22</td>\n",
       "      <td>https://www.facebook.com/ads/archive/render_ad...</td>\n",
       "      <td>[{'percentage': '0.026316', 'age': '55-64', 'g...</td>\n",
       "      <td>[{'percentage': '1', 'region': 'Central Denmar...</td>\n",
       "      <td>{'lower_bound': '100001', 'upper_bound': '5000...</td>\n",
       "      <td>[facebook, instagram]</td>\n",
       "      <td>...</td>\n",
       "      <td>NaN</td>\n",
       "      <td>politician</td>\n",
       "      <td>Andreas Steenberg</td>\n",
       "      <td>1983 (35 år)</td>\n",
       "      <td>Radikale Venstre</td>\n",
       "      <td>Vestjylland (Kredsmandat)</td>\n",
       "      <td>2019.0</td>\n",
       "      <td>cand.scient.pol.</td>\n",
       "      <td>4.444</td>\n",
       "      <td>meta</td>\n",
       "    </tr>\n",
       "    <tr>\n",
       "      <th>1</th>\n",
       "      <td>132364993978468</td>\n",
       "      <td>Andreas Steenberg</td>\n",
       "      <td>Andreas Steenberg</td>\n",
       "      <td>[Hvor dum og uretfærdig kan vores udlændingelo...</td>\n",
       "      <td>2022-10-22</td>\n",
       "      <td>https://www.facebook.com/ads/archive/render_ad...</td>\n",
       "      <td>[{'percentage': '0.065789', 'age': '45-54', 'g...</td>\n",
       "      <td>[{'percentage': '0.230263', 'region': 'Central...</td>\n",
       "      <td>{'lower_bound': '50001', 'upper_bound': '100000'}</td>\n",
       "      <td>[facebook, instagram]</td>\n",
       "      <td>...</td>\n",
       "      <td>NaN</td>\n",
       "      <td>politician</td>\n",
       "      <td>Andreas Steenberg</td>\n",
       "      <td>1983 (35 år)</td>\n",
       "      <td>Radikale Venstre</td>\n",
       "      <td>Vestjylland (Kredsmandat)</td>\n",
       "      <td>2019.0</td>\n",
       "      <td>cand.scient.pol.</td>\n",
       "      <td>4.444</td>\n",
       "      <td>meta</td>\n",
       "    </tr>\n",
       "  </tbody>\n",
       "</table>\n",
       "<p>2 rows × 27 columns</p>\n",
       "</div>"
      ],
      "text/plain": [
       "           page_id          full_name       meta_sponsor  \\\n",
       "0  132364993978468  Andreas Steenberg  Andreas Steenberg   \n",
       "1  132364993978468  Andreas Steenberg  Andreas Steenberg   \n",
       "\n",
       "                                                 doc  start_time  \\\n",
       "0  [Hvor dum og uretfærdig kan vores udlændingelo...  2022-10-22   \n",
       "1  [Hvor dum og uretfærdig kan vores udlændingelo...  2022-10-22   \n",
       "\n",
       "                                            meta_url  \\\n",
       "0  https://www.facebook.com/ads/archive/render_ad...   \n",
       "1  https://www.facebook.com/ads/archive/render_ad...   \n",
       "\n",
       "                                     meta_demography  \\\n",
       "0  [{'percentage': '0.026316', 'age': '55-64', 'g...   \n",
       "1  [{'percentage': '0.065789', 'age': '45-54', 'g...   \n",
       "\n",
       "                                         meta_region  \\\n",
       "0  [{'percentage': '1', 'region': 'Central Denmar...   \n",
       "1  [{'percentage': '0.230263', 'region': 'Central...   \n",
       "\n",
       "                                       meta_audience         meta_platforms  \\\n",
       "0  {'lower_bound': '100001', 'upper_bound': '5000...  [facebook, instagram]   \n",
       "1  {'lower_bound': '50001', 'upper_bound': '100000'}  [facebook, instagram]   \n",
       "\n",
       "   ... meta_descriptions       level          wiki_name wiki_birth_year  \\\n",
       "0  ...               NaN  politician  Andreas Steenberg    1983 (35 år)   \n",
       "1  ...               NaN  politician  Andreas Steenberg    1983 (35 år)   \n",
       "\n",
       "              party      wiki_electoral_region wiki_election_year  \\\n",
       "0  Radikale Venstre  Vestjylland (Kredsmandat)             2019.0   \n",
       "1  Radikale Venstre  Vestjylland (Kredsmandat)             2019.0   \n",
       "\n",
       "           wiki_edu wiki_votes source  \n",
       "0  cand.scient.pol.      4.444   meta  \n",
       "1  cand.scient.pol.      4.444   meta  \n",
       "\n",
       "[2 rows x 27 columns]"
      ]
     },
     "execution_count": 343,
     "metadata": {},
     "output_type": "execute_result"
    }
   ],
   "source": [
    "meta_df['source'] = 'meta'\n",
    "meta_df = meta_df.rename(\n",
    "    columns = colmap_meta\n",
    ")\n",
    "meta_df.head(2)"
   ]
  },
  {
   "cell_type": "code",
   "execution_count": 344,
   "id": "143f150f-6ed0-45d6-b8f7-d31bb959a046",
   "metadata": {},
   "outputs": [
    {
     "data": {
      "text/html": [
       "<div>\n",
       "<style scoped>\n",
       "    .dataframe tbody tr th:only-of-type {\n",
       "        vertical-align: middle;\n",
       "    }\n",
       "\n",
       "    .dataframe tbody tr th {\n",
       "        vertical-align: top;\n",
       "    }\n",
       "\n",
       "    .dataframe thead th {\n",
       "        text-align: right;\n",
       "    }\n",
       "</style>\n",
       "<table border=\"1\" class=\"dataframe\">\n",
       "  <thead>\n",
       "    <tr style=\"text-align: right;\">\n",
       "      <th></th>\n",
       "      <th>first_name</th>\n",
       "      <th>last_name</th>\n",
       "      <th>full_name</th>\n",
       "      <th>party</th>\n",
       "      <th>parl_role</th>\n",
       "      <th>doc</th>\n",
       "      <th>year</th>\n",
       "      <th>day</th>\n",
       "      <th>time</th>\n",
       "      <th>start_time</th>\n",
       "      <th>end_time</th>\n",
       "      <th>duration</th>\n",
       "      <th>source</th>\n",
       "    </tr>\n",
       "  </thead>\n",
       "  <tbody>\n",
       "    <tr>\n",
       "      <th>0</th>\n",
       "      <td>Lars Løkke</td>\n",
       "      <td>Rasmussen</td>\n",
       "      <td>Lars Løkke Rasmussen</td>\n",
       "      <td>V,UFG,M</td>\n",
       "      <td>minister</td>\n",
       "      <td>Danmark er et godt land at leve i. Vi har bygg...</td>\n",
       "      <td>2009</td>\n",
       "      <td>10-06</td>\n",
       "      <td>12:04:01</td>\n",
       "      <td>2009-10-06T12:04:01</td>\n",
       "      <td>2009-10-06T12:50:39</td>\n",
       "      <td>0 days 00:46:38</td>\n",
       "      <td>parliament</td>\n",
       "    </tr>\n",
       "    <tr>\n",
       "      <th>1</th>\n",
       "      <td>Bjarne</td>\n",
       "      <td>Laustsen</td>\n",
       "      <td>Bjarne Laustsen</td>\n",
       "      <td>S</td>\n",
       "      <td>medlem</td>\n",
       "      <td>Tak, hr. formand. Den sag, jeg vil bringe på b...</td>\n",
       "      <td>2009</td>\n",
       "      <td>10-07</td>\n",
       "      <td>13:04:25</td>\n",
       "      <td>2009-10-07T13:04:25</td>\n",
       "      <td>2009-10-07T13:06:31</td>\n",
       "      <td>0 days 00:02:06</td>\n",
       "      <td>parliament</td>\n",
       "    </tr>\n",
       "  </tbody>\n",
       "</table>\n",
       "</div>"
      ],
      "text/plain": [
       "   first_name  last_name             full_name    party parl_role  \\\n",
       "0  Lars Løkke  Rasmussen  Lars Løkke Rasmussen  V,UFG,M  minister   \n",
       "1      Bjarne   Laustsen       Bjarne Laustsen        S    medlem   \n",
       "\n",
       "                                                 doc  year    day      time  \\\n",
       "0  Danmark er et godt land at leve i. Vi har bygg...  2009  10-06  12:04:01   \n",
       "1  Tak, hr. formand. Den sag, jeg vil bringe på b...  2009  10-07  13:04:25   \n",
       "\n",
       "            start_time             end_time        duration      source  \n",
       "0  2009-10-06T12:04:01  2009-10-06T12:50:39 0 days 00:46:38  parliament  \n",
       "1  2009-10-07T13:04:25  2009-10-07T13:06:31 0 days 00:02:06  parliament  "
      ]
     },
     "execution_count": 344,
     "metadata": {},
     "output_type": "execute_result"
    }
   ],
   "source": [
    "parl_df['source'] = 'parliament'\n",
    "parl_df = parl_df.rename(\n",
    "    columns = colmap_parl\n",
    ")\n",
    "parl_df.head(2)"
   ]
  },
  {
   "cell_type": "code",
   "execution_count": 345,
   "id": "b644ec67-c718-4288-b579-89ef1901a883",
   "metadata": {},
   "outputs": [],
   "source": [
    "df_concat = pd.concat([tweet_df, meta_df, parl_df])"
   ]
  },
  {
   "cell_type": "code",
   "execution_count": 346,
   "id": "54ad8d7c-429d-45b0-adc2-a5af8f9a3f4b",
   "metadata": {},
   "outputs": [
    {
     "data": {
      "text/plain": [
       "Index(['tw_handle', 'full_name', 'tw_bio', 'tw_followers', 'doc_id',\n",
       "       'start_time', 'doc', 'source', 'page_id', 'meta_sponsor', 'meta_url',\n",
       "       'meta_demography', 'meta_region', 'meta_audience', 'meta_platforms',\n",
       "       'meta_spend', 'meta_currency', 'meta_impressions', 'meta_titles',\n",
       "       'end_time', 'meta_captions', 'meta_descriptions', 'level', 'wiki_name',\n",
       "       'wiki_birth_year', 'party', 'wiki_electoral_region',\n",
       "       'wiki_election_year', 'wiki_edu', 'wiki_votes', 'first_name',\n",
       "       'last_name', 'parl_role', 'year', 'day', 'time', 'duration'],\n",
       "      dtype='object')"
      ]
     },
     "execution_count": 346,
     "metadata": {},
     "output_type": "execute_result"
    }
   ],
   "source": [
    "df_concat.columns"
   ]
  },
  {
   "cell_type": "code",
   "execution_count": 347,
   "id": "6e0121b7-02e1-4787-a056-7dbb86eb0543",
   "metadata": {},
   "outputs": [],
   "source": [
    "#(\n",
    "#    df_concat[['source', 'party', 'full_name']]\n",
    "#        .sort_values(by = 'full_name')\n",
    "#        .drop_duplicates(subset=['full_name'])\n",
    "#).to_excel('politician_names.xlsx')"
   ]
  },
  {
   "cell_type": "code",
   "execution_count": 348,
   "id": "d6bfdcaa-0d6f-46d7-92fd-38eb76214402",
   "metadata": {},
   "outputs": [],
   "source": [
    "mapped_names = pd.read_excel('politician_names_coded.xlsx')"
   ]
  },
  {
   "cell_type": "code",
   "execution_count": 349,
   "id": "f2167239-a4dc-47eb-b660-7643f7401639",
   "metadata": {},
   "outputs": [],
   "source": [
    "mapped_names = mapped_names.loc[mapped_names['mapping'].notna(), ['full_name', 'mapping']].set_index('full_name')"
   ]
  },
  {
   "cell_type": "code",
   "execution_count": 350,
   "id": "1e6bb33b-29a1-461a-be17-6e755f3b4d34",
   "metadata": {},
   "outputs": [
    {
     "data": {
      "text/html": [
       "<div>\n",
       "<style scoped>\n",
       "    .dataframe tbody tr th:only-of-type {\n",
       "        vertical-align: middle;\n",
       "    }\n",
       "\n",
       "    .dataframe tbody tr th {\n",
       "        vertical-align: top;\n",
       "    }\n",
       "\n",
       "    .dataframe thead th {\n",
       "        text-align: right;\n",
       "    }\n",
       "</style>\n",
       "<table border=\"1\" class=\"dataframe\">\n",
       "  <thead>\n",
       "    <tr style=\"text-align: right;\">\n",
       "      <th></th>\n",
       "      <th>mapping</th>\n",
       "    </tr>\n",
       "    <tr>\n",
       "      <th>full_name</th>\n",
       "      <th></th>\n",
       "    </tr>\n",
       "  </thead>\n",
       "  <tbody>\n",
       "    <tr>\n",
       "      <th>Aaja Chemnitz Larsen</th>\n",
       "      <td>Aaja Chemnitz</td>\n",
       "    </tr>\n",
       "    <tr>\n",
       "      <th>Aaja Chemnitz Larsen, Inuit Ataqatigiit</th>\n",
       "      <td>Aaja Chemnitz</td>\n",
       "    </tr>\n",
       "    <tr>\n",
       "      <th>Aaja Chemnitz, Inuit Ataqatigiit</th>\n",
       "      <td>Aaja Chemnitz</td>\n",
       "    </tr>\n",
       "    <tr>\n",
       "      <th>Aki Høegh-Dam</th>\n",
       "      <td>Aki-Matilda Høegh-Dam</td>\n",
       "    </tr>\n",
       "    <tr>\n",
       "      <th>Ane Halsboe-Larsen</th>\n",
       "      <td>Ane Halsboe-Jørgensen</td>\n",
       "    </tr>\n",
       "    <tr>\n",
       "      <th>...</th>\n",
       "      <td>...</td>\n",
       "    </tr>\n",
       "    <tr>\n",
       "      <th>karen lagoni</th>\n",
       "      <td>Karen Lagoni</td>\n",
       "    </tr>\n",
       "    <tr>\n",
       "      <th>malene busk</th>\n",
       "      <td>Malene Busk</td>\n",
       "    </tr>\n",
       "    <tr>\n",
       "      <th>melanie simick</th>\n",
       "      <td>Melanie Simick</td>\n",
       "    </tr>\n",
       "    <tr>\n",
       "      <th>steffen wich</th>\n",
       "      <td>Steffen Wich</td>\n",
       "    </tr>\n",
       "    <tr>\n",
       "      <th>søren brink</th>\n",
       "      <td>Søren Brink</td>\n",
       "    </tr>\n",
       "  </tbody>\n",
       "</table>\n",
       "<p>89 rows × 1 columns</p>\n",
       "</div>"
      ],
      "text/plain": [
       "                                                       mapping\n",
       "full_name                                                     \n",
       "Aaja Chemnitz Larsen                             Aaja Chemnitz\n",
       "Aaja Chemnitz Larsen, Inuit Ataqatigiit          Aaja Chemnitz\n",
       "Aaja Chemnitz, Inuit Ataqatigiit                 Aaja Chemnitz\n",
       "Aki Høegh-Dam                            Aki-Matilda Høegh-Dam\n",
       "Ane Halsboe-Larsen                       Ane Halsboe-Jørgensen\n",
       "...                                                        ...\n",
       "karen lagoni                                      Karen Lagoni\n",
       "malene busk                                        Malene Busk\n",
       "melanie simick                                  Melanie Simick\n",
       "steffen wich                                      Steffen Wich\n",
       "søren brink                                        Søren Brink\n",
       "\n",
       "[89 rows x 1 columns]"
      ]
     },
     "execution_count": 350,
     "metadata": {},
     "output_type": "execute_result"
    }
   ],
   "source": [
    "mapped_names"
   ]
  },
  {
   "cell_type": "code",
   "execution_count": 351,
   "id": "8cfc2b42-66da-4ae2-af57-2b519a391b97",
   "metadata": {},
   "outputs": [],
   "source": [
    "df_concat['full_name'] = df_concat['full_name'].map(mapped_names['mapping']).fillna(df_concat['full_name'])"
   ]
  },
  {
   "cell_type": "code",
   "execution_count": 352,
   "id": "38b3c72d-109f-4291-978a-a37d6086bdc6",
   "metadata": {},
   "outputs": [],
   "source": [
    "df = df_concat.copy()"
   ]
  },
  {
   "cell_type": "code",
   "execution_count": 353,
   "id": "c814c9d0-a9d0-481a-87b2-505d2681ee1d",
   "metadata": {},
   "outputs": [
    {
     "data": {
      "text/plain": [
       "S                              62774\n",
       "V                              53013\n",
       "DF                             40235\n",
       "EL                             34710\n",
       "SF                             25689\n",
       "KF                             21412\n",
       "RV                             20403\n",
       "LA                             18167\n",
       "ALT                             8670\n",
       "NB                              5164\n",
       "Venstre                         4651\n",
       "Socialistisk Folkeparti         2905\n",
       "V,UFG                           2348\n",
       "UFG                             1875\n",
       "V,UFG,M                         1726\n",
       "Det Konservative Folkeparti     1718\n",
       "Socialdemokratiet               1701\n",
       "SF,S                            1402\n",
       "Nye Borgerlige                  1361\n",
       "Radikale Venstre                1240\n",
       "IA                              1223\n",
       "Liberal Alliance                1036\n",
       "KD                               813\n",
       "Dansk Folkeparti                 738\n",
       "FG                               643\n",
       "Enhedslisten                     557\n",
       "SIU                              507\n",
       "JF                               505\n",
       "T                                287\n",
       "SP                               286\n",
       "SF,RV,S                          190\n",
       "LA,UFG                           139\n",
       "DD                               106\n",
       "RV,UFG,ALT,FG                    102\n",
       "NQ                                97\n",
       "Alternativet                      88\n",
       "Inuit Ataqatigiit                 67\n",
       "TF                                65\n",
       "M                                 37\n",
       "Siumut                             3\n",
       "Name: party, dtype: int64"
      ]
     },
     "execution_count": 353,
     "metadata": {},
     "output_type": "execute_result"
    }
   ],
   "source": [
    "df['party'].value_counts()"
   ]
  },
  {
   "cell_type": "code",
   "execution_count": 374,
   "id": "a89fe013-0383-403e-8a2d-6df3c038e358",
   "metadata": {},
   "outputs": [],
   "source": [
    "party_map = {\n",
    "    'Radikale Venstre': 'RV',\n",
    "    'Venstre': 'V',\n",
    "    'Socialistisk Folkeparti': 'SF',\n",
    "    'Det Konservative Folkeparti': 'KF',\n",
    "    'Socialdemokratiet': 'S',\n",
    "    'Nye Borgerlige': 'NB',\n",
    "    'Liberal Alliance': 'LA',\n",
    "    'Dansk Folkeparti': 'DF',\n",
    "    'Enhedslisten': 'EL',\n",
    "    'Alternativet': 'ALT',\n",
    "    'Inuit Ataqatigiit': 'IA',\n",
    "    'Siumut': 'SIU',\n",
    "    'Sambandsflokkurin': 'SP',\n",
    "    'Javnaðarflokkurin': 'JF',\n",
    "    'Tjóðveldi': 'TV'\n",
    "    \n",
    "}"
   ]
  },
  {
   "cell_type": "code",
   "execution_count": 355,
   "id": "2fb71b6e-42f0-4a17-b8f7-a4196d7f25de",
   "metadata": {},
   "outputs": [
    {
     "data": {
      "application/vnd.jupyter.widget-view+json": {
       "model_id": "d745ab3814db49a2b5d9855b8ff8c3d1",
       "version_major": 2,
       "version_minor": 0
      },
      "text/plain": [
       "  0%|          | 0/12 [00:00<?, ?it/s]"
      ]
     },
     "metadata": {},
     "output_type": "display_data"
    }
   ],
   "source": [
    "for old, new in tqdm(party_map.items()):\n",
    "    df['party'] = df['party'].str.replace(old, new, regex=False)"
   ]
  },
  {
   "cell_type": "code",
   "execution_count": 356,
   "id": "f0d3f2c8-b468-4743-b428-fe1020a4e821",
   "metadata": {},
   "outputs": [
    {
     "data": {
      "text/plain": [
       "S                64475\n",
       "V                57664\n",
       "DF               40973\n",
       "EL               35267\n",
       "SF               28594\n",
       "KF               23130\n",
       "RV               21643\n",
       "LA               19203\n",
       "ALT               8758\n",
       "NB                6525\n",
       "V,UFG             2348\n",
       "UFG               1875\n",
       "V,UFG,M           1726\n",
       "SF,S              1402\n",
       "IA                1290\n",
       "KD                 813\n",
       "FG                 643\n",
       "SIU                510\n",
       "JF                 505\n",
       "T                  287\n",
       "SP                 286\n",
       "SF,RV,S            190\n",
       "LA,UFG             139\n",
       "DD                 106\n",
       "RV,UFG,ALT,FG      102\n",
       "NQ                  97\n",
       "TF                  65\n",
       "M                   37\n",
       "Name: party, dtype: int64"
      ]
     },
     "execution_count": 356,
     "metadata": {},
     "output_type": "execute_result"
    }
   ],
   "source": [
    "df['party'].value_counts()"
   ]
  },
  {
   "cell_type": "code",
   "execution_count": 357,
   "id": "c7a78e2a-7153-4a47-9582-1e9f6d780865",
   "metadata": {},
   "outputs": [
    {
     "data": {
      "text/plain": [
       "(1030988, 37)"
      ]
     },
     "execution_count": 357,
     "metadata": {},
     "output_type": "execute_result"
    }
   ],
   "source": [
    "df.shape"
   ]
  },
  {
   "cell_type": "code",
   "execution_count": 359,
   "id": "acaee45c-4570-4852-a3ac-8f8547764811",
   "metadata": {},
   "outputs": [],
   "source": [
    "with open('data/clean/combined/df_combined.p', 'wb') as p:\n",
    "    pickle.dump(df, p)"
   ]
  },
  {
   "cell_type": "markdown",
   "id": "f035cc69-74b7-4488-9e2a-ba5daf74a0e8",
   "metadata": {},
   "source": [
    "## Impute missing party affiliations"
   ]
  },
  {
   "cell_type": "code",
   "execution_count": 398,
   "id": "31d9b79b-47d3-40cc-bf97-96c21cfbc1c0",
   "metadata": {},
   "outputs": [],
   "source": [
    "with open('data/clean/combined/df_combined.p', 'rb') as p:\n",
    "    df = pickle.load(p)"
   ]
  },
  {
   "cell_type": "code",
   "execution_count": 304,
   "id": "c2f83f8f-5522-43f7-a441-51fafc9afe31",
   "metadata": {},
   "outputs": [],
   "source": [
    "# TODO: Impute parties based on last known value for each individual politician\n",
    "# Set party for each party page based on mapping\n",
    "# Set type for party pages on twitter; rest is \"politician\"\n",
    "# Filter out any non-MPs based on wiki list\n",
    "# Add labels for political leaders"
   ]
  },
  {
   "cell_type": "code",
   "execution_count": 433,
   "id": "5d280ff2-c75a-4ecc-89fb-180447325172",
   "metadata": {},
   "outputs": [],
   "source": [
    "party_handles = [\n",
    "    'KonservativeDK',\n",
    "    'KU_DK',\n",
    "    'radikale',\n",
    "    'radiaklungdom',\n",
    "    'LibaralAlliance',\n",
    "    'LiberalUngdomDK',\n",
    "    'SFpolitik',\n",
    "    'SF_Ungdom',\n",
    "    'Enhedslisten',\n",
    "    'sufnet',\n",
    "    'venstredk',\n",
    "    'VUngdom',\n",
    "    'Spolitik',\n",
    "    'DSU_1920',\n",
    "    'DanskDf1995',\n",
    "    'DFUngdom',\n",
    "    'alternativet_',\n",
    "    'AlternativeUnge',\n",
    "    'NyeBorgerlige',\n",
    "    'gronalliance',\n",
    "    'KDpolitik',\n",
    "    'moderaterne_dk',\n",
    "    'friegronne'\n",
    "]"
   ]
  },
  {
   "cell_type": "code",
   "execution_count": 431,
   "id": "7cb43680-bd0d-4904-8a5e-72004c366af2",
   "metadata": {},
   "outputs": [],
   "source": [
    "df.loc[df['tw_handle'].isin(party_handles), ['level']] = 'party'"
   ]
  },
  {
   "cell_type": "code",
   "execution_count": 481,
   "id": "838e03ef-b901-4adf-bfcd-1fabb10c7397",
   "metadata": {},
   "outputs": [],
   "source": [
    "df_mps_parties = df.loc[\n",
    "    df['full_name'].isin(mps['name']) |\n",
    "    (df['level'] == 'party'),\n",
    "].reset_index(drop = True)"
   ]
  },
  {
   "cell_type": "code",
   "execution_count": 482,
   "id": "f1684969-57d4-4e47-ae00-d119c790cb1f",
   "metadata": {},
   "outputs": [
    {
     "data": {
      "text/plain": [
       "(579301, 37)"
      ]
     },
     "execution_count": 482,
     "metadata": {},
     "output_type": "execute_result"
    }
   ],
   "source": [
    "df_mps_parties.shape"
   ]
  },
  {
   "cell_type": "code",
   "execution_count": 483,
   "id": "f070f4ce-e280-4db1-b6a9-68c0482529df",
   "metadata": {},
   "outputs": [
    {
     "data": {
      "text/plain": [
       "127237    NaN\n",
       "127238    NaN\n",
       "127239    NaN\n",
       "127240    NaN\n",
       "127241    NaN\n",
       "         ... \n",
       "336329    NaN\n",
       "336330    NaN\n",
       "336331    NaN\n",
       "336332    NaN\n",
       "336333    NaN\n",
       "Name: party, Length: 48411, dtype: object"
      ]
     },
     "execution_count": 483,
     "metadata": {},
     "output_type": "execute_result"
    }
   ],
   "source": [
    "df_mps_parties.loc[\n",
    "    (df_mps_parties['level'] == 'party') &\n",
    "    df_mps_parties['party'].isna(),\n",
    "    'party'\n",
    "]"
   ]
  },
  {
   "cell_type": "code",
   "execution_count": 443,
   "id": "45396eb5-fa6d-45a9-be4a-5ba8194db432",
   "metadata": {},
   "outputs": [
    {
     "data": {
      "text/plain": [
       "16629     NaN\n",
       "16630     NaN\n",
       "16631     NaN\n",
       "16632     NaN\n",
       "16633     NaN\n",
       "         ... \n",
       "302583      S\n",
       "302584     SF\n",
       "302585      S\n",
       "302586     SF\n",
       "302587      S\n",
       "Name: party, Length: 579301, dtype: object"
      ]
     },
     "execution_count": 443,
     "metadata": {},
     "output_type": "execute_result"
    }
   ],
   "source": [
    "df_mps_parties['party']"
   ]
  },
  {
   "cell_type": "code",
   "execution_count": 523,
   "id": "7443b979-9b57-43c3-afe2-c76c03a6876f",
   "metadata": {},
   "outputs": [],
   "source": [
    "def replace_name_with_party(name, party_map):\n",
    "    for party, pattern in party_map.items():\n",
    "        if name in pattern:\n",
    "            name = name.replace(name, party)\n",
    "    \n",
    "    return name"
   ]
  },
  {
   "cell_type": "code",
   "execution_count": 525,
   "id": "7e697d0d-8f0d-41af-824b-6b5c452757b5",
   "metadata": {},
   "outputs": [
    {
     "data": {
      "text/plain": [
       "'SIU'"
      ]
     },
     "execution_count": 525,
     "metadata": {},
     "output_type": "execute_result"
    }
   ],
   "source": [
    "replace_name_with_party('Siumut', party_map)"
   ]
  },
  {
   "cell_type": "code",
   "execution_count": 484,
   "id": "c319d86d-3423-47f1-bc1d-01e1340e06b3",
   "metadata": {},
   "outputs": [
    {
     "data": {
      "application/vnd.jupyter.widget-view+json": {
       "model_id": "761289d1ccfa40c7b3be0009d50ebf0a",
       "version_major": 2,
       "version_minor": 0
      },
      "text/plain": [
       "  0%|          | 0/48411 [00:00<?, ?it/s]"
      ]
     },
     "metadata": {},
     "output_type": "display_data"
    }
   ],
   "source": [
    "names_wo_parties = (\n",
    "    df_mps_parties\n",
    "        .loc[\n",
    "                df_mps_parties['party'].isna() &\n",
    "                (df_mps_parties['level'] == 'party'),\n",
    "                'full_name'\n",
    "        ]\n",
    "    .progress_apply(lambda x: replace_name_with_party(x, party_map))\n",
    ")"
   ]
  },
  {
   "cell_type": "code",
   "execution_count": 485,
   "id": "e9555a43-8518-45c4-9628-5043006fa0f0",
   "metadata": {},
   "outputs": [
    {
     "data": {
      "text/plain": [
       "127237    SF\n",
       "127238    SF\n",
       "127239    SF\n",
       "127240    SF\n",
       "127241    SF\n",
       "          ..\n",
       "336329    SF\n",
       "336330    SF\n",
       "336331    SF\n",
       "336332    SF\n",
       "336333    SF\n",
       "Name: full_name, Length: 48411, dtype: object"
      ]
     },
     "execution_count": 485,
     "metadata": {},
     "output_type": "execute_result"
    }
   ],
   "source": [
    "names_wo_parties"
   ]
  },
  {
   "cell_type": "code",
   "execution_count": 489,
   "id": "584c06c9-2bd4-4a8c-afa4-d6af9ce635b5",
   "metadata": {},
   "outputs": [
    {
     "data": {
      "text/html": [
       "<div>\n",
       "<style scoped>\n",
       "    .dataframe tbody tr th:only-of-type {\n",
       "        vertical-align: middle;\n",
       "    }\n",
       "\n",
       "    .dataframe tbody tr th {\n",
       "        vertical-align: top;\n",
       "    }\n",
       "\n",
       "    .dataframe thead th {\n",
       "        text-align: right;\n",
       "    }\n",
       "</style>\n",
       "<table border=\"1\" class=\"dataframe\">\n",
       "  <thead>\n",
       "    <tr style=\"text-align: right;\">\n",
       "      <th></th>\n",
       "      <th>full_name</th>\n",
       "      <th>party</th>\n",
       "    </tr>\n",
       "  </thead>\n",
       "  <tbody>\n",
       "    <tr>\n",
       "      <th>0</th>\n",
       "      <td>Dennis Flydtkjær</td>\n",
       "      <td>NaN</td>\n",
       "    </tr>\n",
       "    <tr>\n",
       "      <th>1</th>\n",
       "      <td>Dennis Flydtkjær</td>\n",
       "      <td>NaN</td>\n",
       "    </tr>\n",
       "    <tr>\n",
       "      <th>2</th>\n",
       "      <td>Dennis Flydtkjær</td>\n",
       "      <td>NaN</td>\n",
       "    </tr>\n",
       "    <tr>\n",
       "      <th>3</th>\n",
       "      <td>Dennis Flydtkjær</td>\n",
       "      <td>NaN</td>\n",
       "    </tr>\n",
       "    <tr>\n",
       "      <th>4</th>\n",
       "      <td>Dennis Flydtkjær</td>\n",
       "      <td>NaN</td>\n",
       "    </tr>\n",
       "    <tr>\n",
       "      <th>...</th>\n",
       "      <td>...</td>\n",
       "      <td>...</td>\n",
       "    </tr>\n",
       "    <tr>\n",
       "      <th>579296</th>\n",
       "      <td>Mette Frederiksen</td>\n",
       "      <td>S</td>\n",
       "    </tr>\n",
       "    <tr>\n",
       "      <th>579297</th>\n",
       "      <td>Anne Valentina Berthelsen</td>\n",
       "      <td>SF</td>\n",
       "    </tr>\n",
       "    <tr>\n",
       "      <th>579298</th>\n",
       "      <td>Mette Frederiksen</td>\n",
       "      <td>S</td>\n",
       "    </tr>\n",
       "    <tr>\n",
       "      <th>579299</th>\n",
       "      <td>Anne Valentina Berthelsen</td>\n",
       "      <td>SF</td>\n",
       "    </tr>\n",
       "    <tr>\n",
       "      <th>579300</th>\n",
       "      <td>Mette Frederiksen</td>\n",
       "      <td>S</td>\n",
       "    </tr>\n",
       "  </tbody>\n",
       "</table>\n",
       "<p>579301 rows × 2 columns</p>\n",
       "</div>"
      ],
      "text/plain": [
       "                        full_name party\n",
       "0                Dennis Flydtkjær   NaN\n",
       "1                Dennis Flydtkjær   NaN\n",
       "2                Dennis Flydtkjær   NaN\n",
       "3                Dennis Flydtkjær   NaN\n",
       "4                Dennis Flydtkjær   NaN\n",
       "...                           ...   ...\n",
       "579296          Mette Frederiksen     S\n",
       "579297  Anne Valentina Berthelsen    SF\n",
       "579298          Mette Frederiksen     S\n",
       "579299  Anne Valentina Berthelsen    SF\n",
       "579300          Mette Frederiksen     S\n",
       "\n",
       "[579301 rows x 2 columns]"
      ]
     },
     "execution_count": 489,
     "metadata": {},
     "output_type": "execute_result"
    }
   ],
   "source": [
    "df_mps_parties[['full_name','party']]"
   ]
  },
  {
   "cell_type": "code",
   "execution_count": 527,
   "id": "fcfd33ea-f0f1-4f1e-ae9f-15884ecf5aef",
   "metadata": {},
   "outputs": [],
   "source": [
    "df_mps_parties['party'] = df_mps_parties['party'].fillna(names_wo_parties)"
   ]
  },
  {
   "cell_type": "code",
   "execution_count": 528,
   "id": "26c7ae28-6378-4afd-8da4-498c50cb6013",
   "metadata": {},
   "outputs": [
    {
     "data": {
      "text/plain": [
       "NaN              276836\n",
       "S                 57052\n",
       "V                 52899\n",
       "DF                41979\n",
       "EL                31659\n",
       "SF                23494\n",
       "LA                21309\n",
       "KF                18404\n",
       "RV                17713\n",
       "ALT               15725\n",
       "NB                 6853\n",
       "FG                 5514\n",
       "V,UFG              2348\n",
       "V,UFG,M            1726\n",
       "UFG                1566\n",
       "SF,S               1402\n",
       "KD                  678\n",
       "JF                  480\n",
       "SIU                 378\n",
       "SP                  280\n",
       "M                   222\n",
       "SF,RV,S             190\n",
       "DD                  149\n",
       "LA,UFG              139\n",
       "RV,UFG,ALT,FG       102\n",
       "NQ                   97\n",
       "TF                   65\n",
       "T                    26\n",
       "K                    16\n",
       "Name: party, dtype: int64"
      ]
     },
     "execution_count": 528,
     "metadata": {},
     "output_type": "execute_result"
    }
   ],
   "source": [
    "df_mps_parties['party'].value_counts(dropna = False)"
   ]
  },
  {
   "cell_type": "code",
   "execution_count": 463,
   "id": "1aa13346-807f-480f-b337-3b58316cd824",
   "metadata": {},
   "outputs": [],
   "source": [
    "party_map = {\n",
    "    'RV': ['Radikale Venstre'],\n",
    "    'V': ['Venstre', 'Venstres Ungdom'],\n",
    "    'SF': ['Socialistisk Folkeparti','SF Ungdom'],\n",
    "    'KF': ['Det Konservative Folkeparti','Konservativ Ungdom'],\n",
    "    'S': ['Socialdemokratiet','DSU'],\n",
    "    'NB': ['Nye Borgerlige'],\n",
    "    'LA': ['Liberal Alliance','Liberal Alliances Ungdom'],\n",
    "    'DF': ['Dansk Folkeparti','Dansk Folkepartis Ungdom'],\n",
    "    'EL': ['Enhedslisten','SUF - Socialistisk Ungdomsfront'],\n",
    "    'ALT': ['Alternativet','Alternativets Unge','Grøn Alliance'],\n",
    "    'FG': ['Frie Grønne'],\n",
    "    'DD': ['Danmarksdemokraterne - Inger Støjberg'],\n",
    "    'K': ['Kristendemokraterne'],\n",
    "    'M': ['Moderaterne'],\n",
    "    'IA': ['Inuit Ataqatigiit'],\n",
    "    'SIU': ['Siumut'],\n",
    "    'SP': ['Sambandsflokkurin'],\n",
    "    'JF': ['Javnaðarflokkurin'],\n",
    "    'TV': ['Tjóðveldi']\n",
    "}"
   ]
  },
  {
   "cell_type": "code",
   "execution_count": 530,
   "id": "0a8c7211-19e1-4023-b86e-540daea57a75",
   "metadata": {},
   "outputs": [
    {
     "data": {
      "text/plain": [
       "S      60\n",
       "V      48\n",
       "DF     38\n",
       "EL     19\n",
       "RV     16\n",
       "SF     16\n",
       "LA     14\n",
       "KF     13\n",
       "ALT    11\n",
       "NB      4\n",
       "SIU     2\n",
       "IA      1\n",
       "SP      1\n",
       "TV      1\n",
       "JF      1\n",
       "Name: group_name, dtype: int64"
      ]
     },
     "execution_count": 530,
     "metadata": {},
     "output_type": "execute_result"
    }
   ],
   "source": [
    "mps['group_name'].value_counts()"
   ]
  },
  {
   "cell_type": "code",
   "execution_count": 531,
   "id": "2e441bdf-14b7-4a40-9fe5-a443537728d4",
   "metadata": {},
   "outputs": [],
   "source": [
    "name2party_default = mps.set_index('name').rename(columns = {'group_name': 'party'})[['party']]"
   ]
  },
  {
   "cell_type": "code",
   "execution_count": 532,
   "id": "c63ab85f-d9a9-43d3-8ead-753bae141331",
   "metadata": {},
   "outputs": [],
   "source": [
    "df_party_imp = df_mps_parties.copy()"
   ]
  },
  {
   "cell_type": "code",
   "execution_count": 562,
   "id": "4fcf716d-1c3f-44fc-a051-a0e4254b1f2c",
   "metadata": {},
   "outputs": [],
   "source": [
    "df_party_imp.loc[df_party_imp['level'].isna(), 'level'] = 'politician'"
   ]
  },
  {
   "cell_type": "code",
   "execution_count": 546,
   "id": "446cb84a-fa47-4639-94ed-f311f96706d7",
   "metadata": {},
   "outputs": [],
   "source": [
    "df_party_imp = (\n",
    "    df_mps_parties\n",
    "        .set_index('full_name')\n",
    "        .combine_first(name2party_default)\n",
    "        .reset_index()\n",
    "        .rename(columns = {'index': 'full_name'})\n",
    ")"
   ]
  },
  {
   "cell_type": "code",
   "execution_count": 496,
   "id": "73efdda2-907f-4fbe-82d9-2c7338027b8a",
   "metadata": {},
   "outputs": [],
   "source": [
    "# TODO: Check MPs that switched parties and correct party variable for relevant timebins"
   ]
  },
  {
   "cell_type": "code",
   "execution_count": 566,
   "id": "04c08a7b-85b4-4cf0-ba13-daf6f1a2dfff",
   "metadata": {},
   "outputs": [],
   "source": [
    "df_party_imp['start_time'] = pd.to_datetime(df_party_imp['start_time'], utc = True)"
   ]
  },
  {
   "cell_type": "code",
   "execution_count": 572,
   "id": "f9f0cc49-c6fb-4401-8733-a10ca1bb8220",
   "metadata": {},
   "outputs": [
    {
     "data": {
      "text/html": [
       "<div>\n",
       "<style scoped>\n",
       "    .dataframe tbody tr th:only-of-type {\n",
       "        vertical-align: middle;\n",
       "    }\n",
       "\n",
       "    .dataframe tbody tr th {\n",
       "        vertical-align: top;\n",
       "    }\n",
       "\n",
       "    .dataframe thead th {\n",
       "        text-align: right;\n",
       "    }\n",
       "</style>\n",
       "<table border=\"1\" class=\"dataframe\">\n",
       "  <thead>\n",
       "    <tr style=\"text-align: right;\">\n",
       "      <th></th>\n",
       "      <th>doc</th>\n",
       "      <th>source</th>\n",
       "      <th>start_time</th>\n",
       "      <th>full_name</th>\n",
       "      <th>level</th>\n",
       "      <th>party</th>\n",
       "    </tr>\n",
       "  </thead>\n",
       "  <tbody>\n",
       "    <tr>\n",
       "      <th>4</th>\n",
       "      <td>[✨Sapiillutit inuiaqatigiinni peqataasarit.✨\\n...</td>\n",
       "      <td>meta</td>\n",
       "      <td>2022-09-18 00:00:00+00:00</td>\n",
       "      <td>Aki-Matilda Høegh-Dam</td>\n",
       "      <td>politician</td>\n",
       "      <td>SIU</td>\n",
       "    </tr>\n",
       "    <tr>\n",
       "      <th>622</th>\n",
       "      <td>Mange tak. Den årlige forhandling om en finans...</td>\n",
       "      <td>parliament</td>\n",
       "      <td>2018-09-06 17:09:41+00:00</td>\n",
       "      <td>Aleqa Hammond</td>\n",
       "      <td>politician</td>\n",
       "      <td>NQ</td>\n",
       "    </tr>\n",
       "    <tr>\n",
       "      <th>1774</th>\n",
       "      <td>Tak. Det åbne spørgsmål er jo, hvad Socialdemo...</td>\n",
       "      <td>parliament</td>\n",
       "      <td>2018-10-11 15:57:23+00:00</td>\n",
       "      <td>Alex Ahrendtsen</td>\n",
       "      <td>politician</td>\n",
       "      <td>DF</td>\n",
       "    </tr>\n",
       "    <tr>\n",
       "      <th>2240</th>\n",
       "      <td>Det offentlige forbrug er steget med 9 mia. kr...</td>\n",
       "      <td>twitter</td>\n",
       "      <td>2022-09-19 11:14:52+00:00</td>\n",
       "      <td>Alex Vanopslagh</td>\n",
       "      <td>politician</td>\n",
       "      <td>LA</td>\n",
       "    </tr>\n",
       "    <tr>\n",
       "      <th>6922</th>\n",
       "      <td>RT @TFKortholm: Vi er klar til valgkampen 💚🖖 S...</td>\n",
       "      <td>twitter</td>\n",
       "      <td>2022-09-19 16:55:24+00:00</td>\n",
       "      <td>Alternativet</td>\n",
       "      <td>party</td>\n",
       "      <td>ALT</td>\n",
       "    </tr>\n",
       "    <tr>\n",
       "      <th>...</th>\n",
       "      <td>...</td>\n",
       "      <td>...</td>\n",
       "      <td>...</td>\n",
       "      <td>...</td>\n",
       "      <td>...</td>\n",
       "      <td>...</td>\n",
       "    </tr>\n",
       "    <tr>\n",
       "      <th>565981</th>\n",
       "      <td>RT @AndreasBachM: 75.135 ‼️ gange tak til alle...</td>\n",
       "      <td>twitter</td>\n",
       "      <td>2022-09-19 13:45:33+00:00</td>\n",
       "      <td>Venstre</td>\n",
       "      <td>party</td>\n",
       "      <td>V</td>\n",
       "    </tr>\n",
       "    <tr>\n",
       "      <th>571351</th>\n",
       "      <td>En borgerlig statsminister forudsætter et borg...</td>\n",
       "      <td>twitter</td>\n",
       "      <td>2022-08-15 08:32:31+00:00</td>\n",
       "      <td>Venstres Ungdom</td>\n",
       "      <td>party</td>\n",
       "      <td>V</td>\n",
       "    </tr>\n",
       "    <tr>\n",
       "      <th>571498</th>\n",
       "      <td>[Jeg stiller op til bestyrelsesvalget i SK For...</td>\n",
       "      <td>meta</td>\n",
       "      <td>2022-03-25 00:00:00+00:00</td>\n",
       "      <td>Villum Christensen</td>\n",
       "      <td>politician</td>\n",
       "      <td>LA</td>\n",
       "    </tr>\n",
       "    <tr>\n",
       "      <th>572326</th>\n",
       "      <td>@JackPGB Ja, man får det dårligt 😔</td>\n",
       "      <td>twitter</td>\n",
       "      <td>2022-09-18 19:52:19+00:00</td>\n",
       "      <td>Yildiz Akdogan</td>\n",
       "      <td>politician</td>\n",
       "      <td>S</td>\n",
       "    </tr>\n",
       "    <tr>\n",
       "      <th>576300</th>\n",
       "      <td>Fantastisk nyhed for alle os, der har børn i s...</td>\n",
       "      <td>twitter</td>\n",
       "      <td>2022-09-16 07:58:16+00:00</td>\n",
       "      <td>Zenia Stampe</td>\n",
       "      <td>politician</td>\n",
       "      <td>RV</td>\n",
       "    </tr>\n",
       "  </tbody>\n",
       "</table>\n",
       "<p>244 rows × 6 columns</p>\n",
       "</div>"
      ],
      "text/plain": [
       "                                                      doc      source  \\\n",
       "4       [✨Sapiillutit inuiaqatigiinni peqataasarit.✨\\n...        meta   \n",
       "622     Mange tak. Den årlige forhandling om en finans...  parliament   \n",
       "1774    Tak. Det åbne spørgsmål er jo, hvad Socialdemo...  parliament   \n",
       "2240    Det offentlige forbrug er steget med 9 mia. kr...     twitter   \n",
       "6922    RT @TFKortholm: Vi er klar til valgkampen 💚🖖 S...     twitter   \n",
       "...                                                   ...         ...   \n",
       "565981  RT @AndreasBachM: 75.135 ‼️ gange tak til alle...     twitter   \n",
       "571351  En borgerlig statsminister forudsætter et borg...     twitter   \n",
       "571498  [Jeg stiller op til bestyrelsesvalget i SK For...        meta   \n",
       "572326                 @JackPGB Ja, man får det dårligt 😔     twitter   \n",
       "576300  Fantastisk nyhed for alle os, der har børn i s...     twitter   \n",
       "\n",
       "                      start_time              full_name       level party  \n",
       "4      2022-09-18 00:00:00+00:00  Aki-Matilda Høegh-Dam  politician   SIU  \n",
       "622    2018-09-06 17:09:41+00:00          Aleqa Hammond  politician    NQ  \n",
       "1774   2018-10-11 15:57:23+00:00        Alex Ahrendtsen  politician    DF  \n",
       "2240   2022-09-19 11:14:52+00:00        Alex Vanopslagh  politician    LA  \n",
       "6922   2022-09-19 16:55:24+00:00           Alternativet       party   ALT  \n",
       "...                          ...                    ...         ...   ...  \n",
       "565981 2022-09-19 13:45:33+00:00                Venstre       party     V  \n",
       "571351 2022-08-15 08:32:31+00:00        Venstres Ungdom       party     V  \n",
       "571498 2022-03-25 00:00:00+00:00     Villum Christensen  politician    LA  \n",
       "572326 2022-09-18 19:52:19+00:00         Yildiz Akdogan  politician     S  \n",
       "576300 2022-09-16 07:58:16+00:00           Zenia Stampe  politician    RV  \n",
       "\n",
       "[244 rows x 6 columns]"
      ]
     },
     "execution_count": 572,
     "metadata": {},
     "output_type": "execute_result"
    }
   ],
   "source": [
    "df_party_imp.loc[\n",
    "    (df_party_imp['start_time'] > '2018-07-05 00:00:00'),\n",
    "    [\n",
    "    'doc', 'source', 'start_time',\n",
    "    'full_name', 'level', 'party'\n",
    "    ]\n",
    "].drop_duplicates(subset='full_name')"
   ]
  },
  {
   "cell_type": "code",
   "execution_count": 581,
   "id": "73d4c400-ccd3-4754-a034-e42fe00f845c",
   "metadata": {},
   "outputs": [
    {
     "data": {
      "text/plain": [
       "twitter       227357\n",
       "parliament     92515\n",
       "meta           29722\n",
       "Name: source, dtype: int64"
      ]
     },
     "execution_count": 581,
     "metadata": {},
     "output_type": "execute_result"
    }
   ],
   "source": [
    "df_party_imp.loc[\n",
    "    (df_party_imp['start_time'] > '2018-07-05 00:00:00'),\n",
    "    'source'\n",
    "].value_counts()"
   ]
  },
  {
   "cell_type": "code",
   "execution_count": 576,
   "id": "e39a0995-5a51-46c1-a15d-e0dab9ba1739",
   "metadata": {},
   "outputs": [],
   "source": [
    "df_party_imp.loc[\n",
    "    (df_party_imp['start_time'] > '2018-07-05 00:00:00'),\n",
    "    [\n",
    "    'doc', 'source', 'start_time',\n",
    "    'full_name', 'level', 'party'\n",
    "    ]\n",
    "].reset_index().to_pickle('data/clean/combined/subset_party_imputed.p')"
   ]
  },
  {
   "cell_type": "markdown",
   "id": "53a6e96d-35d4-4f3b-944e-b2954e51f65b",
   "metadata": {},
   "source": [
    "____"
   ]
  },
  {
   "cell_type": "markdown",
   "id": "8fe6606e-a635-403a-b1fd-ea0983389321",
   "metadata": {},
   "source": [
    "## Fix MPs who switched parties *during* a given election period"
   ]
  },
  {
   "cell_type": "code",
   "execution_count": 5,
   "id": "df3f07ce-e2f5-4bcc-9e5d-4f26adaeb9d3",
   "metadata": {},
   "outputs": [],
   "source": [
    "df_temp = pd.read_pickle('data/clean/combined/subset_party_imputed.p')"
   ]
  },
  {
   "cell_type": "code",
   "execution_count": 6,
   "id": "1bd3e957-eea4-44db-898c-2b1a4db97656",
   "metadata": {},
   "outputs": [],
   "source": [
    "df_temp['start_time'] = pd.to_datetime(df_temp['start_time']).dt.date"
   ]
  },
  {
   "cell_type": "code",
   "execution_count": 7,
   "id": "373276db-1aee-4634-83a6-f2dbbd19de56",
   "metadata": {},
   "outputs": [],
   "source": [
    "names_to_fix = df_temp.loc[\n",
    "    df_temp['party'].str.contains(','),\n",
    "    'full_name'\n",
    "].drop_duplicates().values"
   ]
  },
  {
   "cell_type": "code",
   "execution_count": 8,
   "id": "77fea3d6-c936-472a-bbfa-52775ae4aa4b",
   "metadata": {},
   "outputs": [
    {
     "name": "stdout",
     "output_type": "stream",
     "text": [
      "['Astrid Krag' 'Inger Støjberg' 'Jesper Petersen' 'Lars Løkke Rasmussen'\n",
      " 'Simon Emil Ammitzbøll-Bille']\n"
     ]
    }
   ],
   "source": [
    "print(names_to_fix)"
   ]
  },
  {
   "cell_type": "code",
   "execution_count": 9,
   "id": "b21edc66-ef0f-4fd6-9d1b-9101424d35af",
   "metadata": {},
   "outputs": [],
   "source": [
    "def fix_single_affilitation(df, politician_name, party, period: 'tuple of dates, both inclusive'):\n",
    "    df.loc[\n",
    "        (df['full_name'] == politician_name) &\n",
    "        (df['start_time'] >= pd.Timestamp(period[0]).date()) &\n",
    "        (df['start_time'] <= pd.Timestamp(period[1]).date()),\n",
    "        'party'\n",
    "    ] = party\n",
    "    \n",
    "    return df\n",
    "\n",
    "def fix_all_affiliations(df, politician_name, affiliation_dict):\n",
    "    for party, period in affiliation_dict.items():   \n",
    "        print(f'Ascribed party {party} to {politician_name} from {period[0]} to {period[1]}')\n",
    "        \n",
    "        fix_single_affilitation(\n",
    "            df,\n",
    "            politician_name,\n",
    "            party,\n",
    "            period\n",
    "        )"
   ]
  },
  {
   "cell_type": "code",
   "execution_count": 10,
   "id": "b255ca34-72b3-4bd2-856e-578928753b6a",
   "metadata": {},
   "outputs": [],
   "source": [
    "AstridKrag_parties = {\n",
    "    'SF': ('2007-10-03', '2014-02-03'),\n",
    "    'S': ('2014-02-04', '2022-11-19')\n",
    "}\n",
    "\n",
    "IngerStøjberg_parties = {\n",
    "    'V': ('2001-11-20', '2021-02-04'),\n",
    "    'UFG': ('2021-02-05', '2021-12-21'),\n",
    "    'DD': ('2022-11-01', '2022-11-19')\n",
    "}\n",
    "\n",
    "JesperPetersen_parties = {\n",
    "    'SF': ('2007-11-13', '2013-03-20'),\n",
    "    'S': ('2013-03-21', '2022-11-19')\n",
    "}\n",
    "\n",
    "LarsLøkke_parties = {\n",
    "    'V': ('1994-09-21', '2020-12-31'),\n",
    "    'UFG': ('2021-01-01', '2022-05-18'),\n",
    "    'M': ('2022-05-19', '2022-11-19')\n",
    "}\n",
    "\n",
    "SimonEmilAmmitzbøll_parties = {\n",
    "    'RV': ('2005-02-08', '2008-10-07'),\n",
    "    'UFG': ('2008-10-08', '2009-06-15'),\n",
    "    'LA': ('2009-06-16', '2019-10-22'),\n",
    "    'UFG': ('2019-10-23', '2022-11-01')\n",
    "}\n",
    "\n",
    "\n",
    "BentBøgsted_parties = {\n",
    "    'DF': ('2001-11-20', '2022-02-21'),\n",
    "    'UFG': ('2022-02-22', '2022-08-17'),\n",
    "    'DD': ('2022-08-18', '2022-11-01')\n",
    "}\n",
    "\n",
    "HKSkibby_parties = {\n",
    "    'DF': ('2005-02-08', '2022-02-21'),\n",
    "    'UFG': ('2022-02-22', '2022-08-17'),\n",
    "    'DD': ('2022-08-18', '2022-11-19')\n",
    "}\n",
    "\n",
    "KarinaAdsbøl_parties = {\n",
    "    'DF': ('2011-09-15', '2022-02-21'),\n",
    "    'UFG': ('2022-02-22', '2022-08-17'),\n",
    "    'DD': ('2022-08-18', '2022-11-19')\n",
    "}\n",
    "\n",
    "LiseBech_parties = {\n",
    "    'DF': ('2015-06-18', '2022-02-21'),\n",
    "    'UFG': ('2022-02-22', '2022-08-17'),\n",
    "    'DD': ('2022-08-18', '2022-11-19')\n",
    "}\n",
    "\n",
    "LiselotteBlixt_parties = {\n",
    "    'DF': ('2007-11-13', '2022-02-21'),\n",
    "    'UFG': ('2022-02-22', '2022-11-01')\n",
    "}\n",
    "\n",
    "MarieKrarup_parties = {\n",
    "    'DF': ('2011-09-05', '2022-02-26'),\n",
    "    'UFG': ('2022-02-27', '2022-11-01')\n",
    "}\n",
    "\n",
    "JHThulesenDahl_parties = {\n",
    "    'DF': ('2011-09-15', '2022-06-24'),\n",
    "    'UFG': ('2022-06-25', '2022-08-17'),\n",
    "    'DD': ('2022-08-18', '2022-11-19')\n",
    "}\n",
    "\n",
    "PeterSkaarup_parties = {\n",
    "    'DF': ('1998-03-11', '2022-06-24'),\n",
    "    'UFG': ('2022-06-25', '2022-07-28'),\n",
    "    'DD': ('2022-07-29', '2022-11-19')\n",
    "}\n",
    "\n",
    "SørenEspersen_parties = {\n",
    "    'DF': ('2005-02-08', '2022-06-24'),\n",
    "    'UFG': ('2022-06-25', '2022-08-17'),\n",
    "    'DD': ('2022-08-18', '2022-11-19')   \n",
    "}\n",
    "\n",
    "DennisFlydtkjær_parties = {\n",
    "    'DF': ('2011-09-15', '2022-06-25'),\n",
    "    'UFG': ('2022-06-26', '2022-08-17'),\n",
    "    'DD': ('2022-08-18', '2022-11-19') \n",
    "}\n",
    "\n",
    "KristianThulesenDahl_parties = {\n",
    "    'DF': ('1995-10-06', '2022-06-29'),\n",
    "    'UFG': ('2022-06-30', '2022-07-31') \n",
    "}\n",
    "\n",
    "MarcusKnuth_parties = {\n",
    "    'V': ('2015-06-18', '2019-11-28'),\n",
    "    'KF': ('2022-11-29', '2022-11-01') \n",
    "}\n",
    "\n",
    "BrittBager_parties = {\n",
    "    'V': ('2015-06-18', '2021-03-23'),\n",
    "    'KF': ('2022-03-24', '2022-11-01') \n",
    "}\n",
    "\n",
    "JensRohde_parties = {\n",
    "    'V': ('1998-03-11', '2007-01-09'),\n",
    "    'RV': ('2019-06-15', '2021-01-26'),\n",
    "    'UFG': ('2021-02-27', '2021-04-26'),\n",
    "    'KD': ('2021-04-27', '2022-08-25'),\n",
    "    'UFG': ('2021-08-26', '2022-11-01')\n",
    "}\n",
    "\n",
    "IdaAuken_parties = {\n",
    "    'SF': ('2007-11-13', '2014-02-03'),\n",
    "    'RV': ('2014-02-04', '2021-02-02'),\n",
    "    'S': ('2021-02-03', '2022-11-19')\n",
    "}\n",
    "\n",
    "UffeElbæk_parties = {\n",
    "    'RV': ('2011-09-15', '2013-09-16'),\n",
    "    'UFG': ('2013-09-17', '2015-03-12'),\n",
    "    'ALT': ('2015-03-13', '2020-03-09'),\n",
    "    'UFG': ('2020-03-10', '2021-11-02'),\n",
    "    'FG': ('2021-11-03', '2022-09-16'),\n",
    "    'ALT': ('2022-09-17', '2022-11-01')\n",
    "}\n",
    "\n",
    "SikandarSiddique_parties = {\n",
    "    'ALT': ('2019-06-05', '2020-03-09'),\n",
    "    'UFG': ('2020-03-10', '2021-11-02'),\n",
    "    'FG': ('2021-11-03', '2022-11-01')\n",
    "}\n",
    "\n",
    "SusanneZimmer_parties = {\n",
    "    'ALT': ('2019-06-05', '2020-03-09'),\n",
    "    'UFG': ('2020-03-10', '2021-11-02'),\n",
    "    'FG': ('2021-11-03', '2022-11-01')\n",
    "}\n",
    "\n",
    "RasmusNordqvist_parties = {\n",
    "    'ALT': ('2015-06-18', '2020-03-09'),\n",
    "    'UFG': ('2020-03-10', '2020-05-12'),\n",
    "    'SF': ('2020-05-13', '2022-11-01')\n",
    "}\n",
    "\n",
    "OrlaØsterby_parties = {\n",
    "    'KF': ('2016-12-05', '2020-12-03'),\n",
    "    'UFG': ('2020-12-04', '2022-11-01')\n",
    "}\n",
    "\n",
    "NaserKhader_parties = {\n",
    "    'LA': ('2007-07-10', '2009-01-04'),\n",
    "    'UFG': ('2009-01-05', '2009-03-17'),\n",
    "    'KF': ('2009-03-18', '2021-08-18'),\n",
    "    'UFG': ('2021-08-19', '2022-11-01')\n",
    "}\n",
    "\n",
    "fixed_affiliations = {\n",
    "    'Astrid Krag': AstridKrag_parties,\n",
    "    'Inger Støjberg': IngerStøjberg_parties,\n",
    "    'Jesper Petersen': JesperPetersen_parties,\n",
    "    'Lars Løkke Rasmussen': LarsLøkke_parties,\n",
    "    'Simon Emil Ammitzbøll-Bille': SimonEmilAmmitzbøll_parties,\n",
    "    'Bent Bøgsted': BentBøgsted_parties,\n",
    "    'Hans Kristian Skibby': HKSkibby_parties,\n",
    "    'Karina Adsbøl': KarinaAdsbøl_parties,\n",
    "    'Lise Bech': LiseBech_parties,\n",
    "    'Liselotte Blixt': LiselotteBlixt_parties,\n",
    "    'Jens Henrik Thulesen Dahl': JHThulesenDahl_parties,\n",
    "    'Peter Skaarup': PeterSkaarup_parties,\n",
    "    'Søren Espersen': SørenEspersen_parties,\n",
    "    'Dennis Flydtkjær': DennisFlydtkjær_parties,\n",
    "    'Kristian Thulesen Dahl': KristianThulesenDahl_parties,\n",
    "    'Marcus Knuth': MarcusKnuth_parties,\n",
    "    'Britt Bager': BrittBager_parties,\n",
    "    'Jens Rohde': JensRohde_parties,\n",
    "    'Ida Auken': IdaAuken_parties,\n",
    "    'Uffe Elbæk': UffeElbæk_parties,\n",
    "    'Sikandar Siddique': SikandarSiddique_parties,\n",
    "    'Susanne Zimmer': SusanneZimmer_parties,\n",
    "    'Rasmus Nordqvist': RasmusNordqvist_parties,\n",
    "    'Orla Østerby': OrlaØsterby_parties,\n",
    "    'Naser Khader': NaserKhader_parties\n",
    "}"
   ]
  },
  {
   "cell_type": "code",
   "execution_count": 11,
   "id": "c9eff8c8-c533-4078-8fef-48d6b0d42a12",
   "metadata": {},
   "outputs": [
    {
     "data": {
      "application/vnd.jupyter.widget-view+json": {
       "model_id": "9b514bf6cd9d4db58b17dffa6270a149",
       "version_major": 2,
       "version_minor": 0
      },
      "text/plain": [
       "  0%|          | 0/25 [00:00<?, ?it/s]"
      ]
     },
     "metadata": {},
     "output_type": "display_data"
    },
    {
     "name": "stdout",
     "output_type": "stream",
     "text": [
      "Ascribed party SF to Astrid Krag from 2007-10-03 to 2014-02-03\n",
      "Ascribed party S to Astrid Krag from 2014-02-04 to 2022-11-19\n",
      "Ascribed party V to Inger Støjberg from 2001-11-20 to 2021-02-04\n",
      "Ascribed party UFG to Inger Støjberg from 2021-02-05 to 2021-12-21\n",
      "Ascribed party DD to Inger Støjberg from 2022-11-01 to 2022-11-19\n",
      "Ascribed party SF to Jesper Petersen from 2007-11-13 to 2013-03-20\n",
      "Ascribed party S to Jesper Petersen from 2013-03-21 to 2022-11-19\n",
      "Ascribed party V to Lars Løkke Rasmussen from 1994-09-21 to 2020-12-31\n",
      "Ascribed party UFG to Lars Løkke Rasmussen from 2021-01-01 to 2022-05-18\n",
      "Ascribed party M to Lars Løkke Rasmussen from 2022-05-19 to 2022-11-19\n",
      "Ascribed party RV to Simon Emil Ammitzbøll-Bille from 2005-02-08 to 2008-10-07\n",
      "Ascribed party UFG to Simon Emil Ammitzbøll-Bille from 2019-10-23 to 2022-11-01\n",
      "Ascribed party LA to Simon Emil Ammitzbøll-Bille from 2009-06-16 to 2019-10-22\n",
      "Ascribed party DF to Bent Bøgsted from 2001-11-20 to 2022-02-21\n",
      "Ascribed party UFG to Bent Bøgsted from 2022-02-22 to 2022-08-17\n",
      "Ascribed party DD to Bent Bøgsted from 2022-08-18 to 2022-11-01\n",
      "Ascribed party DF to Hans Kristian Skibby from 2005-02-08 to 2022-02-21\n",
      "Ascribed party UFG to Hans Kristian Skibby from 2022-02-22 to 2022-08-17\n",
      "Ascribed party DD to Hans Kristian Skibby from 2022-08-18 to 2022-11-19\n",
      "Ascribed party DF to Karina Adsbøl from 2011-09-15 to 2022-02-21\n",
      "Ascribed party UFG to Karina Adsbøl from 2022-02-22 to 2022-08-17\n",
      "Ascribed party DD to Karina Adsbøl from 2022-08-18 to 2022-11-19\n",
      "Ascribed party DF to Lise Bech from 2015-06-18 to 2022-02-21\n",
      "Ascribed party UFG to Lise Bech from 2022-02-22 to 2022-08-17\n",
      "Ascribed party DD to Lise Bech from 2022-08-18 to 2022-11-19\n",
      "Ascribed party DF to Liselotte Blixt from 2007-11-13 to 2022-02-21\n",
      "Ascribed party UFG to Liselotte Blixt from 2022-02-22 to 2022-11-01\n",
      "Ascribed party DF to Jens Henrik Thulesen Dahl from 2011-09-15 to 2022-06-24\n",
      "Ascribed party UFG to Jens Henrik Thulesen Dahl from 2022-06-25 to 2022-08-17\n",
      "Ascribed party DD to Jens Henrik Thulesen Dahl from 2022-08-18 to 2022-11-19\n",
      "Ascribed party DF to Peter Skaarup from 1998-03-11 to 2022-06-24\n",
      "Ascribed party UFG to Peter Skaarup from 2022-06-25 to 2022-07-28\n",
      "Ascribed party DD to Peter Skaarup from 2022-07-29 to 2022-11-19\n",
      "Ascribed party DF to Søren Espersen from 2005-02-08 to 2022-06-24\n",
      "Ascribed party UFG to Søren Espersen from 2022-06-25 to 2022-08-17\n",
      "Ascribed party DD to Søren Espersen from 2022-08-18 to 2022-11-19\n",
      "Ascribed party DF to Dennis Flydtkjær from 2011-09-15 to 2022-06-25\n",
      "Ascribed party UFG to Dennis Flydtkjær from 2022-06-26 to 2022-08-17\n",
      "Ascribed party DD to Dennis Flydtkjær from 2022-08-18 to 2022-11-19\n",
      "Ascribed party DF to Kristian Thulesen Dahl from 1995-10-06 to 2022-06-29\n",
      "Ascribed party UFG to Kristian Thulesen Dahl from 2022-06-30 to 2022-07-31\n",
      "Ascribed party V to Marcus Knuth from 2015-06-18 to 2019-11-28\n",
      "Ascribed party KF to Marcus Knuth from 2022-11-29 to 2022-11-01\n",
      "Ascribed party V to Britt Bager from 2015-06-18 to 2021-03-23\n",
      "Ascribed party KF to Britt Bager from 2022-03-24 to 2022-11-01\n",
      "Ascribed party V to Jens Rohde from 1998-03-11 to 2007-01-09\n",
      "Ascribed party RV to Jens Rohde from 2019-06-15 to 2021-01-26\n",
      "Ascribed party UFG to Jens Rohde from 2021-08-26 to 2022-11-01\n",
      "Ascribed party KD to Jens Rohde from 2021-04-27 to 2022-08-25\n",
      "Ascribed party SF to Ida Auken from 2007-11-13 to 2014-02-03\n",
      "Ascribed party RV to Ida Auken from 2014-02-04 to 2021-02-02\n",
      "Ascribed party S to Ida Auken from 2021-02-03 to 2022-11-19\n",
      "Ascribed party RV to Uffe Elbæk from 2011-09-15 to 2013-09-16\n",
      "Ascribed party UFG to Uffe Elbæk from 2020-03-10 to 2021-11-02\n",
      "Ascribed party ALT to Uffe Elbæk from 2022-09-17 to 2022-11-01\n",
      "Ascribed party FG to Uffe Elbæk from 2021-11-03 to 2022-09-16\n",
      "Ascribed party ALT to Sikandar Siddique from 2019-06-05 to 2020-03-09\n",
      "Ascribed party UFG to Sikandar Siddique from 2020-03-10 to 2021-11-02\n",
      "Ascribed party FG to Sikandar Siddique from 2021-11-03 to 2022-11-01\n",
      "Ascribed party ALT to Susanne Zimmer from 2019-06-05 to 2020-03-09\n",
      "Ascribed party UFG to Susanne Zimmer from 2020-03-10 to 2021-11-02\n",
      "Ascribed party FG to Susanne Zimmer from 2021-11-03 to 2022-11-01\n",
      "Ascribed party ALT to Rasmus Nordqvist from 2015-06-18 to 2020-03-09\n",
      "Ascribed party UFG to Rasmus Nordqvist from 2020-03-10 to 2020-05-12\n",
      "Ascribed party SF to Rasmus Nordqvist from 2020-05-13 to 2022-11-01\n",
      "Ascribed party KF to Orla Østerby from 2016-12-05 to 2020-12-03\n",
      "Ascribed party UFG to Orla Østerby from 2020-12-04 to 2022-11-01\n",
      "Ascribed party LA to Naser Khader from 2007-07-10 to 2009-01-04\n",
      "Ascribed party UFG to Naser Khader from 2021-08-19 to 2022-11-01\n",
      "Ascribed party KF to Naser Khader from 2009-03-18 to 2021-08-18\n"
     ]
    }
   ],
   "source": [
    "for name, affiliations in tqdm(fixed_affiliations.items()):\n",
    "    fix_all_affiliations(df_temp, name, affiliations)"
   ]
  },
  {
   "cell_type": "code",
   "execution_count": 12,
   "id": "63431093-5ebf-4023-af28-48584ae55f0d",
   "metadata": {},
   "outputs": [],
   "source": [
    "df_temp.loc[df_temp['party'] == 'K', 'party'] = 'KD'"
   ]
  },
  {
   "cell_type": "code",
   "execution_count": 15,
   "id": "87fbc241-4b0f-4369-b778-abaaa1252623",
   "metadata": {},
   "outputs": [
    {
     "data": {
      "text/plain": [
       "S      80003\n",
       "V      58671\n",
       "EL     37903\n",
       "SF     33652\n",
       "RV     28769\n",
       "DF     26535\n",
       "KF     22295\n",
       "LA     18853\n",
       "ALT    14528\n",
       "FG     10668\n",
       "NB      8939\n",
       "UFG     6743\n",
       "KD       935\n",
       "SIU      269\n",
       "M        222\n",
       "JF       216\n",
       "DD       193\n",
       "SP       157\n",
       "NQ        43\n",
       "Name: party, dtype: int64"
      ]
     },
     "execution_count": 15,
     "metadata": {},
     "output_type": "execute_result"
    }
   ],
   "source": [
    "df_temp['party'].value_counts(dropna = False)\n"
   ]
  },
  {
   "cell_type": "code",
   "execution_count": 16,
   "id": "f4f6bbfd-65ec-46fb-982a-c3b826fb603d",
   "metadata": {},
   "outputs": [],
   "source": [
    "# Unpack docs in list format\n",
    "def unpack_listed_doc(doc):\n",
    "    \n",
    "    if type(doc) == list:\n",
    "        out_doc = ''.join(doc)\n",
    "    else:\n",
    "        out_doc = doc\n",
    "    \n",
    "    return out_doc"
   ]
  },
  {
   "cell_type": "code",
   "execution_count": 17,
   "id": "835b60a9-ae7e-450e-895d-65c777f67426",
   "metadata": {},
   "outputs": [
    {
     "data": {
      "application/vnd.jupyter.widget-view+json": {
       "model_id": "b6d3a3e428ea4d018afb5f158ac519e4",
       "version_major": 2,
       "version_minor": 0
      },
      "text/plain": [
       "  0%|          | 0/349594 [00:00<?, ?it/s]"
      ]
     },
     "metadata": {},
     "output_type": "display_data"
    }
   ],
   "source": [
    "df_temp['doc'] = df_temp['doc'].progress_apply(lambda x: unpack_listed_doc(x))"
   ]
  },
  {
   "cell_type": "code",
   "execution_count": 18,
   "id": "cb4e319e-e76e-4ae1-a7c3-a61397243ac2",
   "metadata": {},
   "outputs": [],
   "source": [
    "df_temp.to_pickle('data/clean/combined/subset_party_imputed_v2.p')"
   ]
  },
  {
   "cell_type": "markdown",
   "id": "6f05cd16-eb7b-4d55-bf6c-fe23dae9ba12",
   "metadata": {},
   "source": [
    "_____"
   ]
  },
  {
   "cell_type": "markdown",
   "id": "c8e74ca5-9487-4f40-8157-8abe87c4e406",
   "metadata": {},
   "source": [
    "## `FuzzyJoin` test (OLD)"
   ]
  },
  {
   "cell_type": "code",
   "execution_count": 7,
   "id": "0063febe-86a1-4b4c-b803-fe3f5908b231",
   "metadata": {},
   "outputs": [],
   "source": [
    "with open('data/clean/twitter/full_tweet_df_19-09-22.p', 'rb') as p:\n",
    "    tweet_df = pickle.load(p)"
   ]
  },
  {
   "cell_type": "code",
   "execution_count": 13,
   "id": "e3addbad-ba58-490a-82bb-56c725f6e052",
   "metadata": {},
   "outputs": [],
   "source": [
    "ad_files = ['politician_ads_v1']#, 'party_ads_v1']\n",
    "ad_dfs = []\n",
    "\n",
    "for ad_file in ad_files:\n",
    "    with open(f'data/clean/meta/{ad_file}.p', 'rb') as p:\n",
    "        ad_dfs.append(pickle.load(p))\n",
    "\n",
    "ad_df = pd.concat(ad_dfs).reset_index(drop = True)"
   ]
  },
  {
   "cell_type": "code",
   "execution_count": 15,
   "id": "11b9f66d-bf79-4ff3-9ee7-a5c2780b8a36",
   "metadata": {},
   "outputs": [
    {
     "name": "stdout",
     "output_type": "stream",
     "text": [
      "0    Andreas Steenberg\n",
      "1    Andreas Steenberg\n",
      "2    Andreas Steenberg\n",
      "3    Andreas Steenberg\n",
      "4    Andreas Steenberg\n",
      "Name: page_name, dtype: object\n",
      "0    AndersKuhnau\n",
      "1    AndersKuhnau\n",
      "2    AndersKuhnau\n",
      "3    AndersKuhnau\n",
      "4    AndersKuhnau\n",
      "Name: screen_name, dtype: object\n"
     ]
    }
   ],
   "source": [
    "print(ad_df['page_name'].head())\n",
    "print(tweet_df['screen_name'].head())"
   ]
  },
  {
   "cell_type": "code",
   "execution_count": 2,
   "id": "5840cdff-2844-42bd-861e-75238b03d103",
   "metadata": {},
   "outputs": [],
   "source": [
    "def fuzzy_merge(df_1, df_2, key1, key2, threshold=75, limit=2):\n",
    "\n",
    "    s = df_2[key2].tolist()\n",
    "    \n",
    "    m = df_1[key1].progress_apply(lambda x: process.extract(x, s, limit=limit))    \n",
    "    df_1['matches'] = m\n",
    "    \n",
    "    m2 = df_1['matches'].progress_apply(lambda x: ', '.join([i[0] for i in x if i[1] >= threshold]))\n",
    "    df_1['matches'] = m2\n",
    "    \n",
    "    return df_1"
   ]
  },
  {
   "cell_type": "code",
   "execution_count": 58,
   "id": "6eae1d72-49ff-4fcf-8578-cfbb61d089d4",
   "metadata": {},
   "outputs": [],
   "source": [
    "twitter_names = tweet_df[['screen_name']].drop_duplicates()\n",
    "meta_names = ad_df[['page_name']].drop_duplicates()"
   ]
  },
  {
   "cell_type": "code",
   "execution_count": 59,
   "id": "fe48cc45-ef68-4945-8bea-71b00cad5ec1",
   "metadata": {},
   "outputs": [
    {
     "data": {
      "application/vnd.jupyter.widget-view+json": {
       "model_id": "d639792b687c42baa2292c82f277a811",
       "version_major": 2,
       "version_minor": 0
      },
      "text/plain": [
       "  0%|          | 0/638 [00:00<?, ?it/s]"
      ]
     },
     "metadata": {},
     "output_type": "display_data"
    },
    {
     "data": {
      "application/vnd.jupyter.widget-view+json": {
       "model_id": "c796945600234f828543840ec0bbd6f3",
       "version_major": 2,
       "version_minor": 0
      },
      "text/plain": [
       "  0%|          | 0/638 [00:00<?, ?it/s]"
      ]
     },
     "metadata": {},
     "output_type": "display_data"
    }
   ],
   "source": [
    "fuzzy_test = fuzzy_merge(twitter_names, meta_names, 'screen_name', 'page_name')"
   ]
  },
  {
   "cell_type": "code",
   "execution_count": 61,
   "id": "d9cbc496-29c3-40ee-97e0-aed35c2545a1",
   "metadata": {},
   "outputs": [
    {
     "data": {
      "text/html": [
       "<div>\n",
       "<style scoped>\n",
       "    .dataframe tbody tr th:only-of-type {\n",
       "        vertical-align: middle;\n",
       "    }\n",
       "\n",
       "    .dataframe tbody tr th {\n",
       "        vertical-align: top;\n",
       "    }\n",
       "\n",
       "    .dataframe thead th {\n",
       "        text-align: right;\n",
       "    }\n",
       "</style>\n",
       "<table border=\"1\" class=\"dataframe\">\n",
       "  <thead>\n",
       "    <tr style=\"text-align: right;\">\n",
       "      <th></th>\n",
       "      <th>screen_name</th>\n",
       "      <th>matches</th>\n",
       "    </tr>\n",
       "  </thead>\n",
       "  <tbody>\n",
       "    <tr>\n",
       "      <th>4032</th>\n",
       "      <td>simonkollerup</td>\n",
       "      <td>Simon Kollerup</td>\n",
       "    </tr>\n",
       "    <tr>\n",
       "      <th>7369</th>\n",
       "      <td>stinuslindgreen</td>\n",
       "      <td>Stinus Lindgreen - Radikale Venstre</td>\n",
       "    </tr>\n",
       "    <tr>\n",
       "      <th>10569</th>\n",
       "      <td>KirstenNormann</td>\n",
       "      <td>Kirsten Normann Andersen</td>\n",
       "    </tr>\n",
       "    <tr>\n",
       "      <th>27849</th>\n",
       "      <td>MadsAndersenC</td>\n",
       "      <td>Hans Andersen</td>\n",
       "    </tr>\n",
       "    <tr>\n",
       "      <th>28017</th>\n",
       "      <td>SorenPape</td>\n",
       "      <td>Søren Pape Poulsen</td>\n",
       "    </tr>\n",
       "    <tr>\n",
       "      <th>30838</th>\n",
       "      <td>SorenEggeRasmus</td>\n",
       "      <td>Søren Egge Rasmussen</td>\n",
       "    </tr>\n",
       "    <tr>\n",
       "      <th>33595</th>\n",
       "      <td>RasmusPrehn</td>\n",
       "      <td>Rasmus Prehn</td>\n",
       "    </tr>\n",
       "    <tr>\n",
       "      <th>36796</th>\n",
       "      <td>MarieKrarup</td>\n",
       "      <td>Marie Krarup</td>\n",
       "    </tr>\n",
       "    <tr>\n",
       "      <th>39173</th>\n",
       "      <td>AlexVanopslagh</td>\n",
       "      <td>Alex Vanopslagh</td>\n",
       "    </tr>\n",
       "    <tr>\n",
       "      <th>51719</th>\n",
       "      <td>Kristianthdahl</td>\n",
       "      <td>Kristian Thulesen Dahl</td>\n",
       "    </tr>\n",
       "    <tr>\n",
       "      <th>59136</th>\n",
       "      <td>Kristensenberth</td>\n",
       "      <td>Kenneth Kristensen Berth</td>\n",
       "    </tr>\n",
       "    <tr>\n",
       "      <th>61898</th>\n",
       "      <td>Trinebramsen</td>\n",
       "      <td>Trine Bramsen</td>\n",
       "    </tr>\n",
       "    <tr>\n",
       "      <th>68290</th>\n",
       "      <td>AnniMatthiesen</td>\n",
       "      <td>Anni Matthiesen</td>\n",
       "    </tr>\n",
       "    <tr>\n",
       "      <th>78909</th>\n",
       "      <td>EllemannKaren</td>\n",
       "      <td>Karen Ellemann</td>\n",
       "    </tr>\n",
       "    <tr>\n",
       "      <th>79695</th>\n",
       "      <td>JuulMona</td>\n",
       "      <td>Mona Juul</td>\n",
       "    </tr>\n",
       "    <tr>\n",
       "      <th>82895</th>\n",
       "      <td>madsfuglede</td>\n",
       "      <td>Mads Fuglede</td>\n",
       "    </tr>\n",
       "    <tr>\n",
       "      <th>87366</th>\n",
       "      <td>LouiseElholm</td>\n",
       "      <td>Louise Schack Elholm</td>\n",
       "    </tr>\n",
       "    <tr>\n",
       "      <th>88487</th>\n",
       "      <td>annette_lind</td>\n",
       "      <td>Annette Lind</td>\n",
       "    </tr>\n",
       "    <tr>\n",
       "      <th>89548</th>\n",
       "      <td>AndersKronborg</td>\n",
       "      <td>Anders Kronborg</td>\n",
       "    </tr>\n",
       "    <tr>\n",
       "      <th>92658</th>\n",
       "      <td>sofiecn</td>\n",
       "      <td>Sofie Carsten Nielsen</td>\n",
       "    </tr>\n",
       "    <tr>\n",
       "      <th>10472</th>\n",
       "      <td>BjBrandenborg</td>\n",
       "      <td>Bjørn Brandenborg</td>\n",
       "    </tr>\n",
       "    <tr>\n",
       "      <th>12608</th>\n",
       "      <td>KHegaard</td>\n",
       "      <td>Kristian Hegaard, Morten Løkkegaard</td>\n",
       "    </tr>\n",
       "    <tr>\n",
       "      <th>29987</th>\n",
       "      <td>MFThomasJensen</td>\n",
       "      <td>Thomas Jensen</td>\n",
       "    </tr>\n",
       "    <tr>\n",
       "      <th>36758</th>\n",
       "      <td>HavOrla</td>\n",
       "      <td>Orla Hav</td>\n",
       "    </tr>\n",
       "    <tr>\n",
       "      <th>40230</th>\n",
       "      <td>brittbager</td>\n",
       "      <td>Britt Bager</td>\n",
       "    </tr>\n",
       "    <tr>\n",
       "      <th>51014</th>\n",
       "      <td>PernilleVermund</td>\n",
       "      <td>Pernille Vermund</td>\n",
       "    </tr>\n",
       "    <tr>\n",
       "      <th>53679</th>\n",
       "      <td>AnneValentina</td>\n",
       "      <td>Anne Valentina Berthelsen</td>\n",
       "    </tr>\n",
       "    <tr>\n",
       "      <th>56040</th>\n",
       "      <td>SikandaSIDDIQUE</td>\n",
       "      <td>Sikandar Siddique</td>\n",
       "    </tr>\n",
       "    <tr>\n",
       "      <th>64087</th>\n",
       "      <td>RabjergMadsen</td>\n",
       "      <td>Christian Rabjerg Madsen</td>\n",
       "    </tr>\n",
       "    <tr>\n",
       "      <th>66711</th>\n",
       "      <td>ChristofferMels</td>\n",
       "      <td>Christoffer Aagaard Melson</td>\n",
       "    </tr>\n",
       "    <tr>\n",
       "      <th>68648</th>\n",
       "      <td>larsclilleholt</td>\n",
       "      <td>Lars Chr. Lilleholt</td>\n",
       "    </tr>\n",
       "    <tr>\n",
       "      <th>70232</th>\n",
       "      <td>friegronne</td>\n",
       "      <td>Susanne Zimmer  MF Frie Grønne, Susanne Zimmer...</td>\n",
       "    </tr>\n",
       "    <tr>\n",
       "      <th>73432</th>\n",
       "      <td>rasmushelveg</td>\n",
       "      <td>Rasmus Helveg Petersen</td>\n",
       "    </tr>\n",
       "    <tr>\n",
       "      <th>78135</th>\n",
       "      <td>olebirkolesen</td>\n",
       "      <td>Ole Birk Olesen</td>\n",
       "    </tr>\n",
       "    <tr>\n",
       "      <th>81336</th>\n",
       "      <td>lauralindahl</td>\n",
       "      <td>Laura Lindahl</td>\n",
       "    </tr>\n",
       "    <tr>\n",
       "      <th>10765</th>\n",
       "      <td>RStoklund</td>\n",
       "      <td>Rasmus Stoklund</td>\n",
       "    </tr>\n",
       "    <tr>\n",
       "      <th>13985</th>\n",
       "      <td>KofodPeter</td>\n",
       "      <td>Peter Kofod - Dansk Folkeparti</td>\n",
       "    </tr>\n",
       "    <tr>\n",
       "      <th>16400</th>\n",
       "      <td>peter_seier</td>\n",
       "      <td>Peter Seier Christensen</td>\n",
       "    </tr>\n",
       "    <tr>\n",
       "      <th>27306</th>\n",
       "      <td>nvillumsen</td>\n",
       "      <td>Nikolaj Villumsen</td>\n",
       "    </tr>\n",
       "    <tr>\n",
       "      <th>30506</th>\n",
       "      <td>SrenSndergaard3</td>\n",
       "      <td>Søren Søndergaard</td>\n",
       "    </tr>\n",
       "    <tr>\n",
       "      <th>32384</th>\n",
       "      <td>Astridkrag</td>\n",
       "      <td>Astrid Krag</td>\n",
       "    </tr>\n",
       "    <tr>\n",
       "      <th>36859</th>\n",
       "      <td>birgitte_vind</td>\n",
       "      <td>Birgitte Vind, Birgitte Vinds side</td>\n",
       "    </tr>\n",
       "    <tr>\n",
       "      <th>41337</th>\n",
       "      <td>JoachimBOlsen</td>\n",
       "      <td>Joachim B. Olsen</td>\n",
       "    </tr>\n",
       "    <tr>\n",
       "      <th>54428</th>\n",
       "      <td>JaneHeitmann</td>\n",
       "      <td>MF Jane Heitmann</td>\n",
       "    </tr>\n",
       "    <tr>\n",
       "      <th>57108</th>\n",
       "      <td>charlottebroman</td>\n",
       "      <td>Charlotte Broman Mølbæk</td>\n",
       "    </tr>\n",
       "    <tr>\n",
       "      <th>62060</th>\n",
       "      <td>pelledragsted</td>\n",
       "      <td>Pelle Dragsted</td>\n",
       "    </tr>\n",
       "    <tr>\n",
       "      <th>79235</th>\n",
       "      <td>LauritzenK</td>\n",
       "      <td>Karsten Lauritzen</td>\n",
       "    </tr>\n",
       "    <tr>\n",
       "      <th>752</th>\n",
       "      <td>Torstenschack</td>\n",
       "      <td>Torsten Schack Pedersen</td>\n",
       "    </tr>\n",
       "    <tr>\n",
       "      <th>7957</th>\n",
       "      <td>radikale</td>\n",
       "      <td>Stinus Lindgreen - Radikale Venstre</td>\n",
       "    </tr>\n",
       "    <tr>\n",
       "      <th>16066</th>\n",
       "      <td>venstredk</td>\n",
       "      <td>Stinus Lindgreen - Radikale Venstre</td>\n",
       "    </tr>\n",
       "  </tbody>\n",
       "</table>\n",
       "</div>"
      ],
      "text/plain": [
       "           screen_name                                            matches\n",
       "4032     simonkollerup                                     Simon Kollerup\n",
       "7369   stinuslindgreen                Stinus Lindgreen - Radikale Venstre\n",
       "10569   KirstenNormann                           Kirsten Normann Andersen\n",
       "27849    MadsAndersenC                                      Hans Andersen\n",
       "28017        SorenPape                                 Søren Pape Poulsen\n",
       "30838  SorenEggeRasmus                               Søren Egge Rasmussen\n",
       "33595      RasmusPrehn                                       Rasmus Prehn\n",
       "36796      MarieKrarup                                       Marie Krarup\n",
       "39173   AlexVanopslagh                                    Alex Vanopslagh\n",
       "51719   Kristianthdahl                             Kristian Thulesen Dahl\n",
       "59136  Kristensenberth                           Kenneth Kristensen Berth\n",
       "61898     Trinebramsen                                      Trine Bramsen\n",
       "68290   AnniMatthiesen                                    Anni Matthiesen\n",
       "78909    EllemannKaren                                     Karen Ellemann\n",
       "79695         JuulMona                                          Mona Juul\n",
       "82895      madsfuglede                                       Mads Fuglede\n",
       "87366     LouiseElholm                               Louise Schack Elholm\n",
       "88487     annette_lind                                       Annette Lind\n",
       "89548   AndersKronborg                                    Anders Kronborg\n",
       "92658          sofiecn                              Sofie Carsten Nielsen\n",
       "10472    BjBrandenborg                                  Bjørn Brandenborg\n",
       "12608         KHegaard                Kristian Hegaard, Morten Løkkegaard\n",
       "29987   MFThomasJensen                                      Thomas Jensen\n",
       "36758          HavOrla                                           Orla Hav\n",
       "40230       brittbager                                        Britt Bager\n",
       "51014  PernilleVermund                                   Pernille Vermund\n",
       "53679    AnneValentina                          Anne Valentina Berthelsen\n",
       "56040  SikandaSIDDIQUE                                  Sikandar Siddique\n",
       "64087    RabjergMadsen                           Christian Rabjerg Madsen\n",
       "66711  ChristofferMels                         Christoffer Aagaard Melson\n",
       "68648   larsclilleholt                                Lars Chr. Lilleholt\n",
       "70232       friegronne  Susanne Zimmer  MF Frie Grønne, Susanne Zimmer...\n",
       "73432     rasmushelveg                             Rasmus Helveg Petersen\n",
       "78135    olebirkolesen                                    Ole Birk Olesen\n",
       "81336     lauralindahl                                      Laura Lindahl\n",
       "10765        RStoklund                                    Rasmus Stoklund\n",
       "13985       KofodPeter                     Peter Kofod - Dansk Folkeparti\n",
       "16400      peter_seier                            Peter Seier Christensen\n",
       "27306       nvillumsen                                  Nikolaj Villumsen\n",
       "30506  SrenSndergaard3                                  Søren Søndergaard\n",
       "32384       Astridkrag                                        Astrid Krag\n",
       "36859    birgitte_vind                 Birgitte Vind, Birgitte Vinds side\n",
       "41337    JoachimBOlsen                                   Joachim B. Olsen\n",
       "54428     JaneHeitmann                                   MF Jane Heitmann\n",
       "57108  charlottebroman                            Charlotte Broman Mølbæk\n",
       "62060    pelledragsted                                     Pelle Dragsted\n",
       "79235       LauritzenK                                  Karsten Lauritzen\n",
       "752      Torstenschack                            Torsten Schack Pedersen\n",
       "7957          radikale                Stinus Lindgreen - Radikale Venstre\n",
       "16066        venstredk                Stinus Lindgreen - Radikale Venstre"
      ]
     },
     "execution_count": 61,
     "metadata": {},
     "output_type": "execute_result"
    }
   ],
   "source": [
    "fuzzy_test.loc[fuzzy_test['matches'] != ''].tail(50)"
   ]
  },
  {
   "cell_type": "code",
   "execution_count": 5,
   "id": "4bfa1608-004a-4d5b-8856-95bdd3b28408",
   "metadata": {},
   "outputs": [
    {
     "data": {
      "text/plain": [
       "71"
      ]
     },
     "execution_count": 5,
     "metadata": {},
     "output_type": "execute_result"
    }
   ],
   "source": [
    "fuzz.ratio('Søren Pape Poulsen', 'Søren Pape')"
   ]
  },
  {
   "cell_type": "code",
   "execution_count": null,
   "id": "b155c098-b250-420b-9238-92a63c6b2a07",
   "metadata": {},
   "outputs": [],
   "source": [
    "p"
   ]
  }
 ],
 "metadata": {
  "kernelspec": {
   "display_name": "Python 3.7.12 ('base')",
   "language": "python",
   "name": "python3"
  },
  "language_info": {
   "codemirror_mode": {
    "name": "ipython",
    "version": 3
   },
   "file_extension": ".py",
   "mimetype": "text/x-python",
   "name": "python",
   "nbconvert_exporter": "python",
   "pygments_lexer": "ipython3",
   "version": "3.7.12"
  },
  "vscode": {
   "interpreter": {
    "hash": "df4b203bae24b8e546cac67fa1e5ed4e3ec7bcadeabf2e990fec7c51e0eb834e"
   }
  }
 },
 "nbformat": 4,
 "nbformat_minor": 5
}
