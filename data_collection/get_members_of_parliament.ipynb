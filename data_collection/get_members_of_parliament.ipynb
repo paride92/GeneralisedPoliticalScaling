{
 "cells": [
  {
   "cell_type": "markdown",
   "id": "6cde23e6-dc71-421c-b057-183d839dc980",
   "metadata": {},
   "source": [
    "Get all members of parliament elected from 2015 onwards in order to look up their Facebook pages and retrieve IDs. IDs will be used to query the Meta Ads Library. I would rather have avoided this step, but it is necessary since unconstrained queries of the Ads Library have proved computationally infeasible/extremely time-consuming.\n",
    "\n",
    "Lists of names are scraped from Wikipedia. Supplementary vote data may be collected from KMDvalg later."
   ]
  },
  {
   "cell_type": "code",
   "execution_count": 25,
   "id": "d8ebeab7-6999-4cdd-8a86-0a7371304508",
   "metadata": {},
   "outputs": [],
   "source": [
    "import requests\n",
    "import pandas as pd\n",
    "from tqdm.notebook import tqdm\n",
    "from bs4 import BeautifulSoup"
   ]
  },
  {
   "cell_type": "code",
   "execution_count": 4,
   "id": "4edb2be6-88a7-4aeb-8fbe-6c6f666367ea",
   "metadata": {},
   "outputs": [],
   "source": [
    "election_years = ['2015', '2019']"
   ]
  },
  {
   "cell_type": "code",
   "execution_count": 57,
   "id": "c2a227d9-9c8c-43d4-aace-2b0cc71dba80",
   "metadata": {},
   "outputs": [],
   "source": [
    "def get_elected_politicians(election_years):\n",
    "    \n",
    "    base_url = 'https://da.wikipedia.org/wiki/Folketingsmedlemmer_valgt_i_'\n",
    "    wiki_tables = []\n",
    "\n",
    "    for year in tqdm(election_years, desc = 'Election years collected'):\n",
    "\n",
    "        url = base_url + year\n",
    "        response = requests.request('GET', url)\n",
    "\n",
    "        soup = BeautifulSoup(response.content, 'html.parser')\n",
    "        tables = soup.find_all('table', class_ = \"wikitable sortable\")\n",
    "\n",
    "        df = pd.read_html(str(tables))[1]   \n",
    "        df['election_data_year'] = year\n",
    "        wiki_tables.append(df)\n",
    "        \n",
    "    return wiki_tables"
   ]
  },
  {
   "cell_type": "code",
   "execution_count": 58,
   "id": "6a943ef8-82a1-4220-9cf8-19fbc4ef6e1d",
   "metadata": {},
   "outputs": [
    {
     "data": {
      "application/vnd.jupyter.widget-view+json": {
       "model_id": "d5ca083e37864daaa352db98d96a24af",
       "version_major": 2,
       "version_minor": 0
      },
      "text/plain": [
       "Election years collected:   0%|          | 0/2 [00:00<?, ?it/s]"
      ]
     },
     "metadata": {},
     "output_type": "display_data"
    }
   ],
   "source": [
    "tables = get_elected_politicians(election_years)"
   ]
  },
  {
   "cell_type": "code",
   "execution_count": 75,
   "id": "2fc616a9-4b77-4949-9b0d-362e305f1233",
   "metadata": {},
   "outputs": [],
   "source": [
    "df_complete = (\n",
    "    pd.concat(tables)\n",
    "        .drop_duplicates(subset = 'Navn', keep = 'last')\n",
    "        .sort_values(by = 'Navn')\n",
    "        .reset_index(drop = True)\n",
    "        .rename(columns = {\n",
    "            'Navn': 'name',\n",
    "            'Fødselsår': 'birth_year',\n",
    "            'Parti': 'group_name',\n",
    "            'Storkreds': 'electoral_region',\n",
    "            'Uddannelse': 'education',\n",
    "            'Personlige stemmer': 'personal_votes'\n",
    "        })\n",
    ")"
   ]
  },
  {
   "cell_type": "code",
   "execution_count": 77,
   "id": "f39d64ff-7fca-4804-9aee-426e8029dc6d",
   "metadata": {},
   "outputs": [],
   "source": [
    "df_complete.to_excel('data/raw/parliament/MP_names_15_19.xlsx', index = False)"
   ]
  },
  {
   "cell_type": "code",
   "execution_count": null,
   "id": "28bccee6-6cd0-4f22-870e-2b13f94adf14",
   "metadata": {},
   "outputs": [],
   "source": []
  }
 ],
 "metadata": {
  "kernelspec": {
   "display_name": "Python 3 (ipykernel)",
   "language": "python",
   "name": "python3"
  },
  "language_info": {
   "codemirror_mode": {
    "name": "ipython",
    "version": 3
   },
   "file_extension": ".py",
   "mimetype": "text/x-python",
   "name": "python",
   "nbconvert_exporter": "python",
   "pygments_lexer": "ipython3",
   "version": "3.7.12"
  }
 },
 "nbformat": 4,
 "nbformat_minor": 5
}
